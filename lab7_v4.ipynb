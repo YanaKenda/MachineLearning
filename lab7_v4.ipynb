{
 "cells": [
  {
   "cell_type": "code",
   "execution_count": 0,
   "metadata": {
    "colab": {},
    "colab_type": "code",
    "id": "1L3ELdtZDsYY"
   },
   "outputs": [],
   "source": [
    "import numpy as np\n",
    "import pandas as pd\n",
    "\n",
    "import torch\n",
    "import torch.nn as nn\n",
    "import torch.optim as optim\n",
    "import torch.utils.data as data_utils\n",
    "import torch.nn.utils.rnn as rnn_utils\n",
    "from torch.autograd import Variable\n",
    "\n",
    "from torchtext.vocab import Vectors\n",
    "from sklearn.model_selection import train_test_split\n",
    "from mosestokenizer import *\n",
    "from sacremoses import MosesTokenizer\n",
    "from html import unescape\n",
    "from tqdm import tqdm\n",
    "\n",
    "#используем cuda для более быстрых вычислений в программе\n",
    "device = torch.device('cuda') if torch.cuda.is_available else torch.device('cpu')\n",
    "torch.cuda.manual_seed(42);\n",
    "torch.manual_seed(42);"
   ]
  },
  {
   "cell_type": "code",
   "execution_count": 0,
   "metadata": {
    "colab": {},
    "colab_type": "code",
    "id": "_rY5WfGtDsYb"
   },
   "outputs": [],
   "source": [
    "df = pd.read_csv('./sample_data/train.csv')"
   ]
  },
  {
   "cell_type": "code",
   "execution_count": 12,
   "metadata": {
    "colab": {
     "base_uri": "https://localhost:8080/",
     "height": 54
    },
    "colab_type": "code",
    "id": "LQh09QeSDsYd",
    "outputId": "f656baac-fd8b-4553-b422-662fef15cc9b"
   },
   "outputs": [
    {
     "data": {
      "text/plain": [
       "\"You probably all already know this by now, but 5 additional episodes never aired can be viewed on ABC.com I've watched a lot of television over the years and this is possibly my favorite show, ever. It's a crime that this beautifully written and acted show was canceled. The actors that played Laura, Whit, Carlos, Mae, Damian, Anya and omg, Steven Caseman - are all incredible and so natural in those roles. Even the kids are great. Wonderful show. So sad that it's gone. Of course I wonder about the reasons it was canceled. There is no way I'll let myself believe that Ms. Moynahan's pregnancy had anything to do with it. It was in the perfect time slot in this market. I've watched all the episodes again on ABC.com - I hope they all come out on DVD some day. Thanks for reading.\""
      ]
     },
     "execution_count": 12,
     "metadata": {
      "tags": []
     },
     "output_type": "execute_result"
    }
   ],
   "source": [
    "df.loc[4]['text']"
   ]
  },
  {
   "cell_type": "markdown",
   "metadata": {
    "colab_type": "text",
    "id": "q7E8Fn3yDsYg"
   },
   "source": [
    "Введем следующие правила для работы с текстом:\n",
    "1. Начало каждого примера - xxbos. Конец примера - xxeos.\n",
    "2. Конец предложения внутри примера будет обозначаться - xxsep.\n",
    "2. Загравные буквы обозначаем - xxmaj. Данная метка добавляется перед заглавной буквой перед конвертацией в прописные буквы. \n",
    "3. Цитаты - xxquo.\n",
    "4. Будет использоваться Moses tokenizer.\n",
    "5. html.unescape() используется для работы со специальными символами."
   ]
  },
  {
   "cell_type": "code",
   "execution_count": 0,
   "metadata": {
    "colab": {},
    "colab_type": "code",
    "id": "6wPoTlagDsYh"
   },
   "outputs": [],
   "source": [
    "moses = MosesTokenizer()\n",
    "\n",
    "def process(s, join=True):\n",
    "    tokens = [unescape(t) for t in moses.tokenize(s)]\n",
    "    n_tokens = []\n",
    "    for i, token in enumerate(tokens):\n",
    "        if i == 0:\n",
    "            n_tokens.append('xxbos')\n",
    "            n_tokens.append(token.lower().replace('.', ''))\n",
    "        else:\n",
    "            if token == '.':\n",
    "                n_tokens.append('xxsep')\n",
    "            elif token[0] == '\\'' or token[0] == '\"':\n",
    "                n_tokens.append('xxquo')\n",
    "            elif token[0].isupper():\n",
    "                n_tokens.append('xxmaj')\n",
    "                n_tokens.append(token.lower().replace('.', ''))\n",
    "            else:\n",
    "                n_tokens.append(token.lower().replace('.', ''))\n",
    "    n_tokens.append('xxeos')\n",
    "    \n",
    "    if join:\n",
    "        return \" \".join(n_tokens)\n",
    "    return n_tokens"
   ]
  },
  {
   "cell_type": "code",
   "execution_count": 14,
   "metadata": {
    "colab": {
     "base_uri": "https://localhost:8080/",
     "height": 34
    },
    "colab_type": "code",
    "id": "9kfZS905DsYj",
    "outputId": "9980984c-0d23-4b6b-95f3-b0a8a81ef9cd"
   },
   "outputs": [
    {
     "name": "stderr",
     "output_type": "stream",
     "text": [
      "100%|██████████| 25000/25000 [01:18<00:00, 319.05it/s]\n"
     ]
    }
   ],
   "source": [
    "#Проводим обработку текста для всего датасета и делаем метки целевых значений\n",
    "li = []\n",
    "for text in tqdm(list(df['text'])):\n",
    "    li.append(process(text))\n",
    "y = list(df['sentiment'])\n",
    "    \n",
    "#Разделяем данные на обучающую и валидационную выборки в соотношении 0.25.\n",
    "#Обучающая выборака: 18750 \n",
    "#Валидационная выборка: 6250\n",
    "X_train, X_test, y_train, y_test = train_test_split(li, y, random_state=42)"
   ]
  },
  {
   "cell_type": "markdown",
   "metadata": {
    "colab_type": "text",
    "id": "P3JO6aDJDsYl"
   },
   "source": [
    "Чтобы конверитровать слова в индексы будем использовать словарь word2idx. И словарь idx2word - для обратной конвертации.\n",
    "Также вводим следующие токены:\n",
    "1. xxunk - неизвестные слова в тестовой выборке данных.\n",
    "2. xxpad - для обозначения отступов."
   ]
  },
  {
   "cell_type": "code",
   "execution_count": 15,
   "metadata": {
    "colab": {
     "base_uri": "https://localhost:8080/",
     "height": 34
    },
    "colab_type": "code",
    "id": "x-1B8bpqDsYm",
    "outputId": "a5aeaa1f-0b51-4aa2-a20c-1a0984422fb8"
   },
   "outputs": [
    {
     "name": "stderr",
     "output_type": "stream",
     "text": [
      "100%|██████████| 18750/18750 [00:01<00:00, 17603.47it/s]\n"
     ]
    }
   ],
   "source": [
    "vocab = ['xxunk', 'xxpad', 'xxbos', 'xxeos', 'xxmaj', 'xxsep', 'xxquo']\n",
    "word2idx = {vocab[i]:i for i in range(7)}\n",
    "vocab = set(vocab)\n",
    "i = 7\n",
    "\n",
    "#Пополняем словарь индексированными значениями из обучающей выборки\n",
    "for line in tqdm(X_train):\n",
    "    tokens = line.split()\n",
    "    for token in tokens:\n",
    "        if token not in vocab:\n",
    "            vocab.add(token)\n",
    "            word2idx[token] = i\n",
    "            i += 1\n",
    "            \n",
    "#Получаем ключи токенов в словаре\n",
    "idx2word = {i:  word for i, word in enumerate(word2idx.keys())}\n",
    "\n",
    "#Получаем длину словаря и классы словара\n",
    "vocab_sz = len(vocab)\n",
    "classes = ['positive', 'negative']"
   ]
  },
  {
   "cell_type": "markdown",
   "metadata": {
    "colab_type": "text",
    "id": "zzY-RUejDsYo"
   },
   "source": [
    "Выполняем серилализицию для конвертации текста в индексы."
   ]
  },
  {
   "cell_type": "code",
   "execution_count": 16,
   "metadata": {
    "colab": {
     "base_uri": "https://localhost:8080/",
     "height": 51
    },
    "colab_type": "code",
    "id": "3arCx6fhDsYp",
    "outputId": "00e0f376-2daf-4aff-c134-a676606829ef"
   },
   "outputs": [
    {
     "name": "stderr",
     "output_type": "stream",
     "text": [
      "100%|██████████| 18750/18750 [00:01<00:00, 11140.05it/s]\n",
      "100%|██████████| 6250/6250 [00:00<00:00, 11057.04it/s]\n"
     ]
    }
   ],
   "source": [
    "def serialize(sentence):\n",
    "    return torch.LongTensor([word2idx[token] if token in vocab else word2idx['xxunk'] for token in sentence.split()])\n",
    "\n",
    "#Сериализация данных обучающей и тестовой выборки\n",
    "X_train = [serialize(s) for s in tqdm(X_train)]\n",
    "X_test = [serialize(s) for s in tqdm(X_test)]"
   ]
  },
  {
   "cell_type": "markdown",
   "metadata": {
    "colab_type": "text",
    "id": "07ZXTn8bDsYr"
   },
   "source": [
    "X_train и X_test представляют собой список тензеров, каждый содержащий последовательность индексов. Каждый индекс соответствует слову в словаре данных. Например:"
   ]
  },
  {
   "cell_type": "code",
   "execution_count": 17,
   "metadata": {
    "colab": {
     "base_uri": "https://localhost:8080/",
     "height": 102
    },
    "colab_type": "code",
    "id": "iDNpCnggDsYr",
    "outputId": "d6f07da3-4f92-4423-8150-ead86b646aca"
   },
   "outputs": [
    {
     "data": {
      "text/plain": [
       "tensor([ 2,  7,  4,  8,  9, 10, 11, 12, 13, 14, 15, 16, 17, 18, 19, 20, 21, 22,\n",
       "        18, 23,  5,  4, 24,  4, 25,  9, 11, 26, 27, 14, 28, 29, 30, 11, 31, 32,\n",
       "        33, 34, 35, 36, 37,  5,  4, 38, 14,  4, 39,  6, 11, 40, 41, 14, 33, 42,\n",
       "         4, 39,  6, 43,  5,  4, 16, 14, 44, 45, 46, 47, 14, 48, 49, 14, 50, 15,\n",
       "        51, 52, 53,  5,  4, 54,  6, 55, 56, 54,  5,  3])"
      ]
     },
     "execution_count": 17,
     "metadata": {
      "tags": []
     },
     "output_type": "execute_result"
    }
   ],
   "source": [
    "X_train[0]"
   ]
  },
  {
   "cell_type": "markdown",
   "metadata": {
    "colab_type": "text",
    "id": "iRovAT6oDsYt"
   },
   "source": [
    "Реализуем разделение на мини-батчи для использования в обучении."
   ]
  },
  {
   "cell_type": "code",
   "execution_count": 0,
   "metadata": {
    "colab": {},
    "colab_type": "code",
    "id": "3TA55IzhDsYu"
   },
   "outputs": [],
   "source": [
    "def make_batches(x, y, padding_value, bs=32, random_state=-1):\n",
    "    size = len(x)\n",
    "    batch_size = bs\n",
    "    np.random.seed(random_state)\n",
    "    #выполяем произвольную перестановку последовательности\n",
    "    perm = np.random.permutation(size)\n",
    "    \n",
    "    iterator = []\n",
    "    \n",
    "    for i in range(0, size, batch_size):\n",
    "        batch_idx = perm[i:i+batch_size] #Создаем пакет с кол-вом индексов, равных bs\n",
    "        x_ = [x[i] for i in batch_idx]\n",
    "        y_ = [y[i] for i in batch_idx]\n",
    "        \n",
    "        #Сортируем данные по длине в убывающем порядке\n",
    "        x_, y_ = zip(*sorted(zip(x_, y_), key=lambda b: len(b[0]), reverse=True))\n",
    "        \n",
    "        #Конвертируем в тензоры. Добавляем паддинг в последовательность\n",
    "        l_ = torch.IntTensor([len(b) for b in x_])\n",
    "        x_ = rnn_utils.pad_sequence(x_, batch_first=True, padding_value=padding_value).t()\n",
    "        y_ = torch.LongTensor(y_)\n",
    "    \n",
    "        iterator.append((x_, y_, l_))\n",
    "    \n",
    "    return iterator"
   ]
  },
  {
   "cell_type": "code",
   "execution_count": 0,
   "metadata": {
    "colab": {},
    "colab_type": "code",
    "id": "OBsdhpZaDsYw"
   },
   "outputs": [],
   "source": [
    "#Применим разделение на мини-батчи.\n",
    "batch_size = 64\n",
    "padding_value = word2idx['xxpad']\n",
    "\n",
    "train_loader = make_batches(X_train, y_train, padding_value=padding_value, bs=batch_size, random_state=42)\n",
    "test_loader =  make_batches(X_test, y_test, padding_value=padding_value, bs=batch_size, random_state=42)"
   ]
  },
  {
   "cell_type": "markdown",
   "metadata": {
    "colab_type": "text",
    "id": "iyHJSFgqDsYy"
   },
   "source": [
    "Пример полученного мини-батча для обучающей выборки:"
   ]
  },
  {
   "cell_type": "code",
   "execution_count": 20,
   "metadata": {
    "colab": {
     "base_uri": "https://localhost:8080/",
     "height": 323
    },
    "colab_type": "code",
    "id": "OMyuj-zzDsYz",
    "outputId": "875457ad-223b-472a-918b-7aff71798411"
   },
   "outputs": [
    {
     "name": "stdout",
     "output_type": "stream",
     "text": [
      "tensor([[    2,     2,     2,  ...,     2,     2,     2],\n",
      "        [   11,    44, 15130,  ...,    39,    39,  3730],\n",
      "        [  584,    45,    36,  ...,   326,   672,    18],\n",
      "        ...,\n",
      "        [ 1806,     1,     1,  ...,     1,     1,     1],\n",
      "        [  386,     1,     1,  ...,     1,     1,     1],\n",
      "        [    3,     1,     1,  ...,     1,     1,     1]])\n",
      "x shape: torch.Size([949, 64])\n",
      "tensor([0, 0, 0, 0, 1, 1, 0, 0, 1, 1, 0, 0, 1, 1, 1, 1, 1, 0, 0, 0, 0, 0, 1, 0,\n",
      "        0, 1, 0, 1, 1, 1, 1, 1, 0, 1, 0, 1, 0, 1, 0, 1, 0, 0, 1, 0, 1, 1, 1, 1,\n",
      "        1, 0, 1, 1, 0, 1, 0, 0, 0, 0, 0, 0, 1, 0, 0, 1])\n",
      "y shape: torch.Size([64])\n",
      "tensor([949, 925, 805, 751, 676, 596, 576, 569, 557, 506, 443, 436, 435, 430,\n",
      "        385, 383, 356, 353, 336, 333, 315, 307, 294, 285, 275, 270, 267, 264,\n",
      "        258, 256, 254, 250, 244, 241, 233, 224, 222, 219, 211, 205, 204, 193,\n",
      "        193, 192, 191, 183, 183, 180, 179, 179, 173, 171, 169, 165, 157, 156,\n",
      "        156, 145, 141, 111,  92,  72,  62,  60], dtype=torch.int32)\n",
      "l shape: torch.Size([64])\n"
     ]
    }
   ],
   "source": [
    "x, y, l = train_loader[0]\n",
    "\n",
    "print(x)\n",
    "print(\"x shape:\", x.shape)\n",
    "print(y)\n",
    "print(\"y shape:\", y.shape)\n",
    "print(l)\n",
    "print(\"l shape:\", l.shape)"
   ]
  },
  {
   "cell_type": "markdown",
   "metadata": {},
   "source": [
    "Таким образом, x - транспонированная матрица дополненных последовательностей. Размерность (949, 64) получается из того, что самая длинная последовательность в батче 949 токенов, а размер батча задан 64.\n",
    "\n",
    "y - тензор, содержащий метки. l - тензор, содержащий первоначальную последовательность данных по длине. "
   ]
  },
  {
   "cell_type": "code",
   "execution_count": 0,
   "metadata": {
    "colab": {},
    "colab_type": "code",
    "id": "JS-mzLBiDsY1"
   },
   "outputs": [],
   "source": [
    "embedding = nn.Embedding(vocab_sz, 300)"
   ]
  },
  {
   "cell_type": "code",
   "execution_count": 22,
   "metadata": {
    "colab": {
     "base_uri": "https://localhost:8080/",
     "height": 884
    },
    "colab_type": "code",
    "id": "yhbDSKZKDsY4",
    "outputId": "17a4c360-9181-40fa-c88e-c172fcd8fd45"
   },
   "outputs": [
    {
     "name": "stdout",
     "output_type": "stream",
     "text": [
      "Output shape: torch.Size([949, 64, 300])\n",
      "tensor([[[ 0.4982, -1.2000,  0.1271,  ..., -0.3867,  0.9578, -0.8225],\n",
      "         [ 0.4982, -1.2000,  0.1271,  ..., -0.3867,  0.9578, -0.8225],\n",
      "         [ 0.4982, -1.2000,  0.1271,  ..., -0.3867,  0.9578, -0.8225],\n",
      "         ...,\n",
      "         [ 0.4982, -1.2000,  0.1271,  ..., -0.3867,  0.9578, -0.8225],\n",
      "         [ 0.4982, -1.2000,  0.1271,  ..., -0.3867,  0.9578, -0.8225],\n",
      "         [ 0.4982, -1.2000,  0.1271,  ..., -0.3867,  0.9578, -0.8225]],\n",
      "\n",
      "        [[-0.7104, -0.2730,  0.8718,  ..., -0.2636,  0.9189,  0.1502],\n",
      "         [ 1.2626, -2.6988,  1.1426,  ..., -0.6646,  0.6527, -0.9550],\n",
      "         [ 1.2716, -0.7555,  1.3774,  ...,  0.7194,  0.6065,  0.4343],\n",
      "         ...,\n",
      "         [ 0.9046,  1.0088,  0.7888,  ..., -1.8062,  0.6957, -0.5605],\n",
      "         [ 0.9046,  1.0088,  0.7888,  ..., -1.8062,  0.6957, -0.5605],\n",
      "         [-1.7563,  1.2177, -0.6656,  ...,  0.6533, -0.4488, -0.6777]],\n",
      "\n",
      "        [[-0.9203, -1.3010, -1.6578,  ...,  1.6093, -0.6787,  1.1509],\n",
      "         [-0.9141,  0.3930, -2.3449,  ...,  1.2167, -0.7928, -0.1998],\n",
      "         [ 0.8965, -0.9253, -0.0886,  ..., -0.9788, -0.7890,  1.8835],\n",
      "         ...,\n",
      "         [ 0.5206,  0.9556,  0.0049,  ..., -0.7344, -0.1458, -0.6564],\n",
      "         [-1.9365, -0.2640, -0.5347,  ...,  1.1247, -0.7690,  0.8815],\n",
      "         [ 0.3266, -0.4993, -1.4715,  ..., -1.7244,  1.6173, -0.9299]],\n",
      "\n",
      "        ...,\n",
      "\n",
      "        [[-0.8455,  0.0120,  0.3902,  ...,  0.4693, -0.5957,  0.9508],\n",
      "         [-0.0318,  0.1016,  1.3433,  ...,  0.3130,  0.8050, -1.1134],\n",
      "         [-0.0318,  0.1016,  1.3433,  ...,  0.3130,  0.8050, -1.1134],\n",
      "         ...,\n",
      "         [-0.0318,  0.1016,  1.3433,  ...,  0.3130,  0.8050, -1.1134],\n",
      "         [-0.0318,  0.1016,  1.3433,  ...,  0.3130,  0.8050, -1.1134],\n",
      "         [-0.0318,  0.1016,  1.3433,  ...,  0.3130,  0.8050, -1.1134]],\n",
      "\n",
      "        [[ 0.1125, -1.0147, -0.0571,  ..., -0.9760,  1.4110, -0.4437],\n",
      "         [-0.0318,  0.1016,  1.3433,  ...,  0.3130,  0.8050, -1.1134],\n",
      "         [-0.0318,  0.1016,  1.3433,  ...,  0.3130,  0.8050, -1.1134],\n",
      "         ...,\n",
      "         [-0.0318,  0.1016,  1.3433,  ...,  0.3130,  0.8050, -1.1134],\n",
      "         [-0.0318,  0.1016,  1.3433,  ...,  0.3130,  0.8050, -1.1134],\n",
      "         [-0.0318,  0.1016,  1.3433,  ...,  0.3130,  0.8050, -1.1134]],\n",
      "\n",
      "        [[-2.3908,  0.3222,  1.8754,  ...,  1.7561,  0.2113,  1.4860],\n",
      "         [-0.0318,  0.1016,  1.3433,  ...,  0.3130,  0.8050, -1.1134],\n",
      "         [-0.0318,  0.1016,  1.3433,  ...,  0.3130,  0.8050, -1.1134],\n",
      "         ...,\n",
      "         [-0.0318,  0.1016,  1.3433,  ...,  0.3130,  0.8050, -1.1134],\n",
      "         [-0.0318,  0.1016,  1.3433,  ...,  0.3130,  0.8050, -1.1134],\n",
      "         [-0.0318,  0.1016,  1.3433,  ...,  0.3130,  0.8050, -1.1134]]],\n",
      "       grad_fn=<EmbeddingBackward>)\n"
     ]
    }
   ],
   "source": [
    "out = embedding(x)\n",
    "print(\"Output shape:\", out.shape)\n",
    "print(out)"
   ]
  },
  {
   "cell_type": "code",
   "execution_count": 23,
   "metadata": {
    "colab": {
     "base_uri": "https://localhost:8080/",
     "height": 170
    },
    "colab_type": "code",
    "id": "SEcVnUUrDsY6",
    "outputId": "5a5ffb4a-35f1-49cd-9f66-3a8d16a910aa"
   },
   "outputs": [
    {
     "name": "stdout",
     "output_type": "stream",
     "text": [
      "Shape of the first item in the output: torch.Size([64, 300])\n",
      "tensor([[ 0.4982, -1.2000,  0.1271,  ..., -0.3867,  0.9578, -0.8225],\n",
      "        [ 0.4982, -1.2000,  0.1271,  ..., -0.3867,  0.9578, -0.8225],\n",
      "        [ 0.4982, -1.2000,  0.1271,  ..., -0.3867,  0.9578, -0.8225],\n",
      "        ...,\n",
      "        [ 0.4982, -1.2000,  0.1271,  ..., -0.3867,  0.9578, -0.8225],\n",
      "        [ 0.4982, -1.2000,  0.1271,  ..., -0.3867,  0.9578, -0.8225],\n",
      "        [ 0.4982, -1.2000,  0.1271,  ..., -0.3867,  0.9578, -0.8225]],\n",
      "       grad_fn=<SelectBackward>)\n"
     ]
    }
   ],
   "source": [
    "print(\"Shape of the first item in the output:\", out[0].shape)\n",
    "print(out[0])"
   ]
  },
  {
   "cell_type": "code",
   "execution_count": 0,
   "metadata": {
    "colab": {},
    "colab_type": "code",
    "id": "1M7xKeAvDsY8"
   },
   "outputs": [],
   "source": [
    "rnn = nn.LSTM(300, 128)"
   ]
  },
  {
   "cell_type": "code",
   "execution_count": 25,
   "metadata": {
    "colab": {
     "base_uri": "https://localhost:8080/",
     "height": 51
    },
    "colab_type": "code",
    "id": "oJlcIehWDsY-",
    "outputId": "8839727d-f0c0-41b6-b09d-03f981352642"
   },
   "outputs": [
    {
     "name": "stdout",
     "output_type": "stream",
     "text": [
      "Embedded output shape: torch.Size([949, 64, 300])\n",
      "Packed output shape: torch.Size([19601, 300])\n"
     ]
    }
   ],
   "source": [
    "(hidden, cell) = torch.zeros(1, 64, 128), torch.zeros(1, 64, 128)\n",
    "out = embedding(x)\n",
    "print(\"Embedded output shape:\", out.shape)\n",
    "\n",
    "out = rnn_utils.pack_padded_sequence(out, l)\n",
    "print(\"Packed output shape:\", out.data.shape)\n",
    "\n",
    "out, (hidden, cell) = rnn(out, (hidden, cell))"
   ]
  },
  {
   "cell_type": "code",
   "execution_count": 26,
   "metadata": {
    "colab": {
     "base_uri": "https://localhost:8080/",
     "height": 34
    },
    "colab_type": "code",
    "id": "Lq_4w2QuDsZB",
    "outputId": "ea75bd40-816c-49d7-c7c0-5b02be87e0c1"
   },
   "outputs": [
    {
     "data": {
      "text/plain": [
       "torch.Size([1, 64, 128])"
      ]
     },
     "execution_count": 26,
     "metadata": {
      "tags": []
     },
     "output_type": "execute_result"
    }
   ],
   "source": [
    "hidden.shape"
   ]
  },
  {
   "cell_type": "code",
   "execution_count": 27,
   "metadata": {
    "colab": {
     "base_uri": "https://localhost:8080/",
     "height": 170
    },
    "colab_type": "code",
    "id": "9ySLGV6cDsZC",
    "outputId": "c4b05d97-8ff4-4981-c625-42be30364c51"
   },
   "outputs": [
    {
     "name": "stdout",
     "output_type": "stream",
     "text": [
      "Final timestep shape: torch.Size([64, 128])\n",
      "tensor([[ 0.0630,  0.0918,  0.0179,  ...,  0.0378,  0.0810,  0.2163],\n",
      "        [-0.0101,  0.0880,  0.0519,  ...,  0.0954,  0.0803,  0.2292],\n",
      "        [ 0.0385,  0.2314,  0.0846,  ...,  0.0659,  0.1056,  0.0205],\n",
      "        ...,\n",
      "        [ 0.0256,  0.1860,  0.0535,  ...,  0.0956,  0.1263, -0.0291],\n",
      "        [ 0.0131,  0.1697,  0.0570,  ...,  0.0898,  0.0796,  0.0112],\n",
      "        [ 0.0392,  0.0518,  0.0605,  ...,  0.0416,  0.0479,  0.3196]],\n",
      "       grad_fn=<SliceBackward>)\n"
     ]
    }
   ],
   "source": [
    "out = hidden[-1, :, :]\n",
    "print(\"Final timestep shape:\", out.shape)\n",
    "print(out)"
   ]
  },
  {
   "cell_type": "code",
   "execution_count": 28,
   "metadata": {
    "colab": {
     "base_uri": "https://localhost:8080/",
     "height": 119
    },
    "colab_type": "code",
    "id": "ZpPbx3gFDsZE",
    "outputId": "2f419960-251b-41c3-e3a5-ba8df67541a3"
   },
   "outputs": [
    {
     "name": "stdout",
     "output_type": "stream",
     "text": [
      "Shape of output: torch.Size([64, 2])\n",
      "tensor([[0.4619, 0.5381],\n",
      "        [0.4756, 0.5244],\n",
      "        [0.4783, 0.5217],\n",
      "        [0.4659, 0.5341],\n",
      "        [0.4530, 0.5470]], grad_fn=<SliceBackward>)\n"
     ]
    }
   ],
   "source": [
    "fc = nn.Linear(128, 2) # Initialize with 128 units and 2 output units\n",
    "out = torch.softmax(fc(out), dim=1)\n",
    "print(\"Shape of output:\", out.shape)\n",
    "print(out[:5]) # Print the first five probabilities"
   ]
  },
  {
   "cell_type": "markdown",
   "metadata": {
    "colab_type": "text",
    "id": "ZFibVZCGDsZG"
   },
   "source": [
    "Классификационная модель LSTM"
   ]
  },
  {
   "cell_type": "code",
   "execution_count": 0,
   "metadata": {
    "colab": {},
    "colab_type": "code",
    "id": "tz4YF57xDsZG"
   },
   "outputs": [],
   "source": [
    "class LSTMClassifier(nn.Module):\n",
    "    def __init__(self, vocab_sz, embedding_dim, hidden_dim, output_dim):\n",
    "        super(LSTMClassifier, self).__init__()\n",
    "        self.embedding = nn.Embedding(vocab_sz, embedding_dim)\n",
    "        self.rnn = nn.LSTM(embedding_dim, hidden_dim)\n",
    "        self.fc = nn.Linear(hidden_dim, output_dim)\n",
    "        self.hidden_dim = hidden_dim\n",
    "        \n",
    "    def init_hidden(self, bs):\n",
    "        return torch.zeros(1, bs, self.hidden_dim), torch.zeros(1, bs, self.hidden_dim)\n",
    "        \n",
    "    def forward(self, X, hidden, cell, lengths):\n",
    "        out = self.embedding(X)\n",
    "        out = rnn_utils.pack_padded_sequence(out, lengths)\n",
    "        out, (hidden, cell) = self.rnn(out, (hidden, cell))\n",
    "        out = hidden[-1, :, :]\n",
    "        out = torch.log_softmax(self.fc(out), dim=1)\n",
    "        return out, (hidden, cell)"
   ]
  },
  {
   "cell_type": "code",
   "execution_count": 0,
   "metadata": {
    "colab": {},
    "colab_type": "code",
    "id": "qAk-ZZNbDsZI"
   },
   "outputs": [],
   "source": [
    "model = LSTMClassifier(vocab_sz=vocab_sz, embedding_dim=300, hidden_dim=128, output_dim=2)\n",
    "criterion = nn.CrossEntropyLoss()\n",
    "\n",
    "# Make a forward pass\n",
    "(hidden, cell) = model.init_hidden(batch_size)\n",
    "out, (hidden, cell) = model(x, hidden, cell, l)"
   ]
  },
  {
   "cell_type": "code",
   "execution_count": 31,
   "metadata": {
    "colab": {
     "base_uri": "https://localhost:8080/",
     "height": 51
    },
    "colab_type": "code",
    "id": "ibZMfMU4DsZJ",
    "outputId": "ebe7f1c5-e3c8-4ded-c3cc-9829ab95d1e1"
   },
   "outputs": [
    {
     "name": "stdout",
     "output_type": "stream",
     "text": [
      "Accuracy: 0.4844\n",
      "Loss: 0.6970\n"
     ]
    }
   ],
   "source": [
    "def accuracy(y_pred, y_acc):\n",
    "    with torch.no_grad():\n",
    "        return torch.sum(torch.max(torch.exp(y_pred), dim=1)[1] == y_acc).item() / len(y_acc)\n",
    "    \n",
    "print(\"Accuracy: {:.4f}\".format(accuracy(out, y)))\n",
    "print(\"Loss: {:.4f}\".format(criterion(out, y)))"
   ]
  },
  {
   "cell_type": "code",
   "execution_count": 0,
   "metadata": {
    "colab": {},
    "colab_type": "code",
    "id": "IGcqygmADsZL"
   },
   "outputs": [],
   "source": [
    "device = torch.device('cuda')\n",
    "model = LSTMClassifier(vocab_sz=vocab_sz, embedding_dim=300, hidden_dim=128, output_dim=2).to(device)\n",
    "criterion = nn.CrossEntropyLoss()\n",
    "optimizer = optim.Adam(model.parameters(), lr=1e-4)"
   ]
  },
  {
   "cell_type": "code",
   "execution_count": 33,
   "metadata": {
    "colab": {
     "base_uri": "https://localhost:8080/",
     "height": 221
    },
    "colab_type": "code",
    "id": "ix-24W8HDsZM",
    "outputId": "6cc1d4e5-2d53-4441-8df1-68bcbdd2d387"
   },
   "outputs": [
    {
     "name": "stderr",
     "output_type": "stream",
     "text": [
      "100%|██████████| 293/293 [00:25<00:00, 11.45it/s]\n",
      "100%|██████████| 98/98 [00:02<00:00, 37.32it/s]\n",
      "  1%|          | 2/293 [00:00<00:25, 11.58it/s]"
     ]
    },
    {
     "name": "stdout",
     "output_type": "stream",
     "text": [
      "Epoch    1 | Train Loss 0.6848 | Train Acc 0.5422 | Test Loss 0.6762 | Test Acc 0.5701\n"
     ]
    },
    {
     "name": "stderr",
     "output_type": "stream",
     "text": [
      "100%|██████████| 293/293 [00:25<00:00, 11.56it/s]\n",
      "100%|██████████| 98/98 [00:02<00:00, 36.67it/s]\n",
      "  1%|          | 2/293 [00:00<00:25, 11.38it/s]"
     ]
    },
    {
     "name": "stdout",
     "output_type": "stream",
     "text": [
      "Epoch    2 | Train Loss 0.6247 | Train Acc 0.6350 | Test Loss 0.5645 | Test Acc 0.7005\n"
     ]
    },
    {
     "name": "stderr",
     "output_type": "stream",
     "text": [
      "100%|██████████| 293/293 [00:25<00:00, 11.49it/s]\n",
      "100%|██████████| 98/98 [00:02<00:00, 36.44it/s]\n",
      "  1%|          | 2/293 [00:00<00:25, 11.38it/s]"
     ]
    },
    {
     "name": "stdout",
     "output_type": "stream",
     "text": [
      "Epoch    3 | Train Loss 0.4970 | Train Acc 0.7540 | Test Loss 0.4616 | Test Acc 0.7802\n"
     ]
    },
    {
     "name": "stderr",
     "output_type": "stream",
     "text": [
      "100%|██████████| 293/293 [00:25<00:00, 11.49it/s]\n",
      "100%|██████████| 98/98 [00:02<00:00, 36.62it/s]"
     ]
    },
    {
     "name": "stdout",
     "output_type": "stream",
     "text": [
      "Epoch    4 | Train Loss 0.4111 | Train Acc 0.8136 | Test Loss 0.4349 | Test Acc 0.8040\n"
     ]
    },
    {
     "name": "stderr",
     "output_type": "stream",
     "text": [
      "\n"
     ]
    }
   ],
   "source": [
    "epochs = 4\n",
    "for e in range(1, epochs + 1):\n",
    "    train_loss = 0\n",
    "    train_acc = 0\n",
    "    \n",
    "    model.train()\n",
    "    for batch in tqdm(train_loader, leave=True):\n",
    "        x, y, lens = batch\n",
    "        x, y, lens = x.cuda(), y.cuda(), lens.cuda()\n",
    "\n",
    "        #Инициализируем скрытый слой\n",
    "        (hidden, cell) = model.init_hidden(x.shape[1])\n",
    "        hidden = hidden.to(device)\n",
    "        cell = cell.to(device)\n",
    "        \n",
    "        #Сделаем прохождение forward и backprop\n",
    "        out, (hidden, cell) = model(x, hidden, cell, lens)\n",
    "        loss = criterion(out, y)\n",
    "        optimizer.zero_grad()\n",
    "        loss.backward()\n",
    "        optimizer.step()\n",
    "\n",
    "        train_loss += loss.item()\n",
    "        train_acc += accuracy(out, y)\n",
    "\n",
    "    #Cохраняем точности и результаты функций потерь\n",
    "    train_loss /= len(train_loader)\n",
    "    train_acc /= len(train_loader)\n",
    "\n",
    "    test_loss = 0\n",
    "    test_acc = 0\n",
    "    \n",
    "    model.eval()\n",
    "    with torch.autograd.set_detect_anomaly(False):\n",
    "        for batch in tqdm(test_loader, leave=True):\n",
    "            x, y, lens = batch\n",
    "            x, y, lens = x.cuda(), y.cuda(), lens.cuda()\n",
    "\n",
    "            (hidden, cell) = model.init_hidden(x.shape[1])\n",
    "            hidden = hidden.to(device)\n",
    "            cell = cell.to(device)\n",
    "            \n",
    "            out, (hidden, cell) = model(x, hidden, cell, lens)\n",
    "            loss = criterion(out, y)\n",
    "\n",
    "            test_loss += loss.item()\n",
    "            test_acc += accuracy(out, y)\n",
    "\n",
    "    test_loss /= len(test_loader)\n",
    "    test_acc /= len(test_loader)\n",
    "    \n",
    "    print(\"Epoch {:4} | Train Loss {:.4f} | Train Acc {:.4f} | Test Loss {:.4f} | Test Acc {:.4f}\".format(e, train_loss, train_acc, test_loss, test_acc))"
   ]
  },
  {
   "cell_type": "code",
   "execution_count": 34,
   "metadata": {
    "colab": {
     "base_uri": "https://localhost:8080/",
     "height": 34
    },
    "colab_type": "code",
    "id": "slCwutU_DsZP",
    "outputId": "5ac5762d-ddd4-4216-bbc9-d140f9865f9b"
   },
   "outputs": [
    {
     "name": "stdout",
     "output_type": "stream",
     "text": [
      "Prediction: positive | Confidence: 0.7855\n"
     ]
    }
   ],
   "source": [
    "model.cpu()\n",
    "test = \"The movie was good! I liked the characters and the soundtrack. Overall impressive.\"\n",
    "\n",
    "# Process the sentence and unsqueeze to make a \"batch of 1\"\n",
    "test = torch.LongTensor(serialize(process(test))).unsqueeze(1) \n",
    "lengths = torch.LongTensor([len(test)])\n",
    "(hidden, cell) = model.init_hidden(1)\n",
    "\n",
    "with torch.autograd.set_detect_anomaly(False):\n",
    "    out, _ = model(test, hidden, cell, lengths)\n",
    "    out = torch.exp(out)\n",
    "    m = torch.max(out, dim=1)\n",
    "    print(\"Prediction: {} | Confidence: {:.4f}\".format(classes[m[1].item()], m[0].item()))"
   ]
  },
  {
   "cell_type": "markdown",
   "metadata": {
    "colab_type": "text",
    "id": "VOFM5oJFDsZR"
   },
   "source": [
    "Двунаправленные реккурентные сети"
   ]
  },
  {
   "cell_type": "code",
   "execution_count": 0,
   "metadata": {
    "colab": {},
    "colab_type": "code",
    "id": "YrBRplKODsZR"
   },
   "outputs": [],
   "source": [
    "x, y, l = train_loader[0]\n",
    "embedding = nn.Embedding(vocab_sz, 300)\n",
    "rnn = nn.LSTM(300, 128, bidirectional=True)"
   ]
  },
  {
   "cell_type": "code",
   "execution_count": 36,
   "metadata": {
    "colab": {
     "base_uri": "https://localhost:8080/",
     "height": 51
    },
    "colab_type": "code",
    "id": "0jhBGfh2DsZT",
    "outputId": "bc891591-4bbd-497b-f978-8542c5557ca3"
   },
   "outputs": [
    {
     "name": "stdout",
     "output_type": "stream",
     "text": [
      "Embedded output shape: torch.Size([949, 64, 300])\n",
      "Packed output shape: torch.Size([19601, 300])\n"
     ]
    }
   ],
   "source": [
    "(hidden, cell) = torch.zeros(2, 64, 128), torch.zeros(2, 64, 128) # Note the 2 in the first dimension\n",
    "out = embedding(x)\n",
    "print(\"Embedded output shape:\", out.shape)\n",
    "\n",
    "out = rnn_utils.pack_padded_sequence(out, l)\n",
    "print(\"Packed output shape:\", out.data.shape)\n",
    "\n",
    "out, (hidden, cell) = rnn(out, (hidden, cell))"
   ]
  },
  {
   "cell_type": "code",
   "execution_count": 37,
   "metadata": {
    "colab": {
     "base_uri": "https://localhost:8080/",
     "height": 34
    },
    "colab_type": "code",
    "id": "ULR3-W-kDsZU",
    "outputId": "3dc921bd-181b-4e21-acc7-7243a97ea559"
   },
   "outputs": [
    {
     "data": {
      "text/plain": [
       "torch.Size([2, 64, 128])"
      ]
     },
     "execution_count": 37,
     "metadata": {
      "tags": []
     },
     "output_type": "execute_result"
    }
   ],
   "source": [
    "hidden.shape"
   ]
  },
  {
   "cell_type": "code",
   "execution_count": 38,
   "metadata": {
    "colab": {
     "base_uri": "https://localhost:8080/",
     "height": 34
    },
    "colab_type": "code",
    "id": "ancXEFEADsZW",
    "outputId": "56586350-b269-47bb-ba71-888f403df6d6"
   },
   "outputs": [
    {
     "name": "stdout",
     "output_type": "stream",
     "text": [
      "Concatenated shape: torch.Size([64, 256])\n"
     ]
    }
   ],
   "source": [
    "h_cat = torch.cat([hidden[-1, :, :], hidden[-2, :, :]], dim=1)\n",
    "print(\"Concatenated shape:\", h_cat.shape)"
   ]
  },
  {
   "cell_type": "code",
   "execution_count": 39,
   "metadata": {
    "colab": {
     "base_uri": "https://localhost:8080/",
     "height": 119
    },
    "colab_type": "code",
    "id": "Jp4bGZJUDsZY",
    "outputId": "82644467-d53b-4796-aaf2-d7eafc40fb45"
   },
   "outputs": [
    {
     "name": "stdout",
     "output_type": "stream",
     "text": [
      "Final shape: torch.Size([64, 2])\n",
      "tensor([[0.5321, 0.4679],\n",
      "        [0.5066, 0.4934],\n",
      "        [0.5573, 0.4427],\n",
      "        [0.5126, 0.4874],\n",
      "        [0.5096, 0.4904]], grad_fn=<SliceBackward>)\n"
     ]
    }
   ],
   "source": [
    "fc = nn.Linear(128 * 2, 2) # Note the * 2\n",
    "out = torch.softmax(fc(h_cat), dim=1)\n",
    "print(\"Final shape:\", out.shape)\n",
    "print(out[:5])"
   ]
  },
  {
   "cell_type": "code",
   "execution_count": 0,
   "metadata": {
    "colab": {},
    "colab_type": "code",
    "id": "kFtzirYTDsZZ"
   },
   "outputs": [],
   "source": [
    "num_layers = 2\n",
    "\n",
    "x, y, l = train_loader[0]\n",
    "embedding = nn.Embedding(vocab_sz, 300)\n",
    "rnn = nn.LSTM(300, 128, num_layers=num_layers)"
   ]
  },
  {
   "cell_type": "code",
   "execution_count": 41,
   "metadata": {
    "colab": {
     "base_uri": "https://localhost:8080/",
     "height": 51
    },
    "colab_type": "code",
    "id": "j6Mf5SprDsZb",
    "outputId": "e182a6cc-5c75-4187-8f15-2276a8557b49"
   },
   "outputs": [
    {
     "name": "stdout",
     "output_type": "stream",
     "text": [
      "Embedded output shape: torch.Size([949, 64, 300])\n",
      "Packed output shape: torch.Size([19601, 300])\n"
     ]
    }
   ],
   "source": [
    "(hidden, cell) = torch.zeros(num_layers, 64, 128), torch.zeros(num_layers, 64, 128) # We now generalize number of layers\n",
    "out = embedding(x)\n",
    "print(\"Embedded output shape:\", out.shape)\n",
    "\n",
    "out = rnn_utils.pack_padded_sequence(out, l)\n",
    "print(\"Packed output shape:\", out.data.shape)\n",
    "\n",
    "out, (hidden, cell) = rnn(out, (hidden, cell))"
   ]
  },
  {
   "cell_type": "code",
   "execution_count": 42,
   "metadata": {
    "colab": {
     "base_uri": "https://localhost:8080/",
     "height": 119
    },
    "colab_type": "code",
    "id": "Xrjx5mTaDsZd",
    "outputId": "2200dd36-1df0-4e06-bd30-3eae4801a8f2"
   },
   "outputs": [
    {
     "name": "stdout",
     "output_type": "stream",
     "text": [
      "Final shape: torch.Size([64, 2])\n",
      "tensor([[0.4780, 0.5220],\n",
      "        [0.4784, 0.5216],\n",
      "        [0.4776, 0.5224],\n",
      "        [0.4760, 0.5240],\n",
      "        [0.4751, 0.5249]], grad_fn=<SliceBackward>)\n"
     ]
    }
   ],
   "source": [
    "out = hidden[-1, :, :]\n",
    "\n",
    "fc = nn.Linear(128, 2) \n",
    "out = torch.softmax(fc(out), dim=1)\n",
    "print(\"Final shape:\", out.shape)\n",
    "print(out[:5]) # First five probabilities"
   ]
  },
  {
   "cell_type": "code",
   "execution_count": 0,
   "metadata": {
    "colab": {},
    "colab_type": "code",
    "id": "n0ts1DSCDsZf"
   },
   "outputs": [],
   "source": [
    "num_layers = 2\n",
    "bidirectional = True\n",
    "recur_drop = 0.3\n",
    "\n",
    "x, y, l = train_loader[0]\n",
    "embedding = nn.Embedding(vocab_sz, 300)\n",
    "rnn = nn.LSTM(300, 128, num_layers=num_layers, bidirectional=bidirectional, dropout=recur_drop)"
   ]
  },
  {
   "cell_type": "code",
   "execution_count": 0,
   "metadata": {
    "colab": {},
    "colab_type": "code",
    "id": "ijokeCluDsZi"
   },
   "outputs": [],
   "source": [
    "if bidirectional: # Double the first dimension if bidirectional\n",
    "    (hidden, cell) = torch.zeros(num_layers * 2, 64, 128), torch.zeros(num_layers * 2, 64, 128)\n",
    "else:\n",
    "    (hidden, cell) = torch.zeros(num_layers, 64, 128), torch.zeros(num_layers, 64, 128)"
   ]
  },
  {
   "cell_type": "code",
   "execution_count": 45,
   "metadata": {
    "colab": {
     "base_uri": "https://localhost:8080/",
     "height": 51
    },
    "colab_type": "code",
    "id": "Ky73Yg91DsZk",
    "outputId": "c4cd9164-f38e-49a1-d5cd-7c754a32dc37"
   },
   "outputs": [
    {
     "name": "stdout",
     "output_type": "stream",
     "text": [
      "Embedded output shape: torch.Size([949, 64, 300])\n",
      "Packed output shape: torch.Size([19601, 300])\n"
     ]
    }
   ],
   "source": [
    "out = embedding(x)\n",
    "print(\"Embedded output shape:\", out.shape)\n",
    "\n",
    "out = rnn_utils.pack_padded_sequence(out, l)\n",
    "print(\"Packed output shape:\", out.data.shape)\n",
    "\n",
    "out, (hidden, cell) = rnn(out, (hidden, cell))"
   ]
  },
  {
   "cell_type": "code",
   "execution_count": 46,
   "metadata": {
    "colab": {
     "base_uri": "https://localhost:8080/",
     "height": 119
    },
    "colab_type": "code",
    "id": "E6TdnrImDsZm",
    "outputId": "35a6f564-0b4b-4eb8-a8af-12a03d198f18"
   },
   "outputs": [
    {
     "name": "stdout",
     "output_type": "stream",
     "text": [
      "Final shape: torch.Size([64, 2])\n",
      "tensor([[0.4912, 0.5088],\n",
      "        [0.4786, 0.5214],\n",
      "        [0.4960, 0.5040],\n",
      "        [0.4828, 0.5172],\n",
      "        [0.4891, 0.5109]], grad_fn=<SliceBackward>)\n"
     ]
    }
   ],
   "source": [
    "if bidirectional:\n",
    "    out = torch.cat([hidden[-1, :, :], hidden[-2, :, :]], dim=1)\n",
    "else:\n",
    "    out = hidden[-1, :, :]\n",
    "\n",
    "fc = nn.Linear(128 * 2, 2) if bidirectional else nn.Linear(128, 2) # Branch if bidirectional\n",
    "out = torch.softmax(fc(out), dim=1)\n",
    "print(\"Final shape:\", out.shape)\n",
    "print(out[:5]) # First five probabilities"
   ]
  },
  {
   "cell_type": "code",
   "execution_count": 0,
   "metadata": {
    "colab": {},
    "colab_type": "code",
    "id": "LUzy2e1zDsZo"
   },
   "outputs": [],
   "source": [
    "class LSTMClassifier(nn.Module):\n",
    "    def __init__(self, vocab_sz, embedding_dim, hidden_dim, output_dim, bidirectional, rnn_layers, recur_dropout=0.3):\n",
    "        super(LSTMClassifier, self).__init__()\n",
    "        self.embedding = nn.Embedding(vocab_sz, embedding_dim)\n",
    "        self.rnn = nn.LSTM(embedding_dim, hidden_dim, bidirectional=bidirectional, num_layers=rnn_layers, dropout=recur_dropout)\n",
    "        self.fc = nn.Linear(hidden_dim * 2, output_dim) if bidirectional else nn.Linear(hidden_dim, output_dim)\n",
    "        self.hidden_dim = hidden_dim\n",
    "        \n",
    "    def init_hidden(self, bs):\n",
    "        if self.rnn.bidirectional:\n",
    "            return torch.zeros(self.rnn.num_layers * 2, bs, self.hidden_dim), torch.zeros(self.rnn.num_layers * 2, bs, self.hidden_dim)\n",
    "        else:\n",
    "            return torch.zeros(self.rnn.num_layers, bs, self.hidden_dim), torch.zeros(self.rnn.num_layers, bs, self.hidden_dim)\n",
    "        \n",
    "    def forward(self, X, hidden, cell, lengths):\n",
    "        out = self.embedding(X)\n",
    "        out = rnn_utils.pack_padded_sequence(out, lengths)\n",
    "        out, (hidden, cell) = self.rnn(out, (hidden, cell))\n",
    "        h_cat = torch.cat([ hidden[-2, :, :], hidden[-1, :, :] ], dim=1) if self.rnn.bidirectional else hidden[-1, :, :]\n",
    "        out = torch.log_softmax(self.fc(h_cat), dim=1)\n",
    "        return out, (hidden, cell)"
   ]
  },
  {
   "cell_type": "code",
   "execution_count": 0,
   "metadata": {
    "colab": {},
    "colab_type": "code",
    "id": "gu1bwskZDsZq"
   },
   "outputs": [],
   "source": [
    "model = LSTMClassifier(vocab_sz, embedding_dim=300, hidden_dim=128, output_dim=2, \n",
    "                       bidirectional=True, rnn_layers=2).to(device)\n",
    "criterion = nn.CrossEntropyLoss()\n",
    "optimizer = optim.Adam(model.parameters(), lr=1e-4)"
   ]
  },
  {
   "cell_type": "code",
   "execution_count": 49,
   "metadata": {
    "colab": {
     "base_uri": "https://localhost:8080/",
     "height": 221
    },
    "colab_type": "code",
    "id": "1t63UzdbDsZs",
    "outputId": "6634b2cb-23cb-4efa-a095-5c6108a53456",
    "scrolled": false
   },
   "outputs": [
    {
     "name": "stderr",
     "output_type": "stream",
     "text": [
      "100%|██████████| 293/293 [01:35<00:00,  3.07it/s]\n",
      "100%|██████████| 98/98 [00:14<00:00,  6.92it/s]\n",
      "  0%|          | 0/293 [00:00<?, ?it/s]"
     ]
    },
    {
     "name": "stdout",
     "output_type": "stream",
     "text": [
      "Epoch    1 | Train Loss 0.6730 | Train Acc 0.5775 | Test Loss 0.6118 | Test Acc 0.6576\n"
     ]
    },
    {
     "name": "stderr",
     "output_type": "stream",
     "text": [
      "100%|██████████| 293/293 [01:34<00:00,  3.09it/s]\n",
      "100%|██████████| 98/98 [00:14<00:00,  6.89it/s]\n",
      "  0%|          | 0/293 [00:00<?, ?it/s]"
     ]
    },
    {
     "name": "stdout",
     "output_type": "stream",
     "text": [
      "Epoch    2 | Train Loss 0.5002 | Train Acc 0.7515 | Test Loss 0.4369 | Test Acc 0.7964\n"
     ]
    },
    {
     "name": "stderr",
     "output_type": "stream",
     "text": [
      "100%|██████████| 293/293 [01:34<00:00,  3.10it/s]\n",
      "100%|██████████| 98/98 [00:14<00:00,  6.89it/s]\n",
      "  0%|          | 0/293 [00:00<?, ?it/s]"
     ]
    },
    {
     "name": "stdout",
     "output_type": "stream",
     "text": [
      "Epoch    3 | Train Loss 0.4381 | Train Acc 0.8004 | Test Loss 0.4993 | Test Acc 0.7573\n"
     ]
    },
    {
     "name": "stderr",
     "output_type": "stream",
     "text": [
      "100%|██████████| 293/293 [01:34<00:00,  3.10it/s]\n",
      "100%|██████████| 98/98 [00:13<00:00,  7.03it/s]"
     ]
    },
    {
     "name": "stdout",
     "output_type": "stream",
     "text": [
      "Epoch    4 | Train Loss 0.3549 | Train Acc 0.8426 | Test Loss 0.3728 | Test Acc 0.8369\n"
     ]
    },
    {
     "name": "stderr",
     "output_type": "stream",
     "text": [
      "\n"
     ]
    }
   ],
   "source": [
    "epochs = 4\n",
    "for e in range(1, epochs + 1):\n",
    "    train_loss = 0\n",
    "    train_acc = 0\n",
    "\n",
    "    for batch in tqdm(train_loader, leave=True):\n",
    "        x, y, lens = batch\n",
    "        x = x.cuda()\n",
    "        y = y.cuda()\n",
    "        lens = lens.cuda()\n",
    "\n",
    "        (hidden, cell) = model.init_hidden(x.shape[1])\n",
    "        hidden = hidden.to(device)\n",
    "        cell = cell.to(device)\n",
    "        out, (hidden, cell) = model(x, hidden, cell, lens)\n",
    "        loss = criterion(out, y)\n",
    "        optimizer.zero_grad()\n",
    "        loss.backward()\n",
    "        optimizer.step()\n",
    "\n",
    "        train_loss += loss.item()\n",
    "        train_acc += accuracy(out, y)\n",
    "\n",
    "    train_loss /= len(train_loader)\n",
    "    train_acc /= len(train_loader)\n",
    "\n",
    "    test_loss = 0\n",
    "    test_acc = 0\n",
    "\n",
    "    with torch.no_grad():\n",
    "        for batch in tqdm(test_loader, leave=True):\n",
    "            x, y, lens = batch\n",
    "            x = x.cuda()\n",
    "            y = y.cuda()\n",
    "            lens = lens.cuda()\n",
    "\n",
    "            (hidden, cell) = model.init_hidden(x.shape[1])\n",
    "            hidden = hidden.to(device)\n",
    "            cell = cell.to(device)\n",
    "            out, (hidden, cell) = model(x, hidden, cell, lens)\n",
    "            loss = criterion(out, y)\n",
    "\n",
    "            test_loss += loss.item()\n",
    "            test_acc += accuracy(out, y)\n",
    "\n",
    "    test_loss /= len(test_loader)\n",
    "    test_acc /= len(test_loader)\n",
    "    \n",
    "    print(\"Epoch {:4} | Train Loss {:.4f} | Train Acc {:.4f} | Test Loss {:.4f} | Test Acc {:.4f}\".format(e, train_loss, train_acc, test_loss, test_acc))"
   ]
  },
  {
   "cell_type": "code",
   "execution_count": 58,
   "metadata": {
    "colab": {
     "base_uri": "https://localhost:8080/",
     "height": 34
    },
    "colab_type": "code",
    "id": "kXoGV-2jDsZt",
    "outputId": "06a4ec4a-323d-4762-ec53-1755d2ada776"
   },
   "outputs": [
    {
     "name": "stdout",
     "output_type": "stream",
     "text": [
      "Prediction: negative | Confidence: 0.7640\n"
     ]
    }
   ],
   "source": [
    "model.cpu()\n",
    "\n",
    "test = \"That movie was awful.\"\n",
    "test = torch.LongTensor(serialize(process(test))).unsqueeze(1)\n",
    "lengths = torch.LongTensor([len(test)])\n",
    "(hidden, cell) = model.init_hidden(1)\n",
    "\n",
    "with torch.autograd.set_detect_anomaly(False):\n",
    "    out, _ = model(test, hidden, cell, lengths)\n",
    "    out = torch.exp(out)\n",
    "    m = torch.max(out, dim=1)\n",
    "    print(\"Prediction: {} | Confidence: {:.4f}\".format(classes[m[1].item()], m[0].item()))"
   ]
  },
  {
   "cell_type": "markdown",
   "metadata": {
    "colab_type": "text",
    "id": "VCMQZMSADsZv"
   },
   "source": [
    "Использование GloVe"
   ]
  },
  {
   "cell_type": "code",
   "execution_count": 59,
   "metadata": {
    "colab": {
     "base_uri": "https://localhost:8080/",
     "height": 34
    },
    "colab_type": "code",
    "id": "FtBVHGO0DsZw",
    "outputId": "e55461f6-39b7-480f-f263-a91ee9ef1bfc"
   },
   "outputs": [
    {
     "name": "stderr",
     "output_type": "stream",
     "text": [
      "100%|█████████▉| 2195720/2196018 [04:30<00:00, 9625.83it/s]"
     ]
    }
   ],
   "source": [
    "v = Vectors('./drive/My Drive/TrainData/glove.840B.300d.txt')"
   ]
  },
  {
   "cell_type": "code",
   "execution_count": 60,
   "metadata": {
    "colab": {
     "base_uri": "https://localhost:8080/",
     "height": 680
    },
    "colab_type": "code",
    "id": "tNI6KXNCDsZy",
    "outputId": "0529bf86-93ba-47f3-878d-838f57a3fbfd"
   },
   "outputs": [
    {
     "name": "stdout",
     "output_type": "stream",
     "text": [
      "Embedding of 'hello' dimensions: torch.Size([300])\n",
      "tensor([ 0.2523,  0.1018, -0.6748,  0.2112,  0.4349,  0.1654,  0.4826, -0.8122,\n",
      "         0.0413,  0.7850, -0.0779, -0.6632,  0.1464, -0.2929, -0.2549,  0.0193,\n",
      "        -0.2026,  0.9823,  0.0283, -0.0813, -0.1214,  0.1313, -0.1765,  0.1356,\n",
      "        -0.1636, -0.2257,  0.0550, -0.2031,  0.2072,  0.0958,  0.2248,  0.2154,\n",
      "        -0.3298, -0.1224, -0.4003, -0.0794, -0.1996, -0.0151, -0.0791, -0.1813,\n",
      "         0.2068, -0.3620, -0.3074, -0.2442, -0.2311,  0.0980,  0.1463, -0.0627,\n",
      "         0.4293, -0.0780, -0.1963,  0.6509, -0.2281, -0.3031, -0.1248, -0.1757,\n",
      "        -0.1465,  0.1536, -0.2952,  0.1510, -0.5173, -0.0336, -0.2311, -0.7833,\n",
      "         0.0180, -0.1572,  0.0229,  0.4964,  0.0292,  0.0567,  0.1462, -0.1919,\n",
      "         0.1624,  0.2390,  0.3643,  0.4526,  0.2456,  0.2380,  0.3140,  0.3487,\n",
      "        -0.0358,  0.5611, -0.2535,  0.0520, -0.1062, -0.3096,  1.0585, -0.4202,\n",
      "         0.1822, -0.1126,  0.4058,  0.1178, -0.1971, -0.0753,  0.0807, -0.0278,\n",
      "        -0.1562, -0.4468, -0.1516,  0.1692,  0.0983, -0.0319,  0.0871,  0.2608,\n",
      "         0.0027,  0.1319,  0.3444, -0.3789, -0.4114,  0.0816, -0.1167, -0.4371,\n",
      "         0.0111,  0.0994,  0.2661,  0.4002,  0.1890, -0.1844, -0.3036, -0.2725,\n",
      "         0.2247, -0.4061,  0.1562, -0.1604,  0.4715,  0.0080,  0.5686,  0.2193,\n",
      "        -0.1118,  0.7993,  0.1071, -0.5015,  0.0636,  0.0695,  0.1529, -0.2747,\n",
      "        -0.2099,  0.2074, -0.1068,  0.4065, -2.6438, -0.3114, -0.3216, -0.2646,\n",
      "        -0.3562,  0.0700, -0.1884,  0.4877, -0.2617, -0.0208,  0.1782,  0.1576,\n",
      "        -0.1375,  0.0565,  0.3077, -0.0661,  0.4748, -0.2734,  0.0973, -0.2083,\n",
      "         0.0039,  0.3460, -0.0870, -0.5492, -0.1876, -0.1717,  0.0603, -0.1352,\n",
      "         0.1042,  0.3016,  0.0580,  0.2187, -0.0736, -0.2042, -0.2528, -0.1047,\n",
      "        -0.3216,  0.1252, -0.3128,  0.0097, -0.2678, -0.6112, -0.1109, -0.1365,\n",
      "         0.0351, -0.4939,  0.0849, -0.1549, -0.0635, -0.2394,  0.2827,  0.1085,\n",
      "        -0.3365, -0.6076,  0.3858, -0.0095,  0.1750, -0.5272,  0.6221,  0.1954,\n",
      "        -0.4898,  0.0366, -0.1280, -0.0168,  0.2565, -0.3170,  0.4826, -0.1418,\n",
      "         0.1105, -0.3098, -0.6314, -0.3727,  0.2318, -0.1427, -0.0234,  0.0223,\n",
      "        -0.0447, -0.1640, -0.2585,  0.1629,  0.0248,  0.2335,  0.2793,  0.3900,\n",
      "        -0.0590,  0.1135,  0.1567,  0.1858, -0.1981, -0.4812, -0.0351,  0.0785,\n",
      "        -0.4983,  0.1085, -0.2013,  0.0529, -0.1158, -0.1601,  0.1677,  0.4236,\n",
      "        -0.2311,  0.0825,  0.2430, -0.1679,  0.0080,  0.0859,  0.3803,  0.0730,\n",
      "         0.1633,  0.2470, -0.1109,  0.1512, -0.2207, -0.0619, -0.0371, -0.0879,\n",
      "        -0.2318,  0.1504, -0.1909, -0.1911, -0.1189,  0.0949, -0.0043,  0.1536,\n",
      "        -0.4120, -0.3073,  0.1838,  0.4021, -0.0035, -0.1092, -0.6952,  0.1016,\n",
      "        -0.0793,  0.4033,  0.2228, -0.1937, -0.1331,  0.0732,  0.0998,  0.1169,\n",
      "        -0.2164, -0.1108,  0.1034,  0.0973,  0.1120, -0.3894, -0.0089,  0.2881,\n",
      "        -0.1079,  0.0288,  0.3255,  0.2605, -0.0389,  0.0752,  0.4603, -0.0629,\n",
      "         0.2166,  0.1787, -0.5192,  0.3359])\n"
     ]
    }
   ],
   "source": [
    "out = v['hello']\n",
    "print(\"Embedding of 'hello' dimensions:\", out.shape)\n",
    "print(out)"
   ]
  },
  {
   "cell_type": "code",
   "execution_count": 61,
   "metadata": {
    "colab": {
     "base_uri": "https://localhost:8080/",
     "height": 34
    },
    "colab_type": "code",
    "id": "5mMDupLUDsZ0",
    "outputId": "b90e8ff5-c0b8-426a-978e-d6d6287f166d"
   },
   "outputs": [
    {
     "name": "stdout",
     "output_type": "stream",
     "text": [
      "L2 Distance: 15.562474250793457\n"
     ]
    }
   ],
   "source": [
    "w = (v['woman'] - v['queen']).unsqueeze(0)\n",
    "\n",
    "l2_dist = nn.PairwiseDistance(p=2)\n",
    "out = l2_dist(m[0], w)\n",
    "\n",
    "print(\"L2 Distance:\", out.item())"
   ]
  },
  {
   "cell_type": "code",
   "execution_count": 0,
   "metadata": {
    "colab": {},
    "colab_type": "code",
    "id": "5_yesA8iDsZ2"
   },
   "outputs": [],
   "source": [
    "emb = nn.Embedding(vocab_sz, 300)\n",
    "batch = []\n",
    "for i in range(vocab_sz):\n",
    "    batch.append(v[idx2word[i]])\n",
    "weights = torch.stack(batch)\n",
    "emb.weight.data.copy_(weights)\n",
    "emb.weight.requires_grad = False"
   ]
  },
  {
   "cell_type": "code",
   "execution_count": 0,
   "metadata": {
    "colab": {},
    "colab_type": "code",
    "id": "RaNP_9HiDsZ3"
   },
   "outputs": [],
   "source": [
    "class LSTMClassifier(nn.Module):\n",
    "    def __init__(self, vocab_sz, embedding_dim, hidden_dim, output_dim, bidirectional, rnn_layers, recur_dropout=0.3, pretrained=False, pretrained_emb=None):\n",
    "        super(LSTMClassifier, self).__init__()\n",
    "        if pretrained and pretrained_emb is not None:\n",
    "            self.embedding = pretrained_emb\n",
    "        else:\n",
    "            self.embedding = nn.Embedding(vocab_sz, embedding_dim)\n",
    "        self.rnn = nn.LSTM(embedding_dim, hidden_dim, bidirectional=bidirectional, num_layers=rnn_layers, dropout=recur_dropout)\n",
    "        self.fc = nn.Linear(hidden_dim * 2, output_dim) if bidirectional else nn.Linear(hidden_dim, output_dim)\n",
    "        self.hidden_dim = hidden_dim\n",
    "        \n",
    "    def init_hidden(self, bs):\n",
    "        if self.rnn.bidirectional:\n",
    "            return torch.zeros(self.rnn.num_layers * 2, bs, self.hidden_dim), torch.zeros(self.rnn.num_layers * 2, bs, self.hidden_dim)\n",
    "        else:\n",
    "            return torch.zeros(self.rnn.num_layers, bs, self.hidden_dim), torch.zeros(self.rnn.num_layers, bs, self.hidden_dim)\n",
    "        \n",
    "    def forward(self, X, hidden, cell, lengths):\n",
    "        out = self.embedding(X)\n",
    "        out = rnn_utils.pack_padded_sequence(out, lengths)\n",
    "        out, (hidden, cell) = self.rnn(out, (hidden, cell))\n",
    "        h_cat = torch.cat([ hidden[-2, :, :], hidden[-1, :, :] ], dim=1) if self.rnn.bidirectional else hidden[-1, :, :]\n",
    "        out = torch.log_softmax(self.fc(h_cat), dim=1)\n",
    "        return out, (hidden, cell)"
   ]
  },
  {
   "cell_type": "code",
   "execution_count": 0,
   "metadata": {
    "colab": {},
    "colab_type": "code",
    "id": "B3eCGjSBDsZ5"
   },
   "outputs": [],
   "source": [
    "model = LSTMClassifier(vocab_sz, embedding_dim=300, hidden_dim=128, output_dim=2, \n",
    "                       bidirectional=True, rnn_layers=2, pretrained=True, pretrained_emb=emb).to(device)\n",
    "criterion = nn.CrossEntropyLoss()\n",
    "optimizer = optim.Adam(model.parameters(), lr=1e-4)"
   ]
  },
  {
   "cell_type": "code",
   "execution_count": 66,
   "metadata": {
    "colab": {
     "base_uri": "https://localhost:8080/",
     "height": 1000
    },
    "colab_type": "code",
    "id": "gK-TwhWbDsZ6",
    "outputId": "be148a5c-b617-404f-8e0a-0b5e4a1cbd69"
   },
   "outputs": [
    {
     "name": "stderr",
     "output_type": "stream",
     "text": [
      "\n",
      "  0%|          | 0/293 [00:00<?, ?it/s]\u001b[A\n",
      "  0%|          | 1/293 [00:00<01:46,  2.73it/s]\u001b[A\n",
      "  1%|          | 2/293 [00:00<01:46,  2.73it/s]\u001b[A\n",
      "  1%|          | 3/293 [00:00<01:36,  3.01it/s]\u001b[A\n",
      "  1%|▏         | 4/293 [00:01<01:28,  3.26it/s]\u001b[A\n",
      "  2%|▏         | 5/293 [00:01<01:24,  3.42it/s]\u001b[A\n",
      "  2%|▏         | 6/293 [00:01<01:22,  3.48it/s]\u001b[A\n",
      "  2%|▏         | 7/293 [00:02<01:27,  3.26it/s]\u001b[A\n",
      "  3%|▎         | 8/293 [00:02<01:26,  3.29it/s]\u001b[A\n",
      "  3%|▎         | 9/293 [00:02<01:22,  3.46it/s]\u001b[A\n",
      "  3%|▎         | 10/293 [00:03<01:26,  3.27it/s]\u001b[A\n",
      "  4%|▍         | 11/293 [00:03<01:28,  3.20it/s]\u001b[A\n",
      "  4%|▍         | 12/293 [00:03<01:29,  3.13it/s]\u001b[A\n",
      "  4%|▍         | 13/293 [00:03<01:25,  3.26it/s]\u001b[A\n",
      "  5%|▍         | 14/293 [00:04<01:23,  3.36it/s]\u001b[A\n",
      "  5%|▌         | 15/293 [00:04<01:22,  3.38it/s]\u001b[A\n",
      "  5%|▌         | 16/293 [00:04<01:17,  3.56it/s]\u001b[A\n",
      "  6%|▌         | 17/293 [00:05<01:17,  3.58it/s]\u001b[A\n",
      "  6%|▌         | 18/293 [00:05<01:14,  3.67it/s]\u001b[A\n",
      "  6%|▋         | 19/293 [00:05<01:21,  3.37it/s]\u001b[A\n",
      "  7%|▋         | 20/293 [00:05<01:21,  3.37it/s]\u001b[A\n",
      "  7%|▋         | 21/293 [00:06<01:27,  3.11it/s]\u001b[A\n",
      "  8%|▊         | 22/293 [00:06<01:27,  3.10it/s]\u001b[A\n",
      "  8%|▊         | 23/293 [00:06<01:27,  3.10it/s]\u001b[A\n",
      "  8%|▊         | 24/293 [00:07<01:26,  3.13it/s]\u001b[A\n",
      "  9%|▊         | 25/293 [00:07<01:25,  3.12it/s]\u001b[A\n",
      "  9%|▉         | 26/293 [00:07<01:29,  2.99it/s]\u001b[A\n",
      "  9%|▉         | 27/293 [00:08<01:21,  3.26it/s]\u001b[A\n",
      " 10%|▉         | 28/293 [00:08<01:13,  3.62it/s]\u001b[A\n",
      " 10%|▉         | 29/293 [00:08<01:13,  3.60it/s]\u001b[A\n",
      " 10%|█         | 30/293 [00:09<01:17,  3.42it/s]\u001b[A\n",
      " 11%|█         | 31/293 [00:09<01:13,  3.55it/s]\u001b[A\n",
      " 11%|█         | 32/293 [00:09<01:09,  3.73it/s]\u001b[A\n",
      " 11%|█▏        | 33/293 [00:09<01:13,  3.53it/s]\u001b[A\n",
      " 12%|█▏        | 34/293 [00:10<01:19,  3.24it/s]\u001b[A\n",
      " 12%|█▏        | 35/293 [00:10<01:18,  3.29it/s]\u001b[A\n",
      " 12%|█▏        | 36/293 [00:10<01:16,  3.38it/s]\u001b[A\n",
      " 13%|█▎        | 37/293 [00:11<01:12,  3.55it/s]\u001b[A\n",
      " 13%|█▎        | 38/293 [00:11<01:08,  3.73it/s]\u001b[A\n",
      " 13%|█▎        | 39/293 [00:11<01:11,  3.54it/s]\u001b[A\n",
      " 14%|█▎        | 40/293 [00:11<01:09,  3.65it/s]\u001b[A\n",
      " 14%|█▍        | 41/293 [00:12<01:11,  3.53it/s]\u001b[A\n",
      " 14%|█▍        | 42/293 [00:12<01:11,  3.52it/s]\u001b[A\n",
      " 15%|█▍        | 43/293 [00:12<01:11,  3.47it/s]\u001b[A\n",
      " 15%|█▌        | 44/293 [00:13<01:17,  3.21it/s]\u001b[A\n",
      " 15%|█▌        | 45/293 [00:13<01:12,  3.41it/s]\u001b[A\n",
      " 16%|█▌        | 46/293 [00:13<01:09,  3.54it/s]\u001b[A\n",
      " 16%|█▌        | 47/293 [00:13<01:11,  3.46it/s]\u001b[A\n",
      " 16%|█▋        | 48/293 [00:14<01:10,  3.47it/s]\u001b[A\n",
      " 17%|█▋        | 49/293 [00:14<01:12,  3.36it/s]\u001b[A\n",
      " 17%|█▋        | 50/293 [00:14<01:07,  3.59it/s]\u001b[A\n",
      " 17%|█▋        | 51/293 [00:15<01:06,  3.65it/s]\u001b[A\n",
      " 18%|█▊        | 52/293 [00:15<01:10,  3.41it/s]\u001b[A\n",
      " 18%|█▊        | 53/293 [00:15<01:11,  3.38it/s]\u001b[A\n",
      " 18%|█▊        | 54/293 [00:15<01:10,  3.38it/s]\u001b[A\n",
      " 19%|█▉        | 55/293 [00:16<01:10,  3.37it/s]\u001b[A\n",
      " 19%|█▉        | 56/293 [00:16<01:09,  3.43it/s]\u001b[A\n",
      " 19%|█▉        | 57/293 [00:16<01:06,  3.53it/s]\u001b[A\n",
      " 20%|█▉        | 58/293 [00:17<01:06,  3.55it/s]\u001b[A\n",
      " 20%|██        | 59/293 [00:17<01:04,  3.65it/s]\u001b[A\n",
      " 20%|██        | 60/293 [00:17<00:59,  3.89it/s]\u001b[A\n",
      " 21%|██        | 61/293 [00:17<01:02,  3.72it/s]\u001b[A\n",
      " 21%|██        | 62/293 [00:18<01:04,  3.56it/s]\u001b[A\n",
      " 22%|██▏       | 63/293 [00:18<01:06,  3.44it/s]\u001b[A\n",
      " 22%|██▏       | 64/293 [00:18<01:02,  3.69it/s]\u001b[A\n",
      " 22%|██▏       | 65/293 [00:19<01:05,  3.50it/s]\u001b[A\n",
      " 23%|██▎       | 66/293 [00:19<01:04,  3.54it/s]\u001b[A\n",
      " 23%|██▎       | 67/293 [00:19<01:01,  3.65it/s]\u001b[A\n",
      " 23%|██▎       | 68/293 [00:19<01:06,  3.40it/s]\u001b[A\n",
      " 24%|██▎       | 69/293 [00:20<01:01,  3.63it/s]\u001b[A\n",
      " 24%|██▍       | 70/293 [00:20<01:06,  3.34it/s]\u001b[A\n",
      " 24%|██▍       | 71/293 [00:20<01:10,  3.15it/s]\u001b[A\n",
      " 25%|██▍       | 72/293 [00:21<01:04,  3.43it/s]\u001b[A\n",
      " 25%|██▍       | 73/293 [00:21<01:04,  3.41it/s]\u001b[A\n",
      " 25%|██▌       | 74/293 [00:21<01:03,  3.46it/s]\u001b[A\n",
      " 26%|██▌       | 75/293 [00:21<00:59,  3.69it/s]\u001b[A\n",
      " 26%|██▌       | 76/293 [00:22<00:58,  3.70it/s]\u001b[A\n",
      " 26%|██▋       | 77/293 [00:22<01:00,  3.58it/s]\u001b[A\n",
      " 27%|██▋       | 78/293 [00:22<00:59,  3.62it/s]\u001b[A\n",
      " 27%|██▋       | 79/293 [00:23<01:02,  3.41it/s]\u001b[A\n",
      " 27%|██▋       | 80/293 [00:23<01:03,  3.33it/s]\u001b[A\n",
      " 28%|██▊       | 81/293 [00:23<00:59,  3.56it/s]\u001b[A\n",
      " 28%|██▊       | 82/293 [00:23<01:04,  3.28it/s]\u001b[A\n",
      " 28%|██▊       | 83/293 [00:24<01:04,  3.26it/s]\u001b[A\n",
      " 29%|██▊       | 84/293 [00:24<01:04,  3.23it/s]\u001b[A\n",
      " 29%|██▉       | 85/293 [00:24<01:04,  3.21it/s]\u001b[A\n",
      " 29%|██▉       | 86/293 [00:25<01:04,  3.21it/s]\u001b[A\n",
      " 30%|██▉       | 87/293 [00:25<01:02,  3.28it/s]\u001b[A\n",
      " 30%|███       | 88/293 [00:25<01:03,  3.23it/s]\u001b[A\n",
      " 30%|███       | 89/293 [00:26<01:28,  2.29it/s]\u001b[A\n",
      " 31%|███       | 90/293 [00:26<01:19,  2.54it/s]\u001b[A\n",
      " 31%|███       | 91/293 [00:27<01:12,  2.80it/s]\u001b[A\n",
      " 31%|███▏      | 92/293 [00:27<01:08,  2.94it/s]\u001b[A\n",
      " 32%|███▏      | 93/293 [00:27<01:07,  2.95it/s]\u001b[A\n",
      " 32%|███▏      | 94/293 [00:28<01:04,  3.11it/s]\u001b[A\n",
      " 32%|███▏      | 95/293 [00:28<01:06,  2.97it/s]\u001b[A\n",
      " 33%|███▎      | 96/293 [00:28<01:05,  3.02it/s]\u001b[A\n",
      " 33%|███▎      | 97/293 [00:28<01:01,  3.20it/s]\u001b[A\n",
      " 33%|███▎      | 98/293 [00:29<00:57,  3.41it/s]\u001b[A\n",
      " 34%|███▍      | 99/293 [00:29<00:54,  3.59it/s]\u001b[A\n",
      " 34%|███▍      | 100/293 [00:29<00:57,  3.35it/s]\u001b[A\n",
      " 34%|███▍      | 101/293 [00:30<00:56,  3.40it/s]\u001b[A\n",
      " 35%|███▍      | 102/293 [00:30<00:54,  3.51it/s]\u001b[A\n",
      " 35%|███▌      | 103/293 [00:30<00:54,  3.51it/s]\u001b[A\n",
      " 35%|███▌      | 104/293 [00:30<00:54,  3.44it/s]\u001b[A\n",
      " 36%|███▌      | 105/293 [00:31<00:53,  3.53it/s]\u001b[A\n",
      " 36%|███▌      | 106/293 [00:31<01:04,  2.92it/s]\u001b[A\n",
      " 37%|███▋      | 107/293 [00:32<01:03,  2.91it/s]\u001b[A\n",
      " 37%|███▋      | 108/293 [00:32<01:01,  3.00it/s]\u001b[A\n",
      " 37%|███▋      | 109/293 [00:32<00:59,  3.08it/s]\u001b[A\n",
      " 38%|███▊      | 110/293 [00:32<00:58,  3.15it/s]\u001b[A\n",
      " 38%|███▊      | 111/293 [00:33<00:54,  3.33it/s]\u001b[A\n",
      " 38%|███▊      | 112/293 [00:33<00:52,  3.47it/s]\u001b[A\n",
      " 39%|███▊      | 113/293 [00:33<01:02,  2.88it/s]\u001b[A\n",
      " 39%|███▉      | 114/293 [00:34<00:58,  3.04it/s]\u001b[A\n",
      " 39%|███▉      | 115/293 [00:34<00:54,  3.25it/s]\u001b[A\n",
      " 40%|███▉      | 116/293 [00:34<00:50,  3.53it/s]\u001b[A\n",
      " 40%|███▉      | 117/293 [00:34<00:48,  3.66it/s]\u001b[A\n",
      " 40%|████      | 118/293 [00:35<00:47,  3.66it/s]\u001b[A\n",
      " 41%|████      | 119/293 [00:35<00:49,  3.54it/s]\u001b[A\n",
      " 41%|████      | 120/293 [00:35<00:52,  3.30it/s]\u001b[A\n",
      " 41%|████▏     | 121/293 [00:36<00:52,  3.26it/s]\u001b[A\n",
      " 42%|████▏     | 122/293 [00:36<00:51,  3.35it/s]\u001b[A\n",
      " 42%|████▏     | 123/293 [00:36<00:53,  3.20it/s]\u001b[A\n",
      " 42%|████▏     | 124/293 [00:37<00:50,  3.37it/s]\u001b[A\n",
      " 43%|████▎     | 125/293 [00:37<00:51,  3.28it/s]\u001b[A\n",
      " 43%|████▎     | 126/293 [00:37<00:53,  3.13it/s]\u001b[A\n",
      " 43%|████▎     | 127/293 [00:38<00:53,  3.12it/s]\u001b[A\n",
      " 44%|████▎     | 128/293 [00:38<00:51,  3.23it/s]\u001b[A\n",
      " 44%|████▍     | 129/293 [00:38<00:49,  3.32it/s]\u001b[A\n",
      " 44%|████▍     | 130/293 [00:38<00:46,  3.50it/s]\u001b[A\n",
      " 45%|████▍     | 131/293 [00:39<00:53,  3.05it/s]\u001b[A\n",
      " 45%|████▌     | 132/293 [00:39<00:49,  3.26it/s]\u001b[A\n",
      " 45%|████▌     | 133/293 [00:39<00:50,  3.17it/s]\u001b[A\n",
      " 46%|████▌     | 134/293 [00:40<00:47,  3.36it/s]\u001b[A\n",
      " 46%|████▌     | 135/293 [00:40<00:48,  3.28it/s]\u001b[A\n",
      " 46%|████▋     | 136/293 [00:40<00:48,  3.21it/s]\u001b[A\n",
      " 47%|████▋     | 137/293 [00:41<00:50,  3.09it/s]\u001b[A\n",
      " 47%|████▋     | 138/293 [00:41<00:49,  3.11it/s]\u001b[A\n",
      " 47%|████▋     | 139/293 [00:41<00:49,  3.11it/s]\u001b[A\n",
      " 48%|████▊     | 140/293 [00:42<00:47,  3.24it/s]\u001b[A\n",
      " 48%|████▊     | 141/293 [00:42<00:45,  3.32it/s]\u001b[A\n",
      " 48%|████▊     | 142/293 [00:42<00:46,  3.24it/s]\u001b[A\n",
      " 49%|████▉     | 143/293 [00:43<00:46,  3.20it/s]\u001b[A\n",
      " 49%|████▉     | 144/293 [00:43<00:49,  3.04it/s]\u001b[A\n",
      " 49%|████▉     | 145/293 [00:43<00:46,  3.19it/s]\u001b[A\n",
      " 50%|████▉     | 146/293 [00:44<00:45,  3.23it/s]\u001b[A\n",
      " 50%|█████     | 147/293 [00:44<00:45,  3.23it/s]\u001b[A\n",
      " 51%|█████     | 148/293 [00:44<00:44,  3.27it/s]\u001b[A\n",
      " 51%|█████     | 149/293 [00:44<00:40,  3.53it/s]\u001b[A\n",
      " 51%|█████     | 150/293 [00:45<00:44,  3.23it/s]\u001b[A\n",
      " 52%|█████▏    | 151/293 [00:45<00:43,  3.26it/s]\u001b[A\n",
      " 52%|█████▏    | 152/293 [00:45<00:40,  3.45it/s]\u001b[A\n",
      " 52%|█████▏    | 153/293 [00:46<00:41,  3.39it/s]\u001b[A\n",
      " 53%|█████▎    | 154/293 [00:46<00:42,  3.25it/s]\u001b[A\n",
      " 53%|█████▎    | 155/293 [00:46<00:43,  3.20it/s]\u001b[A\n",
      " 53%|█████▎    | 156/293 [00:46<00:39,  3.43it/s]\u001b[A\n",
      " 54%|█████▎    | 157/293 [00:47<00:41,  3.26it/s]\u001b[A\n",
      " 54%|█████▍    | 158/293 [00:47<00:42,  3.17it/s]\u001b[A\n",
      " 54%|█████▍    | 159/293 [00:47<00:39,  3.36it/s]\u001b[A\n",
      " 55%|█████▍    | 160/293 [00:48<00:38,  3.44it/s]\u001b[A\n",
      " 55%|█████▍    | 161/293 [00:48<00:39,  3.37it/s]\u001b[A\n",
      " 55%|█████▌    | 162/293 [00:48<00:38,  3.42it/s]\u001b[A\n",
      " 56%|█████▌    | 163/293 [00:49<00:38,  3.37it/s]\u001b[A\n",
      " 56%|█████▌    | 164/293 [00:49<00:40,  3.17it/s]\u001b[A\n",
      " 56%|█████▋    | 165/293 [00:49<00:40,  3.13it/s]\u001b[A\n",
      " 57%|█████▋    | 166/293 [00:50<00:38,  3.33it/s]\u001b[A\n",
      " 57%|█████▋    | 167/293 [00:50<00:37,  3.33it/s]\u001b[A\n",
      " 57%|█████▋    | 168/293 [00:50<00:35,  3.57it/s]\u001b[A\n",
      " 58%|█████▊    | 169/293 [00:50<00:36,  3.36it/s]\u001b[A\n",
      " 58%|█████▊    | 170/293 [00:51<00:37,  3.31it/s]\u001b[A\n",
      " 58%|█████▊    | 171/293 [00:51<00:37,  3.25it/s]\u001b[A\n",
      " 59%|█████▊    | 172/293 [00:51<00:37,  3.23it/s]\u001b[A\n",
      " 59%|█████▉    | 173/293 [00:52<00:35,  3.40it/s]\u001b[A\n",
      " 59%|█████▉    | 174/293 [00:52<00:35,  3.35it/s]\u001b[A\n",
      " 60%|█████▉    | 175/293 [00:52<00:35,  3.29it/s]\u001b[A\n",
      " 60%|██████    | 176/293 [00:53<00:38,  3.05it/s]\u001b[A\n",
      " 60%|██████    | 177/293 [00:53<00:35,  3.25it/s]\u001b[A\n",
      " 61%|██████    | 178/293 [00:53<00:34,  3.30it/s]\u001b[A\n",
      " 61%|██████    | 179/293 [00:53<00:34,  3.30it/s]\u001b[A\n",
      " 61%|██████▏   | 180/293 [00:54<00:34,  3.30it/s]\u001b[A\n",
      " 62%|██████▏   | 181/293 [00:54<00:31,  3.50it/s]\u001b[A\n",
      " 62%|██████▏   | 182/293 [00:54<00:29,  3.73it/s]\u001b[A\n",
      " 62%|██████▏   | 183/293 [00:54<00:28,  3.83it/s]\u001b[A\n",
      " 63%|██████▎   | 184/293 [00:55<00:30,  3.60it/s]\u001b[A\n",
      " 63%|██████▎   | 185/293 [00:55<00:30,  3.58it/s]\u001b[A\n",
      " 63%|██████▎   | 186/293 [00:55<00:32,  3.31it/s]\u001b[A\n",
      " 64%|██████▍   | 187/293 [00:56<00:32,  3.25it/s]\u001b[A\n",
      " 64%|██████▍   | 188/293 [00:56<00:32,  3.24it/s]\u001b[A\n",
      " 65%|██████▍   | 189/293 [00:56<00:33,  3.12it/s]\u001b[A\n",
      " 65%|██████▍   | 190/293 [00:57<00:35,  2.94it/s]\u001b[A\n",
      " 65%|██████▌   | 191/293 [00:57<00:33,  3.01it/s]\u001b[A\n",
      " 66%|██████▌   | 192/293 [00:57<00:34,  2.92it/s]\u001b[A\n",
      " 66%|██████▌   | 193/293 [00:58<00:32,  3.12it/s]\u001b[A\n",
      " 66%|██████▌   | 194/293 [00:58<00:30,  3.30it/s]\u001b[A\n",
      " 67%|██████▋   | 195/293 [00:58<00:29,  3.37it/s]\u001b[A\n",
      " 67%|██████▋   | 196/293 [00:59<00:27,  3.52it/s]\u001b[A\n",
      " 67%|██████▋   | 197/293 [00:59<00:27,  3.44it/s]\u001b[A\n",
      " 68%|██████▊   | 198/293 [00:59<00:29,  3.26it/s]\u001b[A\n",
      " 68%|██████▊   | 199/293 [00:59<00:27,  3.44it/s]\u001b[A\n",
      " 68%|██████▊   | 200/293 [01:00<00:26,  3.56it/s]\u001b[A\n",
      " 69%|██████▊   | 201/293 [01:00<00:26,  3.51it/s]\u001b[A\n",
      " 69%|██████▉   | 202/293 [01:00<00:26,  3.44it/s]\u001b[A\n",
      " 69%|██████▉   | 203/293 [01:01<00:25,  3.52it/s]\u001b[A\n",
      " 70%|██████▉   | 204/293 [01:01<00:25,  3.47it/s]\u001b[A\n",
      " 70%|██████▉   | 205/293 [01:01<00:26,  3.35it/s]\u001b[A\n",
      " 70%|███████   | 206/293 [01:02<00:27,  3.18it/s]\u001b[A\n",
      " 71%|███████   | 207/293 [01:02<00:26,  3.20it/s]\u001b[A\n",
      " 71%|███████   | 208/293 [01:02<00:25,  3.30it/s]\u001b[A\n",
      " 71%|███████▏  | 209/293 [01:02<00:25,  3.28it/s]\u001b[A\n",
      " 72%|███████▏  | 210/293 [01:03<00:24,  3.37it/s]\u001b[A\n",
      " 72%|███████▏  | 211/293 [01:03<00:25,  3.25it/s]\u001b[A\n",
      " 72%|███████▏  | 212/293 [01:03<00:25,  3.18it/s]\u001b[A\n",
      " 73%|███████▎  | 213/293 [01:04<00:23,  3.39it/s]\u001b[A\n",
      " 73%|███████▎  | 214/293 [01:04<00:23,  3.37it/s]\u001b[A\n",
      " 73%|███████▎  | 215/293 [01:04<00:22,  3.42it/s]\u001b[A\n",
      " 74%|███████▎  | 216/293 [01:05<00:23,  3.24it/s]\u001b[A\n",
      " 74%|███████▍  | 217/293 [01:05<00:22,  3.39it/s]\u001b[A\n",
      " 74%|███████▍  | 218/293 [01:05<00:21,  3.56it/s]\u001b[A\n",
      " 75%|███████▍  | 219/293 [01:05<00:21,  3.40it/s]\u001b[A\n",
      " 75%|███████▌  | 220/293 [01:06<00:20,  3.50it/s]\u001b[A\n",
      " 75%|███████▌  | 221/293 [01:06<00:21,  3.37it/s]\u001b[A\n",
      " 76%|███████▌  | 222/293 [01:06<00:22,  3.21it/s]\u001b[A\n",
      " 76%|███████▌  | 223/293 [01:07<00:21,  3.33it/s]\u001b[A\n",
      " 76%|███████▋  | 224/293 [01:07<00:22,  3.08it/s]\u001b[A\n",
      " 77%|███████▋  | 225/293 [01:07<00:20,  3.32it/s]\u001b[A\n",
      " 77%|███████▋  | 226/293 [01:08<00:21,  3.13it/s]\u001b[A\n",
      " 77%|███████▋  | 227/293 [01:08<00:21,  3.12it/s]\u001b[A\n",
      " 78%|███████▊  | 228/293 [01:08<00:20,  3.23it/s]\u001b[A\n",
      " 78%|███████▊  | 229/293 [01:09<00:20,  3.11it/s]\u001b[A\n",
      " 78%|███████▊  | 230/293 [01:09<00:19,  3.21it/s]\u001b[A\n",
      " 79%|███████▉  | 231/293 [01:09<00:19,  3.21it/s]\u001b[A\n",
      " 79%|███████▉  | 232/293 [01:09<00:18,  3.33it/s]\u001b[A\n",
      " 80%|███████▉  | 233/293 [01:10<00:22,  2.63it/s]\u001b[A\n",
      " 80%|███████▉  | 234/293 [01:10<00:20,  2.83it/s]\u001b[A\n",
      " 80%|████████  | 235/293 [01:11<00:21,  2.67it/s]\u001b[A\n",
      " 81%|████████  | 236/293 [01:11<00:20,  2.78it/s]\u001b[A\n",
      " 81%|████████  | 237/293 [01:11<00:18,  3.00it/s]\u001b[A\n",
      " 81%|████████  | 238/293 [01:12<00:17,  3.09it/s]\u001b[A\n",
      " 82%|████████▏ | 239/293 [01:12<00:17,  3.10it/s]\u001b[A\n",
      " 82%|████████▏ | 240/293 [01:12<00:16,  3.13it/s]\u001b[A\n",
      " 82%|████████▏ | 241/293 [01:13<00:16,  3.22it/s]\u001b[A\n",
      " 83%|████████▎ | 242/293 [01:13<00:16,  3.18it/s]\u001b[A\n",
      " 83%|████████▎ | 243/293 [01:13<00:15,  3.25it/s]\u001b[A\n",
      " 83%|████████▎ | 244/293 [01:13<00:15,  3.24it/s]\u001b[A\n",
      " 84%|████████▎ | 245/293 [01:14<00:13,  3.51it/s]\u001b[A\n",
      " 84%|████████▍ | 246/293 [01:14<00:13,  3.38it/s]\u001b[A\n",
      " 84%|████████▍ | 247/293 [01:14<00:14,  3.21it/s]\u001b[A\n",
      " 85%|████████▍ | 248/293 [01:15<00:13,  3.46it/s]\u001b[A\n",
      " 85%|████████▍ | 249/293 [01:15<00:12,  3.64it/s]\u001b[A\n",
      " 85%|████████▌ | 250/293 [01:15<00:12,  3.52it/s]\u001b[A\n",
      " 86%|████████▌ | 251/293 [01:15<00:12,  3.48it/s]\u001b[A\n",
      " 86%|████████▌ | 252/293 [01:16<00:11,  3.43it/s]\u001b[A\n",
      " 86%|████████▋ | 253/293 [01:16<00:11,  3.52it/s]\u001b[A\n",
      " 87%|████████▋ | 254/293 [01:16<00:09,  3.93it/s]\u001b[A\n",
      " 87%|████████▋ | 255/293 [01:16<00:10,  3.72it/s]\u001b[A\n",
      " 87%|████████▋ | 256/293 [01:17<00:10,  3.53it/s]\u001b[A\n",
      " 88%|████████▊ | 257/293 [01:17<00:10,  3.46it/s]\u001b[A\n",
      " 88%|████████▊ | 258/293 [01:17<00:09,  3.56it/s]\u001b[A\n",
      " 88%|████████▊ | 259/293 [01:18<00:09,  3.51it/s]\u001b[A\n",
      " 89%|████████▊ | 260/293 [01:18<00:11,  2.95it/s]\u001b[A\n",
      " 89%|████████▉ | 261/293 [01:18<00:10,  3.14it/s]\u001b[A\n",
      " 89%|████████▉ | 262/293 [01:19<00:09,  3.31it/s]\u001b[A\n",
      " 90%|████████▉ | 263/293 [01:19<00:09,  3.30it/s]\u001b[A\n",
      " 90%|█████████ | 264/293 [01:19<00:09,  3.19it/s]\u001b[A\n",
      " 90%|█████████ | 265/293 [01:20<00:08,  3.24it/s]\u001b[A\n",
      " 91%|█████████ | 266/293 [01:20<00:08,  3.30it/s]\u001b[A\n",
      " 91%|█████████ | 267/293 [01:20<00:07,  3.34it/s]\u001b[A\n",
      " 91%|█████████▏| 268/293 [01:20<00:07,  3.37it/s]\u001b[A\n",
      " 92%|█████████▏| 269/293 [01:21<00:07,  3.34it/s]\u001b[A\n",
      " 92%|█████████▏| 270/293 [01:21<00:06,  3.48it/s]\u001b[A\n",
      " 92%|█████████▏| 271/293 [01:21<00:06,  3.28it/s]\u001b[A\n",
      " 93%|█████████▎| 272/293 [01:22<00:06,  3.38it/s]\u001b[A\n",
      " 93%|█████████▎| 273/293 [01:22<00:06,  3.22it/s]\u001b[A\n",
      " 94%|█████████▎| 274/293 [01:22<00:05,  3.24it/s]\u001b[A\n",
      " 94%|█████████▍| 275/293 [01:23<00:05,  3.29it/s]\u001b[A\n",
      " 94%|█████████▍| 276/293 [01:23<00:05,  3.20it/s]\u001b[A\n",
      " 95%|█████████▍| 277/293 [01:23<00:04,  3.23it/s]\u001b[A\n",
      " 95%|█████████▍| 278/293 [01:24<00:04,  3.32it/s]\u001b[A\n",
      " 95%|█████████▌| 279/293 [01:24<00:04,  2.94it/s]\u001b[A\n",
      " 96%|█████████▌| 280/293 [01:24<00:04,  3.04it/s]\u001b[A\n",
      " 96%|█████████▌| 281/293 [01:25<00:03,  3.14it/s]\u001b[A\n",
      " 96%|█████████▌| 282/293 [01:25<00:03,  3.31it/s]\u001b[A\n",
      " 97%|█████████▋| 283/293 [01:25<00:03,  3.09it/s]\u001b[A\n",
      " 97%|█████████▋| 284/293 [01:26<00:02,  3.05it/s]\u001b[A\n",
      " 97%|█████████▋| 285/293 [01:26<00:02,  3.05it/s]\u001b[A\n",
      " 98%|█████████▊| 286/293 [01:26<00:02,  3.05it/s]\u001b[A\n",
      " 98%|█████████▊| 287/293 [01:26<00:01,  3.22it/s]\u001b[A\n",
      " 98%|█████████▊| 288/293 [01:27<00:01,  3.18it/s]\u001b[A\n",
      " 99%|█████████▊| 289/293 [01:27<00:01,  3.45it/s]\u001b[A\n",
      " 99%|█████████▉| 290/293 [01:27<00:00,  3.46it/s]\u001b[A\n",
      " 99%|█████████▉| 291/293 [01:28<00:00,  3.52it/s]\u001b[A\n",
      "100%|█████████▉| 292/293 [01:28<00:00,  3.43it/s]\u001b[A\n",
      "100%|██████████| 293/293 [01:28<00:00,  3.30it/s]\n",
      "\n",
      "  0%|          | 0/98 [00:00<?, ?it/s]\u001b[A\n",
      "  1%|          | 1/98 [00:00<00:19,  5.05it/s]\u001b[A\n",
      "  2%|▏         | 2/98 [00:00<00:17,  5.62it/s]\u001b[A\n",
      "  3%|▎         | 3/98 [00:00<00:19,  4.85it/s]\u001b[A\n",
      "  4%|▍         | 4/98 [00:00<00:17,  5.50it/s]\u001b[A\n",
      "  5%|▌         | 5/98 [00:00<00:15,  6.10it/s]\u001b[A\n",
      "  6%|▌         | 6/98 [00:01<00:15,  5.93it/s]\u001b[A\n",
      "  7%|▋         | 7/98 [00:01<00:13,  6.63it/s]\u001b[A\n",
      "  8%|▊         | 8/98 [00:01<00:13,  6.64it/s]\u001b[A\n",
      "  9%|▉         | 9/98 [00:01<00:13,  6.65it/s]\u001b[A\n",
      " 10%|█         | 10/98 [00:01<00:14,  6.13it/s]\u001b[A\n",
      " 11%|█         | 11/98 [00:01<00:13,  6.48it/s]\u001b[A\n",
      " 12%|█▏        | 12/98 [00:01<00:13,  6.39it/s]\u001b[A\n",
      " 13%|█▎        | 13/98 [00:02<00:12,  6.55it/s]\u001b[A\n",
      " 14%|█▍        | 14/98 [00:02<00:12,  6.57it/s]\u001b[A\n",
      " 15%|█▌        | 15/98 [00:02<00:12,  6.58it/s]\u001b[A\n",
      " 16%|█▋        | 16/98 [00:02<00:11,  7.08it/s]\u001b[A\n",
      " 17%|█▋        | 17/98 [00:02<00:12,  6.72it/s]\u001b[A\n",
      " 18%|█▊        | 18/98 [00:02<00:12,  6.43it/s]\u001b[A\n",
      " 19%|█▉        | 19/98 [00:02<00:12,  6.31it/s]\u001b[A\n",
      " 20%|██        | 20/98 [00:03<00:12,  6.48it/s]\u001b[A\n",
      " 21%|██▏       | 21/98 [00:03<00:11,  6.57it/s]\u001b[A\n",
      " 22%|██▏       | 22/98 [00:03<00:11,  6.61it/s]\u001b[A\n",
      " 23%|██▎       | 23/98 [00:03<00:10,  6.90it/s]\u001b[A\n",
      " 24%|██▍       | 24/98 [00:03<00:10,  7.19it/s]\u001b[A\n",
      " 26%|██▌       | 25/98 [00:03<00:10,  7.26it/s]\u001b[A\n",
      " 27%|██▋       | 26/98 [00:03<00:10,  6.96it/s]\u001b[A\n",
      " 28%|██▊       | 27/98 [00:04<00:09,  7.20it/s]\u001b[A\n",
      " 29%|██▊       | 28/98 [00:04<00:09,  7.15it/s]\u001b[A\n",
      " 30%|██▉       | 29/98 [00:04<00:09,  6.97it/s]\u001b[A\n",
      " 31%|███       | 30/98 [00:04<00:09,  7.02it/s]\u001b[A\n",
      " 32%|███▏      | 31/98 [00:04<00:09,  6.89it/s]\u001b[A\n",
      " 33%|███▎      | 32/98 [00:04<00:09,  6.74it/s]\u001b[A\n",
      " 34%|███▎      | 33/98 [00:05<00:10,  6.25it/s]\u001b[A\n",
      " 35%|███▍      | 34/98 [00:05<00:10,  6.22it/s]\u001b[A\n",
      " 36%|███▌      | 35/98 [00:05<00:10,  5.96it/s]\u001b[A\n",
      " 37%|███▋      | 36/98 [00:05<00:09,  6.25it/s]\u001b[A\n",
      " 38%|███▊      | 37/98 [00:05<00:10,  6.02it/s]\u001b[A\n",
      " 39%|███▉      | 38/98 [00:05<00:09,  6.51it/s]\u001b[A\n",
      " 40%|███▉      | 39/98 [00:05<00:08,  6.60it/s]\u001b[A\n",
      " 41%|████      | 40/98 [00:06<00:08,  6.63it/s]\u001b[A\n",
      " 42%|████▏     | 41/98 [00:06<00:08,  6.97it/s]\u001b[A\n",
      " 44%|████▍     | 43/98 [00:06<00:07,  7.46it/s]\u001b[A\n",
      " 45%|████▍     | 44/98 [00:06<00:06,  7.92it/s]\u001b[A\n",
      " 46%|████▌     | 45/98 [00:06<00:06,  7.81it/s]\u001b[A\n",
      " 47%|████▋     | 46/98 [00:06<00:07,  7.40it/s]\u001b[A\n",
      " 48%|████▊     | 47/98 [00:07<00:07,  6.41it/s]\u001b[A\n",
      " 49%|████▉     | 48/98 [00:07<00:07,  6.55it/s]\u001b[A\n",
      " 50%|█████     | 49/98 [00:07<00:07,  6.96it/s]\u001b[A\n",
      " 51%|█████     | 50/98 [00:07<00:07,  6.81it/s]\u001b[A\n",
      " 52%|█████▏    | 51/98 [00:07<00:06,  6.94it/s]\u001b[A\n",
      " 53%|█████▎    | 52/98 [00:07<00:06,  7.12it/s]\u001b[A\n",
      " 54%|█████▍    | 53/98 [00:07<00:06,  7.50it/s]\u001b[A\n",
      " 55%|█████▌    | 54/98 [00:08<00:06,  7.14it/s]\u001b[A\n",
      " 56%|█████▌    | 55/98 [00:08<00:06,  6.85it/s]\u001b[A\n",
      " 57%|█████▋    | 56/98 [00:08<00:05,  7.49it/s]\u001b[A\n",
      " 58%|█████▊    | 57/98 [00:08<00:05,  7.15it/s]\u001b[A\n",
      " 59%|█████▉    | 58/98 [00:08<00:05,  7.58it/s]\u001b[A\n",
      " 60%|██████    | 59/98 [00:08<00:04,  7.81it/s]\u001b[A\n",
      " 61%|██████    | 60/98 [00:08<00:05,  7.16it/s]\u001b[A\n",
      " 62%|██████▏   | 61/98 [00:09<00:05,  7.06it/s]\u001b[A\n",
      " 63%|██████▎   | 62/98 [00:09<00:05,  6.91it/s]\u001b[A\n",
      " 64%|██████▍   | 63/98 [00:09<00:04,  7.12it/s]\u001b[A\n",
      " 65%|██████▌   | 64/98 [00:09<00:04,  7.14it/s]\u001b[A\n",
      " 66%|██████▋   | 65/98 [00:09<00:04,  7.19it/s]\u001b[A\n",
      " 67%|██████▋   | 66/98 [00:09<00:04,  6.91it/s]\u001b[A\n",
      " 68%|██████▊   | 67/98 [00:09<00:04,  6.95it/s]\u001b[A\n",
      " 69%|██████▉   | 68/98 [00:09<00:04,  7.08it/s]\u001b[A\n",
      " 70%|███████   | 69/98 [00:10<00:04,  6.83it/s]\u001b[A\n",
      " 71%|███████▏  | 70/98 [00:10<00:03,  7.01it/s]\u001b[A\n",
      " 73%|███████▎  | 72/98 [00:10<00:03,  7.73it/s]\u001b[A\n",
      " 74%|███████▍  | 73/98 [00:10<00:03,  7.74it/s]\u001b[A\n",
      " 76%|███████▌  | 74/98 [00:10<00:03,  7.64it/s]\u001b[A\n",
      " 77%|███████▋  | 75/98 [00:10<00:02,  8.15it/s]\u001b[A\n",
      " 78%|███████▊  | 76/98 [00:11<00:02,  7.39it/s]\u001b[A\n",
      " 79%|███████▊  | 77/98 [00:11<00:02,  7.12it/s]\u001b[A\n",
      " 80%|███████▉  | 78/98 [00:11<00:02,  7.24it/s]\u001b[A\n",
      " 81%|████████  | 79/98 [00:11<00:02,  7.42it/s]\u001b[A\n",
      " 82%|████████▏ | 80/98 [00:11<00:02,  7.16it/s]\u001b[A\n",
      " 83%|████████▎ | 81/98 [00:11<00:02,  5.94it/s]\u001b[A\n",
      " 84%|████████▎ | 82/98 [00:11<00:02,  6.40it/s]\u001b[A\n",
      " 85%|████████▍ | 83/98 [00:12<00:02,  6.99it/s]\u001b[A\n",
      " 86%|████████▌ | 84/98 [00:12<00:02,  6.91it/s]\u001b[A\n",
      " 87%|████████▋ | 85/98 [00:12<00:01,  7.33it/s]\u001b[A\n",
      " 88%|████████▊ | 86/98 [00:12<00:01,  7.03it/s]\u001b[A\n",
      " 89%|████████▉ | 87/98 [00:12<00:01,  7.10it/s]\u001b[A\n",
      " 90%|████████▉ | 88/98 [00:12<00:01,  7.77it/s]\u001b[A\n",
      " 91%|█████████ | 89/98 [00:12<00:01,  7.50it/s]\u001b[A\n",
      " 92%|█████████▏| 90/98 [00:12<00:01,  7.79it/s]\u001b[A\n",
      " 93%|█████████▎| 91/98 [00:13<00:00,  7.41it/s]\u001b[A\n",
      " 94%|█████████▍| 92/98 [00:13<00:00,  7.45it/s]\u001b[A\n",
      " 95%|█████████▍| 93/98 [00:13<00:00,  7.61it/s]\u001b[A\n",
      " 96%|█████████▌| 94/98 [00:13<00:00,  6.83it/s]\u001b[A\n",
      " 97%|█████████▋| 95/98 [00:13<00:00,  7.16it/s]\u001b[A\n",
      " 98%|█████████▊| 96/98 [00:13<00:00,  6.86it/s]\u001b[A\n",
      " 99%|█████████▉| 97/98 [00:14<00:00,  6.75it/s]\u001b[A\n",
      "100%|██████████| 98/98 [00:14<00:00,  6.94it/s]\n",
      "\n",
      "  0%|          | 0/293 [00:00<?, ?it/s]\u001b[A"
     ]
    },
    {
     "name": "stdout",
     "output_type": "stream",
     "text": [
      "Epochs    1 | Train Loss 0.5727 | Train Acc 0.6919 | Test Loss 0.4260 | Test Acc 0.8150\n"
     ]
    },
    {
     "name": "stderr",
     "output_type": "stream",
     "text": [
      "\n",
      "  0%|          | 1/293 [00:00<01:17,  3.75it/s]\u001b[A\n",
      "  1%|          | 2/293 [00:00<01:23,  3.48it/s]\u001b[A\n",
      "  1%|          | 3/293 [00:00<01:19,  3.63it/s]\u001b[A\n",
      "  1%|▏         | 4/293 [00:01<01:17,  3.73it/s]\u001b[A\n",
      "  2%|▏         | 5/293 [00:01<01:14,  3.84it/s]\u001b[A\n",
      "  2%|▏         | 6/293 [00:01<01:16,  3.76it/s]\u001b[A\n",
      "  2%|▏         | 7/293 [00:01<01:23,  3.43it/s]\u001b[A\n",
      "  3%|▎         | 8/293 [00:02<01:24,  3.39it/s]\u001b[A\n",
      "  3%|▎         | 9/293 [00:02<01:20,  3.52it/s]\u001b[A\n",
      "  3%|▎         | 10/293 [00:02<01:24,  3.35it/s]\u001b[A\n",
      "  4%|▍         | 11/293 [00:03<01:27,  3.22it/s]\u001b[A\n",
      "  4%|▍         | 12/293 [00:03<01:27,  3.21it/s]\u001b[A\n",
      "  4%|▍         | 13/293 [00:03<01:24,  3.33it/s]\u001b[A\n",
      "  5%|▍         | 14/293 [00:04<01:21,  3.42it/s]\u001b[A\n",
      "  5%|▌         | 15/293 [00:04<01:21,  3.41it/s]\u001b[A\n",
      "  5%|▌         | 16/293 [00:04<01:17,  3.57it/s]\u001b[A\n",
      "  6%|▌         | 17/293 [00:04<01:16,  3.60it/s]\u001b[A\n",
      "  6%|▌         | 18/293 [00:05<01:14,  3.69it/s]\u001b[A\n",
      "  6%|▋         | 19/293 [00:05<01:18,  3.49it/s]\u001b[A\n",
      "  7%|▋         | 20/293 [00:05<01:20,  3.39it/s]\u001b[A\n",
      "  7%|▋         | 21/293 [00:06<01:24,  3.22it/s]\u001b[A\n",
      "  8%|▊         | 22/293 [00:06<01:24,  3.19it/s]\u001b[A\n",
      "  8%|▊         | 23/293 [00:06<01:25,  3.15it/s]\u001b[A\n",
      "  8%|▊         | 24/293 [00:07<01:24,  3.18it/s]\u001b[A\n",
      "  9%|▊         | 25/293 [00:07<01:24,  3.18it/s]\u001b[A\n",
      "  9%|▉         | 26/293 [00:07<01:25,  3.11it/s]\u001b[A\n",
      "  9%|▉         | 27/293 [00:07<01:17,  3.42it/s]\u001b[A\n",
      " 10%|▉         | 28/293 [00:08<01:10,  3.73it/s]\u001b[A\n",
      " 10%|▉         | 29/293 [00:08<01:10,  3.76it/s]\u001b[A\n",
      " 10%|█         | 30/293 [00:08<01:14,  3.52it/s]\u001b[A\n",
      " 11%|█         | 31/293 [00:09<01:12,  3.62it/s]\u001b[A\n",
      " 11%|█         | 32/293 [00:09<01:09,  3.75it/s]\u001b[A\n",
      " 11%|█▏        | 33/293 [00:09<01:11,  3.61it/s]\u001b[A\n",
      " 12%|█▏        | 34/293 [00:09<01:16,  3.38it/s]\u001b[A\n",
      " 12%|█▏        | 35/293 [00:10<01:15,  3.40it/s]\u001b[A\n",
      " 12%|█▏        | 36/293 [00:10<01:14,  3.45it/s]\u001b[A\n",
      " 13%|█▎        | 37/293 [00:10<01:10,  3.62it/s]\u001b[A\n",
      " 13%|█▎        | 38/293 [00:10<01:06,  3.82it/s]\u001b[A\n",
      " 13%|█▎        | 39/293 [00:11<01:10,  3.59it/s]\u001b[A\n",
      " 14%|█▎        | 40/293 [00:11<01:07,  3.75it/s]\u001b[A\n",
      " 14%|█▍        | 41/293 [00:11<01:12,  3.50it/s]\u001b[A\n",
      " 14%|█▍        | 42/293 [00:12<01:10,  3.58it/s]\u001b[A\n",
      " 15%|█▍        | 43/293 [00:12<01:11,  3.50it/s]\u001b[A\n",
      " 15%|█▌        | 44/293 [00:12<01:17,  3.20it/s]\u001b[A\n",
      " 15%|█▌        | 45/293 [00:13<01:13,  3.38it/s]\u001b[A\n",
      " 16%|█▌        | 46/293 [00:13<01:09,  3.55it/s]\u001b[A\n",
      " 16%|█▌        | 47/293 [00:13<01:10,  3.48it/s]\u001b[A\n",
      " 16%|█▋        | 48/293 [00:13<01:10,  3.48it/s]\u001b[A\n",
      " 17%|█▋        | 49/293 [00:14<01:12,  3.37it/s]\u001b[A\n",
      " 17%|█▋        | 50/293 [00:14<01:07,  3.58it/s]\u001b[A\n",
      " 17%|█▋        | 51/293 [00:14<01:06,  3.64it/s]\u001b[A\n",
      " 18%|█▊        | 52/293 [00:14<01:08,  3.50it/s]\u001b[A\n",
      " 18%|█▊        | 53/293 [00:15<01:09,  3.45it/s]\u001b[A\n",
      " 18%|█▊        | 54/293 [00:15<01:09,  3.42it/s]\u001b[A\n",
      " 19%|█▉        | 55/293 [00:15<01:10,  3.37it/s]\u001b[A\n",
      " 19%|█▉        | 56/293 [00:16<01:09,  3.42it/s]\u001b[A\n",
      " 19%|█▉        | 57/293 [00:16<01:07,  3.50it/s]\u001b[A\n",
      " 20%|█▉        | 58/293 [00:16<01:06,  3.51it/s]\u001b[A\n",
      " 20%|██        | 59/293 [00:16<01:04,  3.63it/s]\u001b[A\n",
      " 20%|██        | 60/293 [00:17<01:00,  3.87it/s]\u001b[A\n",
      " 21%|██        | 61/293 [00:17<01:03,  3.64it/s]\u001b[A\n",
      " 21%|██        | 62/293 [00:17<01:05,  3.52it/s]\u001b[A\n",
      " 22%|██▏       | 63/293 [00:18<01:07,  3.40it/s]\u001b[A\n",
      " 22%|██▏       | 64/293 [00:18<01:02,  3.67it/s]\u001b[A\n",
      " 22%|██▏       | 65/293 [00:18<01:05,  3.49it/s]\u001b[A\n",
      " 23%|██▎       | 66/293 [00:18<01:04,  3.54it/s]\u001b[A\n",
      " 23%|██▎       | 67/293 [00:19<01:02,  3.64it/s]\u001b[A\n",
      " 23%|██▎       | 68/293 [00:19<01:05,  3.44it/s]\u001b[A\n",
      " 24%|██▎       | 69/293 [00:19<01:01,  3.67it/s]\u001b[A\n",
      " 24%|██▍       | 70/293 [00:20<01:03,  3.49it/s]\u001b[A\n",
      " 24%|██▍       | 71/293 [00:20<01:07,  3.28it/s]\u001b[A\n",
      " 25%|██▍       | 72/293 [00:20<01:02,  3.52it/s]\u001b[A\n",
      " 25%|██▍       | 73/293 [00:20<01:03,  3.47it/s]\u001b[A\n",
      " 25%|██▌       | 74/293 [00:21<01:04,  3.41it/s]\u001b[A\n",
      " 26%|██▌       | 75/293 [00:21<01:00,  3.63it/s]\u001b[A\n",
      " 26%|██▌       | 76/293 [00:21<00:59,  3.64it/s]\u001b[A\n",
      " 26%|██▋       | 77/293 [00:22<01:01,  3.54it/s]\u001b[A\n",
      " 27%|██▋       | 78/293 [00:22<00:59,  3.59it/s]\u001b[A\n",
      " 27%|██▋       | 79/293 [00:22<01:02,  3.40it/s]\u001b[A\n",
      " 27%|██▋       | 80/293 [00:22<01:03,  3.35it/s]\u001b[A\n",
      " 28%|██▊       | 81/293 [00:23<00:59,  3.55it/s]\u001b[A\n",
      " 28%|██▊       | 82/293 [00:23<01:02,  3.35it/s]\u001b[A\n",
      " 28%|██▊       | 83/293 [00:23<01:04,  3.26it/s]\u001b[A\n",
      " 29%|██▊       | 84/293 [00:24<01:04,  3.23it/s]\u001b[A\n",
      " 29%|██▉       | 85/293 [00:24<01:03,  3.30it/s]\u001b[A\n",
      " 29%|██▉       | 86/293 [00:24<01:02,  3.29it/s]\u001b[A\n",
      " 30%|██▉       | 87/293 [00:25<01:01,  3.34it/s]\u001b[A\n",
      " 30%|███       | 88/293 [00:25<01:02,  3.26it/s]\u001b[A\n",
      " 30%|███       | 89/293 [00:26<01:27,  2.34it/s]\u001b[A\n",
      " 31%|███       | 90/293 [00:26<01:17,  2.63it/s]\u001b[A\n",
      " 31%|███       | 91/293 [00:26<01:11,  2.84it/s]\u001b[A\n",
      " 31%|███▏      | 92/293 [00:26<01:07,  2.99it/s]\u001b[A\n",
      " 32%|███▏      | 93/293 [00:27<01:07,  2.97it/s]\u001b[A\n",
      " 32%|███▏      | 94/293 [00:27<01:03,  3.12it/s]\u001b[A\n",
      " 32%|███▏      | 95/293 [00:27<01:05,  3.04it/s]\u001b[A\n",
      " 33%|███▎      | 96/293 [00:28<01:04,  3.05it/s]\u001b[A\n",
      " 33%|███▎      | 97/293 [00:28<01:01,  3.20it/s]\u001b[A\n",
      " 33%|███▎      | 98/293 [00:28<00:57,  3.38it/s]\u001b[A\n",
      " 34%|███▍      | 99/293 [00:29<00:54,  3.55it/s]\u001b[A\n",
      " 34%|███▍      | 100/293 [00:29<00:56,  3.41it/s]\u001b[A\n",
      " 34%|███▍      | 101/293 [00:29<00:55,  3.45it/s]\u001b[A\n",
      " 35%|███▍      | 102/293 [00:29<00:53,  3.58it/s]\u001b[A\n",
      " 35%|███▌      | 103/293 [00:30<00:53,  3.54it/s]\u001b[A\n",
      " 35%|███▌      | 104/293 [00:30<00:54,  3.44it/s]\u001b[A\n",
      " 36%|███▌      | 105/293 [00:30<00:54,  3.48it/s]\u001b[A\n",
      " 36%|███▌      | 106/293 [00:31<01:03,  2.96it/s]\u001b[A\n",
      " 37%|███▋      | 107/293 [00:31<01:01,  3.00it/s]\u001b[A\n",
      " 37%|███▋      | 108/293 [00:31<01:00,  3.07it/s]\u001b[A\n",
      " 37%|███▋      | 109/293 [00:32<00:58,  3.12it/s]\u001b[A\n",
      " 38%|███▊      | 110/293 [00:32<00:56,  3.23it/s]\u001b[A\n",
      " 38%|███▊      | 111/293 [00:32<00:53,  3.38it/s]\u001b[A\n",
      " 38%|███▊      | 112/293 [00:33<00:51,  3.49it/s]\u001b[A\n",
      " 39%|███▊      | 113/293 [00:33<01:03,  2.84it/s]\u001b[A\n",
      " 39%|███▉      | 114/293 [00:33<00:58,  3.08it/s]\u001b[A\n",
      " 39%|███▉      | 115/293 [00:34<00:53,  3.33it/s]\u001b[A\n",
      " 40%|███▉      | 116/293 [00:34<00:49,  3.61it/s]\u001b[A\n",
      " 40%|███▉      | 117/293 [00:34<00:48,  3.61it/s]\u001b[A\n",
      " 40%|████      | 118/293 [00:34<00:48,  3.60it/s]\u001b[A\n",
      " 41%|████      | 119/293 [00:35<00:49,  3.49it/s]\u001b[A\n",
      " 41%|████      | 120/293 [00:35<00:53,  3.23it/s]\u001b[A\n",
      " 41%|████▏     | 121/293 [00:35<00:53,  3.21it/s]\u001b[A\n",
      " 42%|████▏     | 122/293 [00:36<00:51,  3.33it/s]\u001b[A\n",
      " 42%|████▏     | 123/293 [00:36<00:53,  3.17it/s]\u001b[A\n",
      " 42%|████▏     | 124/293 [00:36<00:50,  3.33it/s]\u001b[A\n",
      " 43%|████▎     | 125/293 [00:37<00:52,  3.17it/s]\u001b[A\n",
      " 43%|████▎     | 126/293 [00:37<00:53,  3.10it/s]\u001b[A\n",
      " 43%|████▎     | 127/293 [00:37<00:53,  3.10it/s]\u001b[A\n",
      " 44%|████▎     | 128/293 [00:37<00:51,  3.19it/s]\u001b[A\n",
      " 44%|████▍     | 129/293 [00:38<00:49,  3.31it/s]\u001b[A\n",
      " 44%|████▍     | 130/293 [00:38<00:46,  3.48it/s]\u001b[A\n",
      " 45%|████▍     | 131/293 [00:38<00:51,  3.12it/s]\u001b[A\n",
      " 45%|████▌     | 132/293 [00:39<00:48,  3.33it/s]\u001b[A\n",
      " 45%|████▌     | 133/293 [00:39<00:49,  3.26it/s]\u001b[A\n",
      " 46%|████▌     | 134/293 [00:39<00:46,  3.41it/s]\u001b[A\n",
      " 46%|████▌     | 135/293 [00:40<00:47,  3.34it/s]\u001b[A\n",
      " 46%|████▋     | 136/293 [00:40<00:46,  3.37it/s]\u001b[A\n",
      " 47%|████▋     | 137/293 [00:40<00:47,  3.28it/s]\u001b[A\n",
      " 47%|████▋     | 138/293 [00:40<00:48,  3.19it/s]\u001b[A\n",
      " 47%|████▋     | 139/293 [00:41<00:49,  3.08it/s]\u001b[A\n",
      " 48%|████▊     | 140/293 [00:41<00:48,  3.17it/s]\u001b[A\n",
      " 48%|████▊     | 141/293 [00:41<00:46,  3.28it/s]\u001b[A\n",
      " 48%|████▊     | 142/293 [00:42<00:46,  3.22it/s]\u001b[A\n",
      " 49%|████▉     | 143/293 [00:42<00:45,  3.28it/s]\u001b[A\n",
      " 49%|████▉     | 144/293 [00:42<00:47,  3.17it/s]\u001b[A\n",
      " 49%|████▉     | 145/293 [00:43<00:45,  3.27it/s]\u001b[A\n",
      " 50%|████▉     | 146/293 [00:43<00:43,  3.35it/s]\u001b[A\n",
      " 50%|█████     | 147/293 [00:43<00:43,  3.36it/s]\u001b[A\n",
      " 51%|█████     | 148/293 [00:44<00:43,  3.35it/s]\u001b[A\n",
      " 51%|█████     | 149/293 [00:44<00:40,  3.58it/s]\u001b[A\n",
      " 51%|█████     | 150/293 [00:44<00:42,  3.37it/s]\u001b[A\n",
      " 52%|█████▏    | 151/293 [00:44<00:41,  3.44it/s]\u001b[A\n",
      " 52%|█████▏    | 152/293 [00:45<00:39,  3.60it/s]\u001b[A\n",
      " 52%|█████▏    | 153/293 [00:45<00:40,  3.48it/s]\u001b[A\n",
      " 53%|█████▎    | 154/293 [00:45<00:42,  3.23it/s]\u001b[A\n",
      " 53%|█████▎    | 155/293 [00:46<00:43,  3.15it/s]\u001b[A\n",
      " 53%|█████▎    | 156/293 [00:46<00:40,  3.39it/s]\u001b[A\n",
      " 54%|█████▎    | 157/293 [00:46<00:40,  3.34it/s]\u001b[A\n",
      " 54%|█████▍    | 158/293 [00:47<00:40,  3.31it/s]\u001b[A\n",
      " 54%|█████▍    | 159/293 [00:47<00:39,  3.42it/s]\u001b[A\n",
      " 55%|█████▍    | 160/293 [00:47<00:38,  3.47it/s]\u001b[A\n",
      " 55%|█████▍    | 161/293 [00:47<00:39,  3.36it/s]\u001b[A\n",
      " 55%|█████▌    | 162/293 [00:48<00:38,  3.38it/s]\u001b[A\n",
      " 56%|█████▌    | 163/293 [00:48<00:39,  3.33it/s]\u001b[A\n",
      " 56%|█████▌    | 164/293 [00:48<00:39,  3.23it/s]\u001b[A\n",
      " 56%|█████▋    | 165/293 [00:49<00:39,  3.24it/s]\u001b[A\n",
      " 57%|█████▋    | 166/293 [00:49<00:37,  3.40it/s]\u001b[A\n",
      " 57%|█████▋    | 167/293 [00:49<00:37,  3.34it/s]\u001b[A\n",
      " 57%|█████▋    | 168/293 [00:49<00:35,  3.55it/s]\u001b[A\n",
      " 58%|█████▊    | 169/293 [00:50<00:36,  3.42it/s]\u001b[A\n",
      " 58%|█████▊    | 170/293 [00:50<00:35,  3.43it/s]\u001b[A\n",
      " 58%|█████▊    | 171/293 [00:50<00:35,  3.39it/s]\u001b[A\n",
      " 59%|█████▊    | 172/293 [00:51<00:36,  3.31it/s]\u001b[A\n",
      " 59%|█████▉    | 173/293 [00:51<00:34,  3.52it/s]\u001b[A\n",
      " 59%|█████▉    | 174/293 [00:51<00:34,  3.43it/s]\u001b[A\n",
      " 60%|█████▉    | 175/293 [00:51<00:34,  3.43it/s]\u001b[A\n",
      " 60%|██████    | 176/293 [00:52<00:37,  3.12it/s]\u001b[A\n",
      " 60%|██████    | 177/293 [00:52<00:34,  3.32it/s]\u001b[A\n",
      " 61%|██████    | 178/293 [00:52<00:33,  3.43it/s]\u001b[A\n",
      " 61%|██████    | 179/293 [00:53<00:33,  3.38it/s]\u001b[A\n",
      " 61%|██████▏   | 180/293 [00:53<00:34,  3.27it/s]\u001b[A\n",
      " 62%|██████▏   | 181/293 [00:53<00:32,  3.48it/s]\u001b[A\n",
      " 62%|██████▏   | 182/293 [00:54<00:30,  3.69it/s]\u001b[A\n",
      " 62%|██████▏   | 183/293 [00:54<00:29,  3.78it/s]\u001b[A\n",
      " 63%|██████▎   | 184/293 [00:54<00:29,  3.67it/s]\u001b[A\n",
      " 63%|██████▎   | 185/293 [00:54<00:29,  3.65it/s]\u001b[A\n",
      " 63%|██████▎   | 186/293 [00:55<00:32,  3.32it/s]\u001b[A\n",
      " 64%|██████▍   | 187/293 [00:55<00:31,  3.34it/s]\u001b[A\n",
      " 64%|██████▍   | 188/293 [00:55<00:30,  3.40it/s]\u001b[A\n",
      " 65%|██████▍   | 189/293 [00:56<00:32,  3.22it/s]\u001b[A\n",
      " 65%|██████▍   | 190/293 [00:56<00:33,  3.09it/s]\u001b[A\n",
      " 65%|██████▌   | 191/293 [00:56<00:32,  3.14it/s]\u001b[A\n",
      " 66%|██████▌   | 192/293 [00:57<00:32,  3.11it/s]\u001b[A\n",
      " 66%|██████▌   | 193/293 [00:57<00:29,  3.34it/s]\u001b[A\n",
      " 66%|██████▌   | 194/293 [00:57<00:28,  3.47it/s]\u001b[A\n",
      " 67%|██████▋   | 195/293 [00:57<00:28,  3.47it/s]\u001b[A\n",
      " 67%|██████▋   | 196/293 [00:58<00:27,  3.58it/s]\u001b[A\n",
      " 67%|██████▋   | 197/293 [00:58<00:27,  3.47it/s]\u001b[A\n",
      " 68%|██████▊   | 198/293 [00:58<00:28,  3.37it/s]\u001b[A\n",
      " 68%|██████▊   | 199/293 [00:59<00:26,  3.53it/s]\u001b[A\n",
      " 68%|██████▊   | 200/293 [00:59<00:25,  3.61it/s]\u001b[A\n",
      " 69%|██████▊   | 201/293 [00:59<00:25,  3.55it/s]\u001b[A\n",
      " 69%|██████▉   | 202/293 [00:59<00:27,  3.36it/s]\u001b[A\n",
      " 69%|██████▉   | 203/293 [01:00<00:26,  3.45it/s]\u001b[A\n",
      " 70%|██████▉   | 204/293 [01:00<00:26,  3.42it/s]\u001b[A\n",
      " 70%|██████▉   | 205/293 [01:00<00:26,  3.31it/s]\u001b[A\n",
      " 70%|███████   | 206/293 [01:01<00:26,  3.28it/s]\u001b[A\n",
      " 71%|███████   | 207/293 [01:01<00:26,  3.23it/s]\u001b[A\n",
      " 71%|███████   | 208/293 [01:01<00:25,  3.34it/s]\u001b[A\n",
      " 71%|███████▏  | 209/293 [01:02<00:24,  3.37it/s]\u001b[A\n",
      " 72%|███████▏  | 210/293 [01:02<00:23,  3.49it/s]\u001b[A\n",
      " 72%|███████▏  | 211/293 [01:02<00:24,  3.34it/s]\u001b[A\n",
      " 72%|███████▏  | 212/293 [01:02<00:24,  3.31it/s]\u001b[A\n",
      " 73%|███████▎  | 213/293 [01:03<00:22,  3.50it/s]\u001b[A\n",
      " 73%|███████▎  | 214/293 [01:03<00:23,  3.41it/s]\u001b[A\n",
      " 73%|███████▎  | 215/293 [01:03<00:22,  3.53it/s]\u001b[A\n",
      " 74%|███████▎  | 216/293 [01:04<00:23,  3.34it/s]\u001b[A\n",
      " 74%|███████▍  | 217/293 [01:04<00:21,  3.53it/s]\u001b[A\n",
      " 74%|███████▍  | 218/293 [01:04<00:20,  3.64it/s]\u001b[A\n",
      " 75%|███████▍  | 219/293 [01:04<00:20,  3.54it/s]\u001b[A\n",
      " 75%|███████▌  | 220/293 [01:05<00:20,  3.65it/s]\u001b[A\n",
      " 75%|███████▌  | 221/293 [01:05<00:20,  3.53it/s]\u001b[A\n",
      " 76%|███████▌  | 222/293 [01:05<00:20,  3.39it/s]\u001b[A\n",
      " 76%|███████▌  | 223/293 [01:06<00:20,  3.42it/s]\u001b[A\n",
      " 76%|███████▋  | 224/293 [01:06<00:21,  3.16it/s]\u001b[A\n",
      " 77%|███████▋  | 225/293 [01:06<00:20,  3.38it/s]\u001b[A\n",
      " 77%|███████▋  | 226/293 [01:07<00:20,  3.25it/s]\u001b[A\n",
      " 77%|███████▋  | 227/293 [01:07<00:20,  3.30it/s]\u001b[A\n",
      " 78%|███████▊  | 228/293 [01:07<00:19,  3.35it/s]\u001b[A\n",
      " 78%|███████▊  | 229/293 [01:07<00:19,  3.25it/s]\u001b[A\n",
      " 78%|███████▊  | 230/293 [01:08<00:19,  3.29it/s]\u001b[A\n",
      " 79%|███████▉  | 231/293 [01:08<00:18,  3.33it/s]\u001b[A\n",
      " 79%|███████▉  | 232/293 [01:08<00:17,  3.42it/s]\u001b[A\n",
      " 80%|███████▉  | 233/293 [01:09<00:21,  2.74it/s]\u001b[A\n",
      " 80%|███████▉  | 234/293 [01:09<00:20,  2.90it/s]\u001b[A\n",
      " 80%|████████  | 235/293 [01:10<00:20,  2.79it/s]\u001b[A\n",
      " 81%|████████  | 236/293 [01:10<00:19,  2.87it/s]\u001b[A\n",
      " 81%|████████  | 237/293 [01:10<00:18,  2.99it/s]\u001b[A\n",
      " 81%|████████  | 238/293 [01:10<00:17,  3.13it/s]\u001b[A\n",
      " 82%|████████▏ | 239/293 [01:11<00:17,  3.14it/s]\u001b[A\n",
      " 82%|████████▏ | 240/293 [01:11<00:16,  3.15it/s]\u001b[A\n",
      " 82%|████████▏ | 241/293 [01:11<00:15,  3.25it/s]\u001b[A\n",
      " 83%|████████▎ | 242/293 [01:12<00:15,  3.20it/s]\u001b[A\n",
      " 83%|████████▎ | 243/293 [01:12<00:15,  3.24it/s]\u001b[A\n",
      " 83%|████████▎ | 244/293 [01:12<00:15,  3.22it/s]\u001b[A\n",
      " 84%|████████▎ | 245/293 [01:13<00:13,  3.46it/s]\u001b[A\n",
      " 84%|████████▍ | 246/293 [01:13<00:14,  3.33it/s]\u001b[A\n",
      " 84%|████████▍ | 247/293 [01:13<00:14,  3.25it/s]\u001b[A\n",
      " 85%|████████▍ | 248/293 [01:13<00:12,  3.50it/s]\u001b[A\n",
      " 85%|████████▍ | 249/293 [01:14<00:12,  3.65it/s]\u001b[A\n",
      " 85%|████████▌ | 250/293 [01:14<00:12,  3.49it/s]\u001b[A\n",
      " 86%|████████▌ | 251/293 [01:14<00:12,  3.42it/s]\u001b[A\n",
      " 86%|████████▌ | 252/293 [01:15<00:11,  3.43it/s]\u001b[A\n",
      " 86%|████████▋ | 253/293 [01:15<00:11,  3.50it/s]\u001b[A\n",
      " 87%|████████▋ | 254/293 [01:15<00:09,  3.94it/s]\u001b[A\n",
      " 87%|████████▋ | 255/293 [01:15<00:10,  3.74it/s]\u001b[A\n",
      " 87%|████████▋ | 256/293 [01:16<00:10,  3.53it/s]\u001b[A\n",
      " 88%|████████▊ | 257/293 [01:16<00:10,  3.53it/s]\u001b[A\n",
      " 88%|████████▊ | 258/293 [01:16<00:09,  3.70it/s]\u001b[A\n",
      " 88%|████████▊ | 259/293 [01:16<00:09,  3.60it/s]\u001b[A\n",
      " 89%|████████▊ | 260/293 [01:17<00:10,  3.06it/s]\u001b[A\n",
      " 89%|████████▉ | 261/293 [01:17<00:09,  3.29it/s]\u001b[A\n",
      " 89%|████████▉ | 262/293 [01:17<00:08,  3.45it/s]\u001b[A\n",
      " 90%|████████▉ | 263/293 [01:18<00:08,  3.41it/s]\u001b[A\n",
      " 90%|█████████ | 264/293 [01:18<00:08,  3.33it/s]\u001b[A\n",
      " 90%|█████████ | 265/293 [01:18<00:08,  3.34it/s]\u001b[A\n",
      " 91%|█████████ | 266/293 [01:19<00:08,  3.34it/s]\u001b[A\n",
      " 91%|█████████ | 267/293 [01:19<00:07,  3.36it/s]\u001b[A\n",
      " 91%|█████████▏| 268/293 [01:19<00:07,  3.37it/s]\u001b[A\n",
      " 92%|█████████▏| 269/293 [01:19<00:07,  3.36it/s]\u001b[A\n",
      " 92%|█████████▏| 270/293 [01:20<00:06,  3.47it/s]\u001b[A\n",
      " 92%|█████████▏| 271/293 [01:20<00:06,  3.37it/s]\u001b[A\n",
      " 93%|█████████▎| 272/293 [01:20<00:06,  3.41it/s]\u001b[A\n",
      " 93%|█████████▎| 273/293 [01:21<00:06,  3.29it/s]\u001b[A\n",
      " 94%|█████████▎| 274/293 [01:21<00:05,  3.28it/s]\u001b[A\n",
      " 94%|█████████▍| 275/293 [01:21<00:05,  3.32it/s]\u001b[A\n",
      " 94%|█████████▍| 276/293 [01:22<00:05,  3.23it/s]\u001b[A\n",
      " 95%|█████████▍| 277/293 [01:22<00:04,  3.25it/s]\u001b[A\n",
      " 95%|█████████▍| 278/293 [01:22<00:04,  3.40it/s]\u001b[A\n",
      " 95%|█████████▌| 279/293 [01:23<00:04,  2.98it/s]\u001b[A\n",
      " 96%|█████████▌| 280/293 [01:23<00:04,  3.11it/s]\u001b[A\n",
      " 96%|█████████▌| 281/293 [01:23<00:03,  3.20it/s]\u001b[A\n",
      " 96%|█████████▌| 282/293 [01:23<00:03,  3.34it/s]\u001b[A\n",
      " 97%|█████████▋| 283/293 [01:24<00:03,  3.23it/s]\u001b[A\n",
      " 97%|█████████▋| 284/293 [01:24<00:02,  3.14it/s]\u001b[A\n",
      " 97%|█████████▋| 285/293 [01:24<00:02,  3.09it/s]\u001b[A\n",
      " 98%|█████████▊| 286/293 [01:25<00:02,  3.07it/s]\u001b[A\n",
      " 98%|█████████▊| 287/293 [01:25<00:01,  3.21it/s]\u001b[A\n",
      " 98%|█████████▊| 288/293 [01:25<00:01,  3.17it/s]\u001b[A\n",
      " 99%|█████████▊| 289/293 [01:26<00:01,  3.52it/s]\u001b[A\n",
      " 99%|█████████▉| 290/293 [01:26<00:00,  3.53it/s]\u001b[A\n",
      " 99%|█████████▉| 291/293 [01:26<00:00,  3.56it/s]\u001b[A\n",
      "100%|█████████▉| 292/293 [01:26<00:00,  3.45it/s]\u001b[A\n",
      "100%|██████████| 293/293 [01:27<00:00,  3.36it/s]\n",
      "\n",
      "  0%|          | 0/98 [00:00<?, ?it/s]\u001b[A\n",
      "  1%|          | 1/98 [00:00<00:19,  5.08it/s]\u001b[A\n",
      "  2%|▏         | 2/98 [00:00<00:17,  5.62it/s]\u001b[A\n",
      "  3%|▎         | 3/98 [00:00<00:18,  5.09it/s]\u001b[A\n",
      "  4%|▍         | 4/98 [00:00<00:16,  5.70it/s]\u001b[A\n",
      "  5%|▌         | 5/98 [00:00<00:15,  6.19it/s]\u001b[A\n",
      "  6%|▌         | 6/98 [00:00<00:14,  6.26it/s]\u001b[A\n",
      "  7%|▋         | 7/98 [00:01<00:13,  6.88it/s]\u001b[A\n",
      "  8%|▊         | 8/98 [00:01<00:13,  6.83it/s]\u001b[A\n",
      "  9%|▉         | 9/98 [00:01<00:13,  6.72it/s]\u001b[A\n",
      " 10%|█         | 10/98 [00:01<00:13,  6.52it/s]\u001b[A\n",
      " 11%|█         | 11/98 [00:01<00:12,  7.02it/s]\u001b[A\n",
      " 12%|█▏        | 12/98 [00:01<00:12,  6.75it/s]\u001b[A\n",
      " 13%|█▎        | 13/98 [00:01<00:12,  6.78it/s]\u001b[A\n",
      " 14%|█▍        | 14/98 [00:02<00:12,  6.73it/s]\u001b[A\n",
      " 15%|█▌        | 15/98 [00:02<00:12,  6.73it/s]\u001b[A\n",
      " 16%|█▋        | 16/98 [00:02<00:11,  7.17it/s]\u001b[A\n",
      " 17%|█▋        | 17/98 [00:02<00:11,  7.24it/s]\u001b[A\n",
      " 18%|█▊        | 18/98 [00:02<00:11,  7.16it/s]\u001b[A\n",
      " 19%|█▉        | 19/98 [00:02<00:11,  6.74it/s]\u001b[A\n",
      " 20%|██        | 20/98 [00:02<00:11,  6.82it/s]\u001b[A\n",
      " 21%|██▏       | 21/98 [00:03<00:10,  7.03it/s]\u001b[A\n",
      " 22%|██▏       | 22/98 [00:03<00:10,  7.03it/s]\u001b[A\n",
      " 23%|██▎       | 23/98 [00:03<00:10,  7.27it/s]\u001b[A\n",
      " 24%|██▍       | 24/98 [00:03<00:09,  7.52it/s]\u001b[A\n",
      " 26%|██▌       | 25/98 [00:03<00:09,  7.51it/s]\u001b[A\n",
      " 27%|██▋       | 26/98 [00:03<00:10,  6.58it/s]\u001b[A\n",
      " 28%|██▊       | 27/98 [00:03<00:09,  7.18it/s]\u001b[A\n",
      " 29%|██▊       | 28/98 [00:04<00:09,  7.24it/s]\u001b[A\n",
      " 30%|██▉       | 29/98 [00:04<00:09,  7.07it/s]\u001b[A\n",
      " 31%|███       | 30/98 [00:04<00:09,  7.06it/s]\u001b[A\n",
      " 32%|███▏      | 31/98 [00:04<00:10,  6.33it/s]\u001b[A\n",
      " 33%|███▎      | 32/98 [00:04<00:09,  6.67it/s]\u001b[A\n",
      " 34%|███▎      | 33/98 [00:04<00:09,  6.51it/s]\u001b[A\n",
      " 35%|███▍      | 34/98 [00:05<00:10,  6.39it/s]\u001b[A\n",
      " 36%|███▌      | 35/98 [00:05<00:10,  6.08it/s]\u001b[A\n",
      " 37%|███▋      | 36/98 [00:05<00:09,  6.32it/s]\u001b[A\n",
      " 38%|███▊      | 37/98 [00:05<00:10,  6.09it/s]\u001b[A\n",
      " 39%|███▉      | 38/98 [00:05<00:09,  6.56it/s]\u001b[A\n",
      " 40%|███▉      | 39/98 [00:05<00:09,  6.50it/s]\u001b[A\n",
      " 41%|████      | 40/98 [00:05<00:08,  6.66it/s]\u001b[A\n",
      " 42%|████▏     | 41/98 [00:06<00:08,  6.98it/s]\u001b[A\n",
      " 44%|████▍     | 43/98 [00:06<00:07,  7.27it/s]\u001b[A\n",
      " 45%|████▍     | 44/98 [00:06<00:06,  7.76it/s]\u001b[A\n",
      " 46%|████▌     | 45/98 [00:06<00:06,  7.81it/s]\u001b[A\n",
      " 47%|████▋     | 46/98 [00:06<00:07,  7.35it/s]\u001b[A\n",
      " 48%|████▊     | 47/98 [00:06<00:07,  6.88it/s]\u001b[A\n",
      " 49%|████▉     | 48/98 [00:07<00:07,  6.88it/s]\u001b[A\n",
      " 50%|█████     | 49/98 [00:07<00:06,  7.18it/s]\u001b[A\n",
      " 51%|█████     | 50/98 [00:07<00:07,  6.58it/s]\u001b[A\n",
      " 52%|█████▏    | 51/98 [00:07<00:07,  6.71it/s]\u001b[A\n",
      " 53%|█████▎    | 52/98 [00:07<00:06,  6.89it/s]\u001b[A\n",
      " 54%|█████▍    | 53/98 [00:07<00:06,  7.33it/s]\u001b[A\n",
      " 55%|█████▌    | 54/98 [00:07<00:06,  7.06it/s]\u001b[A\n",
      " 56%|█████▌    | 55/98 [00:08<00:06,  6.90it/s]\u001b[A\n",
      " 57%|█████▋    | 56/98 [00:08<00:05,  7.51it/s]\u001b[A\n",
      " 58%|█████▊    | 57/98 [00:08<00:05,  7.15it/s]\u001b[A\n",
      " 59%|█████▉    | 58/98 [00:08<00:05,  7.62it/s]\u001b[A\n",
      " 60%|██████    | 59/98 [00:08<00:05,  7.46it/s]\u001b[A\n",
      " 61%|██████    | 60/98 [00:08<00:05,  6.93it/s]\u001b[A\n",
      " 62%|██████▏   | 61/98 [00:08<00:05,  6.84it/s]\u001b[A\n",
      " 63%|██████▎   | 62/98 [00:09<00:05,  6.72it/s]\u001b[A\n",
      " 64%|██████▍   | 63/98 [00:09<00:05,  6.77it/s]\u001b[A\n",
      " 65%|██████▌   | 64/98 [00:09<00:04,  6.90it/s]\u001b[A\n",
      " 66%|██████▋   | 65/98 [00:09<00:04,  7.05it/s]\u001b[A\n",
      " 67%|██████▋   | 66/98 [00:09<00:04,  6.84it/s]\u001b[A\n",
      " 68%|██████▊   | 67/98 [00:09<00:04,  6.77it/s]\u001b[A\n",
      " 69%|██████▉   | 68/98 [00:09<00:04,  6.65it/s]\u001b[A\n",
      " 70%|███████   | 69/98 [00:10<00:04,  6.51it/s]\u001b[A\n",
      " 71%|███████▏  | 70/98 [00:10<00:04,  6.77it/s]\u001b[A\n",
      " 73%|███████▎  | 72/98 [00:10<00:03,  7.54it/s]\u001b[A\n",
      " 74%|███████▍  | 73/98 [00:10<00:03,  7.58it/s]\u001b[A\n",
      " 76%|███████▌  | 74/98 [00:10<00:03,  7.47it/s]\u001b[A\n",
      " 77%|███████▋  | 75/98 [00:10<00:02,  8.01it/s]\u001b[A\n",
      " 78%|███████▊  | 76/98 [00:10<00:03,  7.29it/s]\u001b[A\n",
      " 79%|███████▊  | 77/98 [00:11<00:02,  7.09it/s]\u001b[A\n",
      " 80%|███████▉  | 78/98 [00:11<00:02,  7.16it/s]\u001b[A\n",
      " 81%|████████  | 79/98 [00:11<00:02,  7.36it/s]\u001b[A\n",
      " 82%|████████▏ | 80/98 [00:11<00:02,  7.10it/s]\u001b[A\n",
      " 83%|████████▎ | 81/98 [00:11<00:02,  5.77it/s]\u001b[A\n",
      " 84%|████████▎ | 82/98 [00:11<00:02,  6.27it/s]\u001b[A\n",
      " 85%|████████▍ | 83/98 [00:12<00:02,  6.80it/s]\u001b[A\n",
      " 86%|████████▌ | 84/98 [00:12<00:02,  6.51it/s]\u001b[A\n",
      " 87%|████████▋ | 85/98 [00:12<00:01,  7.00it/s]\u001b[A\n",
      " 88%|████████▊ | 86/98 [00:12<00:01,  6.78it/s]\u001b[A\n",
      " 89%|████████▉ | 87/98 [00:12<00:01,  6.90it/s]\u001b[A\n",
      " 90%|████████▉ | 88/98 [00:12<00:01,  7.58it/s]\u001b[A\n",
      " 91%|█████████ | 89/98 [00:12<00:01,  7.36it/s]\u001b[A\n",
      " 92%|█████████▏| 90/98 [00:12<00:01,  7.73it/s]\u001b[A\n",
      " 93%|█████████▎| 91/98 [00:13<00:00,  7.34it/s]\u001b[A\n",
      " 94%|█████████▍| 92/98 [00:13<00:00,  7.42it/s]\u001b[A\n",
      " 95%|█████████▍| 93/98 [00:13<00:00,  7.59it/s]\u001b[A\n",
      " 96%|█████████▌| 94/98 [00:13<00:00,  6.83it/s]\u001b[A\n",
      " 97%|█████████▋| 95/98 [00:13<00:00,  6.89it/s]\u001b[A\n",
      " 98%|█████████▊| 96/98 [00:13<00:00,  6.56it/s]\u001b[A\n",
      " 99%|█████████▉| 97/98 [00:14<00:00,  6.57it/s]\u001b[A\n",
      "100%|██████████| 98/98 [00:14<00:00,  6.94it/s]\n",
      "\n",
      "  0%|          | 0/293 [00:00<?, ?it/s]\u001b[A"
     ]
    },
    {
     "name": "stdout",
     "output_type": "stream",
     "text": [
      "Epochs    2 | Train Loss 0.4226 | Train Acc 0.8130 | Test Loss 0.3949 | Test Acc 0.8287\n"
     ]
    },
    {
     "name": "stderr",
     "output_type": "stream",
     "text": [
      "\n",
      "  0%|          | 1/293 [00:00<01:17,  3.76it/s]\u001b[A\n",
      "  1%|          | 2/293 [00:00<01:23,  3.50it/s]\u001b[A\n",
      "  1%|          | 3/293 [00:00<01:20,  3.61it/s]\u001b[A\n",
      "  1%|▏         | 4/293 [00:01<01:16,  3.76it/s]\u001b[A\n",
      "  2%|▏         | 5/293 [00:01<01:14,  3.87it/s]\u001b[A\n",
      "  2%|▏         | 6/293 [00:01<01:15,  3.79it/s]\u001b[A\n",
      "  2%|▏         | 7/293 [00:01<01:23,  3.44it/s]\u001b[A\n",
      "  3%|▎         | 8/293 [00:02<01:23,  3.41it/s]\u001b[A\n",
      "  3%|▎         | 9/293 [00:02<01:19,  3.56it/s]\u001b[A\n",
      "  3%|▎         | 10/293 [00:02<01:27,  3.24it/s]\u001b[A\n",
      "  4%|▍         | 11/293 [00:03<01:28,  3.19it/s]\u001b[A\n",
      "  4%|▍         | 12/293 [00:03<01:30,  3.10it/s]\u001b[A\n",
      "  4%|▍         | 13/293 [00:03<01:26,  3.24it/s]\u001b[A\n",
      "  5%|▍         | 14/293 [00:04<01:23,  3.35it/s]\u001b[A\n",
      "  5%|▌         | 15/293 [00:04<01:23,  3.34it/s]\u001b[A\n",
      "  5%|▌         | 16/293 [00:04<01:19,  3.47it/s]\u001b[A\n",
      "  6%|▌         | 17/293 [00:04<01:19,  3.49it/s]\u001b[A\n",
      "  6%|▌         | 18/293 [00:05<01:16,  3.62it/s]\u001b[A\n",
      "  6%|▋         | 19/293 [00:05<01:19,  3.43it/s]\u001b[A\n",
      "  7%|▋         | 20/293 [00:05<01:20,  3.41it/s]\u001b[A\n",
      "  7%|▋         | 21/293 [00:06<01:26,  3.15it/s]\u001b[A\n",
      "  8%|▊         | 22/293 [00:06<01:26,  3.12it/s]\u001b[A\n",
      "  8%|▊         | 23/293 [00:06<01:26,  3.12it/s]\u001b[A\n",
      "  8%|▊         | 24/293 [00:07<01:24,  3.19it/s]\u001b[A\n",
      "  9%|▊         | 25/293 [00:07<01:23,  3.21it/s]\u001b[A\n",
      "  9%|▉         | 26/293 [00:07<01:25,  3.13it/s]\u001b[A\n",
      "  9%|▉         | 27/293 [00:08<01:17,  3.43it/s]\u001b[A\n",
      " 10%|▉         | 28/293 [00:08<01:10,  3.77it/s]\u001b[A\n",
      " 10%|▉         | 29/293 [00:08<01:09,  3.79it/s]\u001b[A\n",
      " 10%|█         | 30/293 [00:08<01:13,  3.56it/s]\u001b[A\n",
      " 11%|█         | 31/293 [00:09<01:12,  3.61it/s]\u001b[A\n",
      " 11%|█         | 32/293 [00:09<01:08,  3.79it/s]\u001b[A\n",
      " 11%|█▏        | 33/293 [00:09<01:11,  3.64it/s]\u001b[A\n",
      " 12%|█▏        | 34/293 [00:09<01:15,  3.41it/s]\u001b[A\n",
      " 12%|█▏        | 35/293 [00:10<01:15,  3.43it/s]\u001b[A\n",
      " 12%|█▏        | 36/293 [00:10<01:14,  3.46it/s]\u001b[A\n",
      " 13%|█▎        | 37/293 [00:10<01:10,  3.64it/s]\u001b[A\n",
      " 13%|█▎        | 38/293 [00:10<01:06,  3.81it/s]\u001b[A\n",
      " 13%|█▎        | 39/293 [00:11<01:10,  3.60it/s]\u001b[A\n",
      " 14%|█▎        | 40/293 [00:11<01:07,  3.76it/s]\u001b[A\n",
      " 14%|█▍        | 41/293 [00:11<01:10,  3.57it/s]\u001b[A\n",
      " 14%|█▍        | 42/293 [00:12<01:09,  3.62it/s]\u001b[A\n",
      " 15%|█▍        | 43/293 [00:12<01:11,  3.51it/s]\u001b[A\n",
      " 15%|█▌        | 44/293 [00:12<01:17,  3.22it/s]\u001b[A\n",
      " 15%|█▌        | 45/293 [00:13<01:12,  3.40it/s]\u001b[A\n",
      " 16%|█▌        | 46/293 [00:13<01:07,  3.65it/s]\u001b[A\n",
      " 16%|█▌        | 47/293 [00:13<01:09,  3.55it/s]\u001b[A\n",
      " 16%|█▋        | 48/293 [00:13<01:09,  3.53it/s]\u001b[A\n",
      " 17%|█▋        | 49/293 [00:14<01:12,  3.38it/s]\u001b[A\n",
      " 17%|█▋        | 50/293 [00:14<01:07,  3.60it/s]\u001b[A\n",
      " 17%|█▋        | 51/293 [00:14<01:05,  3.67it/s]\u001b[A\n",
      " 18%|█▊        | 52/293 [00:15<01:09,  3.49it/s]\u001b[A\n",
      " 18%|█▊        | 53/293 [00:15<01:09,  3.45it/s]\u001b[A\n",
      " 18%|█▊        | 54/293 [00:15<01:09,  3.42it/s]\u001b[A\n",
      " 19%|█▉        | 55/293 [00:15<01:10,  3.39it/s]\u001b[A\n",
      " 19%|█▉        | 56/293 [00:16<01:09,  3.43it/s]\u001b[A\n",
      " 19%|█▉        | 57/293 [00:16<01:07,  3.52it/s]\u001b[A\n",
      " 20%|█▉        | 58/293 [00:16<01:06,  3.54it/s]\u001b[A\n",
      " 20%|██        | 59/293 [00:16<01:04,  3.63it/s]\u001b[A\n",
      " 20%|██        | 60/293 [00:17<01:01,  3.81it/s]\u001b[A\n",
      " 21%|██        | 61/293 [00:17<01:03,  3.66it/s]\u001b[A\n",
      " 21%|██        | 62/293 [00:17<01:05,  3.51it/s]\u001b[A\n",
      " 22%|██▏       | 63/293 [00:18<01:07,  3.41it/s]\u001b[A\n",
      " 22%|██▏       | 64/293 [00:18<01:02,  3.65it/s]\u001b[A\n",
      " 22%|██▏       | 65/293 [00:18<01:05,  3.49it/s]\u001b[A\n",
      " 23%|██▎       | 66/293 [00:18<01:04,  3.51it/s]\u001b[A\n",
      " 23%|██▎       | 67/293 [00:19<01:02,  3.62it/s]\u001b[A\n",
      " 23%|██▎       | 68/293 [00:19<01:04,  3.47it/s]\u001b[A\n",
      " 24%|██▎       | 69/293 [00:19<01:00,  3.70it/s]\u001b[A\n",
      " 24%|██▍       | 70/293 [00:20<01:03,  3.51it/s]\u001b[A\n",
      " 24%|██▍       | 71/293 [00:20<01:07,  3.29it/s]\u001b[A\n",
      " 25%|██▍       | 72/293 [00:20<01:02,  3.55it/s]\u001b[A\n",
      " 25%|██▍       | 73/293 [00:20<01:03,  3.49it/s]\u001b[A\n",
      " 25%|██▌       | 74/293 [00:21<01:02,  3.51it/s]\u001b[A\n",
      " 26%|██▌       | 75/293 [00:21<00:58,  3.73it/s]\u001b[A\n",
      " 26%|██▌       | 76/293 [00:21<00:58,  3.71it/s]\u001b[A\n",
      " 26%|██▋       | 77/293 [00:22<01:00,  3.59it/s]\u001b[A\n",
      " 27%|██▋       | 78/293 [00:22<01:00,  3.57it/s]\u001b[A\n",
      " 27%|██▋       | 79/293 [00:22<01:03,  3.39it/s]\u001b[A\n",
      " 27%|██▋       | 80/293 [00:22<01:04,  3.33it/s]\u001b[A\n",
      " 28%|██▊       | 81/293 [00:23<00:59,  3.57it/s]\u001b[A\n",
      " 28%|██▊       | 82/293 [00:23<01:04,  3.27it/s]\u001b[A\n",
      " 28%|██▊       | 83/293 [00:23<01:05,  3.23it/s]\u001b[A\n",
      " 29%|██▊       | 84/293 [00:24<01:05,  3.21it/s]\u001b[A\n",
      " 29%|██▉       | 85/293 [00:24<01:03,  3.26it/s]\u001b[A\n",
      " 29%|██▉       | 86/293 [00:24<01:05,  3.15it/s]\u001b[A\n",
      " 30%|██▉       | 87/293 [00:25<01:04,  3.22it/s]\u001b[A\n",
      " 30%|███       | 88/293 [00:25<01:04,  3.19it/s]\u001b[A\n",
      " 30%|███       | 89/293 [00:26<01:27,  2.33it/s]\u001b[A\n",
      " 31%|███       | 90/293 [00:26<01:17,  2.61it/s]\u001b[A\n",
      " 31%|███       | 91/293 [00:26<01:10,  2.86it/s]\u001b[A\n",
      " 31%|███▏      | 92/293 [00:27<01:06,  3.01it/s]\u001b[A\n",
      " 32%|███▏      | 93/293 [00:27<01:06,  2.99it/s]\u001b[A\n",
      " 32%|███▏      | 94/293 [00:27<01:03,  3.14it/s]\u001b[A\n",
      " 32%|███▏      | 95/293 [00:28<01:06,  2.98it/s]\u001b[A\n",
      " 33%|███▎      | 96/293 [00:28<01:05,  3.02it/s]\u001b[A\n",
      " 33%|███▎      | 97/293 [00:28<01:01,  3.17it/s]\u001b[A\n",
      " 33%|███▎      | 98/293 [00:28<00:57,  3.40it/s]\u001b[A\n",
      " 34%|███▍      | 99/293 [00:29<00:55,  3.52it/s]\u001b[A\n",
      " 34%|███▍      | 100/293 [00:29<00:57,  3.37it/s]\u001b[A\n",
      " 34%|███▍      | 101/293 [00:29<00:56,  3.39it/s]\u001b[A\n",
      " 35%|███▍      | 102/293 [00:29<00:53,  3.56it/s]\u001b[A\n",
      " 35%|███▌      | 103/293 [00:30<00:53,  3.55it/s]\u001b[A\n",
      " 35%|███▌      | 104/293 [00:30<00:55,  3.41it/s]\u001b[A\n",
      " 36%|███▌      | 105/293 [00:30<00:54,  3.42it/s]\u001b[A\n",
      " 36%|███▌      | 106/293 [00:31<01:03,  2.95it/s]\u001b[A\n",
      " 37%|███▋      | 107/293 [00:31<01:03,  2.91it/s]\u001b[A\n",
      " 37%|███▋      | 108/293 [00:31<01:01,  3.01it/s]\u001b[A\n",
      " 37%|███▋      | 109/293 [00:32<00:59,  3.08it/s]\u001b[A\n",
      " 38%|███▊      | 110/293 [00:32<00:57,  3.19it/s]\u001b[A\n",
      " 38%|███▊      | 111/293 [00:32<00:54,  3.34it/s]\u001b[A\n",
      " 38%|███▊      | 112/293 [00:33<00:53,  3.39it/s]\u001b[A\n",
      " 39%|███▊      | 113/293 [00:33<01:03,  2.83it/s]\u001b[A\n",
      " 39%|███▉      | 114/293 [00:33<00:58,  3.06it/s]\u001b[A\n",
      " 39%|███▉      | 115/293 [00:34<00:53,  3.30it/s]\u001b[A\n",
      " 40%|███▉      | 116/293 [00:34<00:49,  3.59it/s]\u001b[A\n",
      " 40%|███▉      | 117/293 [00:34<00:47,  3.67it/s]\u001b[A\n",
      " 40%|████      | 118/293 [00:34<00:47,  3.66it/s]\u001b[A\n",
      " 41%|████      | 119/293 [00:35<00:48,  3.55it/s]\u001b[A\n",
      " 41%|████      | 120/293 [00:35<00:54,  3.20it/s]\u001b[A\n",
      " 41%|████▏     | 121/293 [00:35<00:53,  3.20it/s]\u001b[A\n",
      " 42%|████▏     | 122/293 [00:36<00:51,  3.30it/s]\u001b[A\n",
      " 42%|████▏     | 123/293 [00:36<00:53,  3.18it/s]\u001b[A\n",
      " 42%|████▏     | 124/293 [00:36<00:50,  3.33it/s]\u001b[A\n",
      " 43%|████▎     | 125/293 [00:37<00:51,  3.25it/s]\u001b[A\n",
      " 43%|████▎     | 126/293 [00:37<00:53,  3.11it/s]\u001b[A\n",
      " 43%|████▎     | 127/293 [00:37<00:53,  3.10it/s]\u001b[A\n",
      " 44%|████▎     | 128/293 [00:38<00:51,  3.21it/s]\u001b[A\n",
      " 44%|████▍     | 129/293 [00:38<00:49,  3.31it/s]\u001b[A\n",
      " 44%|████▍     | 130/293 [00:38<00:46,  3.49it/s]\u001b[A\n",
      " 45%|████▍     | 131/293 [00:38<00:51,  3.13it/s]\u001b[A\n",
      " 45%|████▌     | 132/293 [00:39<00:48,  3.34it/s]\u001b[A\n",
      " 45%|████▌     | 133/293 [00:39<00:49,  3.22it/s]\u001b[A\n",
      " 46%|████▌     | 134/293 [00:39<00:46,  3.40it/s]\u001b[A\n",
      " 46%|████▌     | 135/293 [00:40<00:47,  3.34it/s]\u001b[A\n",
      " 46%|████▋     | 136/293 [00:40<00:47,  3.34it/s]\u001b[A\n",
      " 47%|████▋     | 137/293 [00:40<00:47,  3.27it/s]\u001b[A\n",
      " 47%|████▋     | 138/293 [00:41<00:48,  3.20it/s]\u001b[A\n",
      " 47%|████▋     | 139/293 [00:41<00:48,  3.17it/s]\u001b[A\n",
      " 48%|████▊     | 140/293 [00:41<00:46,  3.27it/s]\u001b[A\n",
      " 48%|████▊     | 141/293 [00:41<00:45,  3.35it/s]\u001b[A\n",
      " 48%|████▊     | 142/293 [00:42<00:45,  3.29it/s]\u001b[A\n",
      " 49%|████▉     | 143/293 [00:42<00:45,  3.31it/s]\u001b[A\n",
      " 49%|████▉     | 144/293 [00:42<00:46,  3.21it/s]\u001b[A\n",
      " 49%|████▉     | 145/293 [00:43<00:44,  3.31it/s]\u001b[A\n",
      " 50%|████▉     | 146/293 [00:43<00:43,  3.39it/s]\u001b[A\n",
      " 50%|█████     | 147/293 [00:43<00:42,  3.41it/s]\u001b[A\n",
      " 51%|█████     | 148/293 [00:44<00:42,  3.40it/s]\u001b[A\n",
      " 51%|█████     | 149/293 [00:44<00:39,  3.66it/s]\u001b[A\n",
      " 51%|█████     | 150/293 [00:44<00:42,  3.39it/s]\u001b[A\n",
      " 52%|█████▏    | 151/293 [00:44<00:41,  3.46it/s]\u001b[A\n",
      " 52%|█████▏    | 152/293 [00:45<00:38,  3.62it/s]\u001b[A\n",
      " 52%|█████▏    | 153/293 [00:45<00:41,  3.38it/s]\u001b[A\n",
      " 53%|█████▎    | 154/293 [00:45<00:42,  3.25it/s]\u001b[A\n",
      " 53%|█████▎    | 155/293 [00:46<00:43,  3.19it/s]\u001b[A\n",
      " 53%|█████▎    | 156/293 [00:46<00:39,  3.44it/s]\u001b[A\n",
      " 54%|█████▎    | 157/293 [00:46<00:40,  3.35it/s]\u001b[A\n",
      " 54%|█████▍    | 158/293 [00:47<00:40,  3.32it/s]\u001b[A\n",
      " 54%|█████▍    | 159/293 [00:47<00:38,  3.47it/s]\u001b[A\n",
      " 55%|█████▍    | 160/293 [00:47<00:37,  3.51it/s]\u001b[A\n",
      " 55%|█████▍    | 161/293 [00:47<00:38,  3.43it/s]\u001b[A\n",
      " 55%|█████▌    | 162/293 [00:48<00:37,  3.45it/s]\u001b[A\n",
      " 56%|█████▌    | 163/293 [00:48<00:38,  3.38it/s]\u001b[A\n",
      " 56%|█████▌    | 164/293 [00:48<00:39,  3.27it/s]\u001b[A\n",
      " 56%|█████▋    | 165/293 [00:49<00:40,  3.20it/s]\u001b[A\n",
      " 57%|█████▋    | 166/293 [00:49<00:37,  3.38it/s]\u001b[A\n",
      " 57%|█████▋    | 167/293 [00:49<00:37,  3.33it/s]\u001b[A\n",
      " 57%|█████▋    | 168/293 [00:49<00:35,  3.56it/s]\u001b[A\n",
      " 58%|█████▊    | 169/293 [00:50<00:35,  3.47it/s]\u001b[A\n",
      " 58%|█████▊    | 170/293 [00:50<00:35,  3.45it/s]\u001b[A\n",
      " 58%|█████▊    | 171/293 [00:50<00:36,  3.37it/s]\u001b[A\n",
      " 59%|█████▊    | 172/293 [00:51<00:36,  3.31it/s]\u001b[A\n",
      " 59%|█████▉    | 173/293 [00:51<00:34,  3.52it/s]\u001b[A\n",
      " 59%|█████▉    | 174/293 [00:51<00:34,  3.41it/s]\u001b[A\n",
      " 60%|█████▉    | 175/293 [00:52<00:34,  3.40it/s]\u001b[A\n",
      " 60%|██████    | 176/293 [00:52<00:37,  3.11it/s]\u001b[A\n",
      " 60%|██████    | 177/293 [00:52<00:35,  3.24it/s]\u001b[A\n",
      " 61%|██████    | 178/293 [00:52<00:34,  3.37it/s]\u001b[A\n",
      " 61%|██████    | 179/293 [00:53<00:33,  3.36it/s]\u001b[A\n",
      " 61%|██████▏   | 180/293 [00:53<00:33,  3.33it/s]\u001b[A\n",
      " 62%|██████▏   | 181/293 [00:53<00:31,  3.54it/s]\u001b[A\n",
      " 62%|██████▏   | 182/293 [00:54<00:29,  3.75it/s]\u001b[A\n",
      " 62%|██████▏   | 183/293 [00:54<00:28,  3.84it/s]\u001b[A\n",
      " 63%|██████▎   | 184/293 [00:54<00:29,  3.73it/s]\u001b[A\n",
      " 63%|██████▎   | 185/293 [00:54<00:29,  3.65it/s]\u001b[A\n",
      " 63%|██████▎   | 186/293 [00:55<00:32,  3.32it/s]\u001b[A\n",
      " 64%|██████▍   | 187/293 [00:55<00:31,  3.35it/s]\u001b[A\n",
      " 64%|██████▍   | 188/293 [00:55<00:31,  3.38it/s]\u001b[A\n",
      " 65%|██████▍   | 189/293 [00:56<00:32,  3.15it/s]\u001b[A\n",
      " 65%|██████▍   | 190/293 [00:56<00:33,  3.05it/s]\u001b[A\n",
      " 65%|██████▌   | 191/293 [00:56<00:32,  3.10it/s]\u001b[A\n",
      " 66%|██████▌   | 192/293 [00:57<00:33,  3.01it/s]\u001b[A\n",
      " 66%|██████▌   | 193/293 [00:57<00:31,  3.19it/s]\u001b[A\n",
      " 66%|██████▌   | 194/293 [00:57<00:29,  3.34it/s]\u001b[A\n",
      " 67%|██████▋   | 195/293 [00:57<00:29,  3.37it/s]\u001b[A\n",
      " 67%|██████▋   | 196/293 [00:58<00:27,  3.53it/s]\u001b[A\n",
      " 67%|██████▋   | 197/293 [00:58<00:27,  3.44it/s]\u001b[A\n",
      " 68%|██████▊   | 198/293 [00:58<00:28,  3.33it/s]\u001b[A\n",
      " 68%|██████▊   | 199/293 [00:59<00:27,  3.45it/s]\u001b[A\n",
      " 68%|██████▊   | 200/293 [00:59<00:26,  3.56it/s]\u001b[A\n",
      " 69%|██████▊   | 201/293 [00:59<00:26,  3.52it/s]\u001b[A\n",
      " 69%|██████▉   | 202/293 [00:59<00:26,  3.44it/s]\u001b[A\n",
      " 69%|██████▉   | 203/293 [01:00<00:25,  3.54it/s]\u001b[A\n",
      " 70%|██████▉   | 204/293 [01:00<00:26,  3.39it/s]\u001b[A\n",
      " 70%|██████▉   | 205/293 [01:00<00:26,  3.30it/s]\u001b[A\n",
      " 70%|███████   | 206/293 [01:01<00:27,  3.22it/s]\u001b[A\n",
      " 71%|███████   | 207/293 [01:01<00:26,  3.22it/s]\u001b[A\n",
      " 71%|███████   | 208/293 [01:01<00:25,  3.32it/s]\u001b[A\n",
      " 71%|███████▏  | 209/293 [01:02<00:25,  3.36it/s]\u001b[A\n",
      " 72%|███████▏  | 210/293 [01:02<00:23,  3.50it/s]\u001b[A\n",
      " 72%|███████▏  | 211/293 [01:02<00:24,  3.34it/s]\u001b[A\n",
      " 72%|███████▏  | 212/293 [01:03<00:24,  3.33it/s]\u001b[A\n",
      " 73%|███████▎  | 213/293 [01:03<00:22,  3.52it/s]\u001b[A\n",
      " 73%|███████▎  | 214/293 [01:03<00:22,  3.45it/s]\u001b[A\n",
      " 73%|███████▎  | 215/293 [01:03<00:22,  3.52it/s]\u001b[A\n",
      " 74%|███████▎  | 216/293 [01:04<00:22,  3.35it/s]\u001b[A\n",
      " 74%|███████▍  | 217/293 [01:04<00:21,  3.51it/s]\u001b[A\n",
      " 74%|███████▍  | 218/293 [01:04<00:20,  3.64it/s]\u001b[A\n",
      " 75%|███████▍  | 219/293 [01:04<00:20,  3.55it/s]\u001b[A\n",
      " 75%|███████▌  | 220/293 [01:05<00:20,  3.64it/s]\u001b[A\n",
      " 75%|███████▌  | 221/293 [01:05<00:20,  3.53it/s]\u001b[A\n",
      " 76%|███████▌  | 222/293 [01:05<00:20,  3.39it/s]\u001b[A\n",
      " 76%|███████▌  | 223/293 [01:06<00:20,  3.45it/s]\u001b[A\n",
      " 76%|███████▋  | 224/293 [01:06<00:21,  3.24it/s]\u001b[A\n",
      " 77%|███████▋  | 225/293 [01:06<00:19,  3.43it/s]\u001b[A\n",
      " 77%|███████▋  | 226/293 [01:07<00:20,  3.30it/s]\u001b[A\n",
      " 77%|███████▋  | 227/293 [01:07<00:20,  3.23it/s]\u001b[A\n",
      " 78%|███████▊  | 228/293 [01:07<00:19,  3.33it/s]\u001b[A\n",
      " 78%|███████▊  | 229/293 [01:07<00:19,  3.25it/s]\u001b[A\n",
      " 78%|███████▊  | 230/293 [01:08<00:19,  3.28it/s]\u001b[A\n",
      " 79%|███████▉  | 231/293 [01:08<00:18,  3.34it/s]\u001b[A\n",
      " 79%|███████▉  | 232/293 [01:08<00:17,  3.45it/s]\u001b[A\n",
      " 80%|███████▉  | 233/293 [01:09<00:22,  2.67it/s]\u001b[A\n",
      " 80%|███████▉  | 234/293 [01:09<00:20,  2.85it/s]\u001b[A\n",
      " 80%|████████  | 235/293 [01:10<00:20,  2.77it/s]\u001b[A\n",
      " 81%|████████  | 236/293 [01:10<00:20,  2.80it/s]\u001b[A\n",
      " 81%|████████  | 237/293 [01:10<00:18,  3.00it/s]\u001b[A\n",
      " 81%|████████  | 238/293 [01:10<00:17,  3.16it/s]\u001b[A\n",
      " 82%|████████▏ | 239/293 [01:11<00:17,  3.16it/s]\u001b[A\n",
      " 82%|████████▏ | 240/293 [01:11<00:16,  3.18it/s]\u001b[A\n",
      " 82%|████████▏ | 241/293 [01:11<00:15,  3.27it/s]\u001b[A\n",
      " 83%|████████▎ | 242/293 [01:12<00:15,  3.22it/s]\u001b[A\n",
      " 83%|████████▎ | 243/293 [01:12<00:15,  3.26it/s]\u001b[A\n",
      " 83%|████████▎ | 244/293 [01:12<00:15,  3.24it/s]\u001b[A\n",
      " 84%|████████▎ | 245/293 [01:13<00:13,  3.51it/s]\u001b[A\n",
      " 84%|████████▍ | 246/293 [01:13<00:13,  3.37it/s]\u001b[A\n",
      " 84%|████████▍ | 247/293 [01:13<00:14,  3.27it/s]\u001b[A\n",
      " 85%|████████▍ | 248/293 [01:13<00:12,  3.49it/s]\u001b[A\n",
      " 85%|████████▍ | 249/293 [01:14<00:11,  3.67it/s]\u001b[A\n",
      " 85%|████████▌ | 250/293 [01:14<00:12,  3.50it/s]\u001b[A\n",
      " 86%|████████▌ | 251/293 [01:14<00:12,  3.46it/s]\u001b[A\n",
      " 86%|████████▌ | 252/293 [01:15<00:11,  3.47it/s]\u001b[A\n",
      " 86%|████████▋ | 253/293 [01:15<00:11,  3.45it/s]\u001b[A\n",
      " 87%|████████▋ | 254/293 [01:15<00:10,  3.90it/s]\u001b[A\n",
      " 87%|████████▋ | 255/293 [01:15<00:10,  3.70it/s]\u001b[A\n",
      " 87%|████████▋ | 256/293 [01:16<00:10,  3.50it/s]\u001b[A\n",
      " 88%|████████▊ | 257/293 [01:16<00:10,  3.53it/s]\u001b[A\n",
      " 88%|████████▊ | 258/293 [01:16<00:09,  3.70it/s]\u001b[A\n",
      " 88%|████████▊ | 259/293 [01:17<00:09,  3.61it/s]\u001b[A\n",
      " 89%|████████▊ | 260/293 [01:17<00:10,  3.12it/s]\u001b[A\n",
      " 89%|████████▉ | 261/293 [01:17<00:09,  3.34it/s]\u001b[A\n",
      " 89%|████████▉ | 262/293 [01:17<00:08,  3.47it/s]\u001b[A\n",
      " 90%|████████▉ | 263/293 [01:18<00:08,  3.44it/s]\u001b[A\n",
      " 90%|█████████ | 264/293 [01:18<00:08,  3.36it/s]\u001b[A\n",
      " 90%|█████████ | 265/293 [01:18<00:08,  3.38it/s]\u001b[A\n",
      " 91%|█████████ | 266/293 [01:19<00:07,  3.38it/s]\u001b[A\n",
      " 91%|█████████ | 267/293 [01:19<00:07,  3.37it/s]\u001b[A\n",
      " 91%|█████████▏| 268/293 [01:19<00:07,  3.37it/s]\u001b[A\n",
      " 92%|█████████▏| 269/293 [01:20<00:07,  3.33it/s]\u001b[A\n",
      " 92%|█████████▏| 270/293 [01:20<00:06,  3.48it/s]\u001b[A\n",
      " 92%|█████████▏| 271/293 [01:20<00:06,  3.36it/s]\u001b[A\n",
      " 93%|█████████▎| 272/293 [01:20<00:06,  3.43it/s]\u001b[A\n",
      " 93%|█████████▎| 273/293 [01:21<00:05,  3.34it/s]\u001b[A\n",
      " 94%|█████████▎| 274/293 [01:21<00:05,  3.24it/s]\u001b[A\n",
      " 94%|█████████▍| 275/293 [01:21<00:05,  3.30it/s]\u001b[A\n",
      " 94%|█████████▍| 276/293 [01:22<00:05,  3.20it/s]\u001b[A\n",
      " 95%|█████████▍| 277/293 [01:22<00:04,  3.25it/s]\u001b[A\n",
      " 95%|█████████▍| 278/293 [01:22<00:04,  3.39it/s]\u001b[A\n",
      " 95%|█████████▌| 279/293 [01:23<00:04,  2.97it/s]\u001b[A\n",
      " 96%|█████████▌| 280/293 [01:23<00:04,  3.12it/s]\u001b[A\n",
      " 96%|█████████▌| 281/293 [01:23<00:03,  3.20it/s]\u001b[A\n",
      " 96%|█████████▌| 282/293 [01:24<00:03,  3.36it/s]\u001b[A\n",
      " 97%|█████████▋| 283/293 [01:24<00:03,  3.24it/s]\u001b[A\n",
      " 97%|█████████▋| 284/293 [01:24<00:02,  3.15it/s]\u001b[A\n",
      " 97%|█████████▋| 285/293 [01:25<00:02,  3.12it/s]\u001b[A\n",
      " 98%|█████████▊| 286/293 [01:25<00:02,  3.10it/s]\u001b[A\n",
      " 98%|█████████▊| 287/293 [01:25<00:01,  3.24it/s]\u001b[A\n",
      " 98%|█████████▊| 288/293 [01:25<00:01,  3.19it/s]\u001b[A\n",
      " 99%|█████████▊| 289/293 [01:26<00:01,  3.54it/s]\u001b[A\n",
      " 99%|█████████▉| 290/293 [01:26<00:00,  3.51it/s]\u001b[A\n",
      " 99%|█████████▉| 291/293 [01:26<00:00,  3.53it/s]\u001b[A\n",
      "100%|█████████▉| 292/293 [01:27<00:00,  3.42it/s]\u001b[A\n",
      "100%|██████████| 293/293 [01:27<00:00,  3.35it/s]\n",
      "\n",
      "  0%|          | 0/98 [00:00<?, ?it/s]\u001b[A\n",
      "  1%|          | 1/98 [00:00<00:21,  4.44it/s]\u001b[A\n",
      "  2%|▏         | 2/98 [00:00<00:18,  5.06it/s]\u001b[A\n",
      "  3%|▎         | 3/98 [00:00<00:19,  4.76it/s]\u001b[A\n",
      "  4%|▍         | 4/98 [00:00<00:17,  5.41it/s]\u001b[A\n",
      "  5%|▌         | 5/98 [00:00<00:15,  6.04it/s]\u001b[A\n",
      "  6%|▌         | 6/98 [00:00<00:14,  6.19it/s]\u001b[A\n",
      "  7%|▋         | 7/98 [00:01<00:13,  6.86it/s]\u001b[A\n",
      "  8%|▊         | 8/98 [00:01<00:13,  6.80it/s]\u001b[A\n",
      "  9%|▉         | 9/98 [00:01<00:13,  6.71it/s]\u001b[A\n",
      " 10%|█         | 10/98 [00:01<00:13,  6.55it/s]\u001b[A\n",
      " 11%|█         | 11/98 [00:01<00:12,  6.96it/s]\u001b[A\n",
      " 12%|█▏        | 12/98 [00:01<00:12,  6.74it/s]\u001b[A\n",
      " 13%|█▎        | 13/98 [00:02<00:13,  6.44it/s]\u001b[A\n",
      " 14%|█▍        | 14/98 [00:02<00:12,  6.55it/s]\u001b[A\n",
      " 15%|█▌        | 15/98 [00:02<00:12,  6.52it/s]\u001b[A\n",
      " 16%|█▋        | 16/98 [00:02<00:11,  6.93it/s]\u001b[A\n",
      " 17%|█▋        | 17/98 [00:02<00:11,  7.06it/s]\u001b[A\n",
      " 18%|█▊        | 18/98 [00:02<00:11,  7.02it/s]\u001b[A\n",
      " 19%|█▉        | 19/98 [00:02<00:11,  6.64it/s]\u001b[A\n",
      " 20%|██        | 20/98 [00:03<00:11,  6.78it/s]\u001b[A\n",
      " 21%|██▏       | 21/98 [00:03<00:10,  7.05it/s]\u001b[A\n",
      " 22%|██▏       | 22/98 [00:03<00:10,  6.93it/s]\u001b[A\n",
      " 23%|██▎       | 23/98 [00:03<00:10,  7.18it/s]\u001b[A\n",
      " 24%|██▍       | 24/98 [00:03<00:09,  7.44it/s]\u001b[A\n",
      " 26%|██▌       | 25/98 [00:03<00:09,  7.48it/s]\u001b[A\n",
      " 27%|██▋       | 26/98 [00:03<00:10,  7.11it/s]\u001b[A\n",
      " 28%|██▊       | 27/98 [00:03<00:09,  7.61it/s]\u001b[A\n",
      " 29%|██▊       | 28/98 [00:04<00:09,  7.57it/s]\u001b[A\n",
      " 30%|██▉       | 29/98 [00:04<00:09,  7.26it/s]\u001b[A\n",
      " 31%|███       | 30/98 [00:04<00:09,  6.81it/s]\u001b[A\n",
      " 32%|███▏      | 31/98 [00:04<00:10,  6.69it/s]\u001b[A\n",
      " 33%|███▎      | 32/98 [00:04<00:09,  6.97it/s]\u001b[A\n",
      " 34%|███▎      | 33/98 [00:04<00:10,  6.33it/s]\u001b[A\n",
      " 35%|███▍      | 34/98 [00:05<00:10,  6.25it/s]\u001b[A\n",
      " 36%|███▌      | 35/98 [00:05<00:10,  6.01it/s]\u001b[A\n",
      " 37%|███▋      | 36/98 [00:05<00:09,  6.27it/s]\u001b[A\n",
      " 38%|███▊      | 37/98 [00:05<00:10,  6.03it/s]\u001b[A\n",
      " 39%|███▉      | 38/98 [00:05<00:09,  6.51it/s]\u001b[A\n",
      " 40%|███▉      | 39/98 [00:05<00:09,  6.44it/s]\u001b[A\n",
      " 41%|████      | 40/98 [00:05<00:08,  6.73it/s]\u001b[A\n",
      " 42%|████▏     | 41/98 [00:06<00:08,  7.10it/s]\u001b[A\n",
      " 44%|████▍     | 43/98 [00:06<00:07,  7.38it/s]\u001b[A\n",
      " 45%|████▍     | 44/98 [00:06<00:06,  7.82it/s]\u001b[A\n",
      " 46%|████▌     | 45/98 [00:06<00:06,  7.85it/s]\u001b[A\n",
      " 47%|████▋     | 46/98 [00:06<00:07,  7.43it/s]\u001b[A\n",
      " 48%|████▊     | 47/98 [00:06<00:07,  6.50it/s]\u001b[A\n",
      " 49%|████▉     | 48/98 [00:07<00:07,  6.56it/s]\u001b[A\n",
      " 50%|█████     | 49/98 [00:07<00:07,  6.94it/s]\u001b[A\n",
      " 51%|█████     | 50/98 [00:07<00:07,  6.46it/s]\u001b[A\n",
      " 52%|█████▏    | 51/98 [00:07<00:07,  6.65it/s]\u001b[A\n",
      " 53%|█████▎    | 52/98 [00:07<00:06,  6.94it/s]\u001b[A\n",
      " 54%|█████▍    | 53/98 [00:07<00:06,  7.36it/s]\u001b[A\n",
      " 55%|█████▌    | 54/98 [00:07<00:06,  6.57it/s]\u001b[A\n",
      " 56%|█████▌    | 55/98 [00:08<00:06,  6.61it/s]\u001b[A\n",
      " 57%|█████▋    | 56/98 [00:08<00:05,  7.28it/s]\u001b[A\n",
      " 58%|█████▊    | 57/98 [00:08<00:05,  7.07it/s]\u001b[A\n",
      " 59%|█████▉    | 58/98 [00:08<00:05,  7.58it/s]\u001b[A\n",
      " 60%|██████    | 59/98 [00:08<00:05,  7.79it/s]\u001b[A\n",
      " 61%|██████    | 60/98 [00:08<00:05,  7.16it/s]\u001b[A\n",
      " 62%|██████▏   | 61/98 [00:08<00:05,  7.10it/s]\u001b[A\n",
      " 63%|██████▎   | 62/98 [00:09<00:05,  6.99it/s]\u001b[A\n",
      " 64%|██████▍   | 63/98 [00:09<00:04,  7.16it/s]\u001b[A\n",
      " 65%|██████▌   | 64/98 [00:09<00:04,  7.14it/s]\u001b[A\n",
      " 66%|██████▋   | 65/98 [00:09<00:04,  7.21it/s]\u001b[A\n",
      " 67%|██████▋   | 66/98 [00:09<00:04,  6.99it/s]\u001b[A\n",
      " 68%|██████▊   | 67/98 [00:09<00:04,  6.99it/s]\u001b[A\n",
      " 69%|██████▉   | 68/98 [00:09<00:04,  7.20it/s]\u001b[A\n",
      " 70%|███████   | 69/98 [00:10<00:04,  6.88it/s]\u001b[A\n",
      " 71%|███████▏  | 70/98 [00:10<00:03,  7.05it/s]\u001b[A\n",
      " 73%|███████▎  | 72/98 [00:10<00:03,  7.81it/s]\u001b[A\n",
      " 74%|███████▍  | 73/98 [00:10<00:03,  7.44it/s]\u001b[A\n",
      " 76%|███████▌  | 74/98 [00:10<00:03,  7.33it/s]\u001b[A\n",
      " 77%|███████▋  | 75/98 [00:10<00:02,  7.91it/s]\u001b[A\n",
      " 78%|███████▊  | 76/98 [00:10<00:03,  7.25it/s]\u001b[A\n",
      " 79%|███████▊  | 77/98 [00:11<00:02,  7.09it/s]\u001b[A\n",
      " 80%|███████▉  | 78/98 [00:11<00:02,  7.23it/s]\u001b[A\n",
      " 81%|████████  | 79/98 [00:11<00:02,  7.37it/s]\u001b[A\n",
      " 82%|████████▏ | 80/98 [00:11<00:02,  7.05it/s]\u001b[A\n",
      " 83%|████████▎ | 81/98 [00:11<00:02,  5.84it/s]\u001b[A\n",
      " 84%|████████▎ | 82/98 [00:11<00:02,  6.38it/s]\u001b[A\n",
      " 85%|████████▍ | 83/98 [00:11<00:02,  6.97it/s]\u001b[A\n",
      " 86%|████████▌ | 84/98 [00:12<00:01,  7.03it/s]\u001b[A\n",
      " 87%|████████▋ | 85/98 [00:12<00:01,  7.40it/s]\u001b[A\n",
      " 88%|████████▊ | 86/98 [00:12<00:01,  7.09it/s]\u001b[A\n",
      " 89%|████████▉ | 87/98 [00:12<00:01,  7.21it/s]\u001b[A\n",
      " 91%|█████████ | 89/98 [00:12<00:01,  7.50it/s]\u001b[A\n",
      " 92%|█████████▏| 90/98 [00:12<00:01,  7.84it/s]\u001b[A\n",
      " 93%|█████████▎| 91/98 [00:13<00:00,  7.46it/s]\u001b[A\n",
      " 94%|█████████▍| 92/98 [00:13<00:00,  7.50it/s]\u001b[A\n",
      " 95%|█████████▍| 93/98 [00:13<00:00,  7.73it/s]\u001b[A\n",
      " 96%|█████████▌| 94/98 [00:13<00:00,  6.87it/s]\u001b[A\n",
      " 97%|█████████▋| 95/98 [00:13<00:00,  7.23it/s]\u001b[A\n",
      " 98%|█████████▊| 96/98 [00:13<00:00,  6.87it/s]\u001b[A\n",
      " 99%|█████████▉| 97/98 [00:13<00:00,  6.81it/s]\u001b[A\n",
      "100%|██████████| 98/98 [00:14<00:00,  6.99it/s]\n",
      "\n",
      "  0%|          | 0/293 [00:00<?, ?it/s]\u001b[A"
     ]
    },
    {
     "name": "stdout",
     "output_type": "stream",
     "text": [
      "Epochs    3 | Train Loss 0.3887 | Train Acc 0.8313 | Test Loss 0.4016 | Test Acc 0.8259\n"
     ]
    },
    {
     "name": "stderr",
     "output_type": "stream",
     "text": [
      "\n",
      "  0%|          | 1/293 [00:00<01:17,  3.78it/s]\u001b[A\n",
      "  1%|          | 2/293 [00:00<01:22,  3.51it/s]\u001b[A\n",
      "  1%|          | 3/293 [00:00<01:19,  3.67it/s]\u001b[A\n",
      "  1%|▏         | 4/293 [00:01<01:16,  3.78it/s]\u001b[A\n",
      "  2%|▏         | 5/293 [00:01<01:14,  3.86it/s]\u001b[A\n",
      "  2%|▏         | 6/293 [00:01<01:15,  3.79it/s]\u001b[A\n",
      "  2%|▏         | 7/293 [00:01<01:22,  3.47it/s]\u001b[A\n",
      "  3%|▎         | 8/293 [00:02<01:22,  3.44it/s]\u001b[A\n",
      "  3%|▎         | 9/293 [00:02<01:19,  3.59it/s]\u001b[A\n",
      "  3%|▎         | 10/293 [00:02<01:23,  3.39it/s]\u001b[A\n",
      "  4%|▍         | 11/293 [00:03<01:26,  3.27it/s]\u001b[A\n",
      "  4%|▍         | 12/293 [00:03<01:26,  3.24it/s]\u001b[A\n",
      "  4%|▍         | 13/293 [00:03<01:23,  3.34it/s]\u001b[A\n",
      "  5%|▍         | 14/293 [00:04<01:21,  3.43it/s]\u001b[A\n",
      "  5%|▌         | 15/293 [00:04<01:22,  3.38it/s]\u001b[A\n",
      "  5%|▌         | 16/293 [00:04<01:17,  3.57it/s]\u001b[A\n",
      "  6%|▌         | 17/293 [00:04<01:16,  3.60it/s]\u001b[A\n",
      "  6%|▌         | 18/293 [00:05<01:14,  3.67it/s]\u001b[A\n",
      "  6%|▋         | 19/293 [00:05<01:19,  3.47it/s]\u001b[A\n",
      "  7%|▋         | 20/293 [00:05<01:18,  3.46it/s]\u001b[A\n",
      "  7%|▋         | 21/293 [00:06<01:23,  3.27it/s]\u001b[A\n",
      "  8%|▊         | 22/293 [00:06<01:24,  3.22it/s]\u001b[A\n",
      "  8%|▊         | 23/293 [00:06<01:25,  3.16it/s]\u001b[A\n",
      "  8%|▊         | 24/293 [00:07<01:23,  3.24it/s]\u001b[A\n",
      "  9%|▊         | 25/293 [00:07<01:24,  3.17it/s]\u001b[A\n",
      "  9%|▉         | 26/293 [00:07<01:28,  3.01it/s]\u001b[A\n",
      "  9%|▉         | 27/293 [00:07<01:20,  3.29it/s]\u001b[A\n",
      " 10%|▉         | 28/293 [00:08<01:12,  3.64it/s]\u001b[A\n",
      " 10%|▉         | 29/293 [00:08<01:11,  3.69it/s]\u001b[A\n",
      " 10%|█         | 30/293 [00:08<01:15,  3.49it/s]\u001b[A\n",
      " 11%|█         | 31/293 [00:09<01:12,  3.59it/s]\u001b[A\n",
      " 11%|█         | 32/293 [00:09<01:09,  3.75it/s]\u001b[A\n",
      " 11%|█▏        | 33/293 [00:09<01:13,  3.52it/s]\u001b[A\n",
      " 12%|█▏        | 34/293 [00:09<01:18,  3.32it/s]\u001b[A\n",
      " 12%|█▏        | 35/293 [00:10<01:16,  3.37it/s]\u001b[A\n",
      " 12%|█▏        | 36/293 [00:10<01:15,  3.42it/s]\u001b[A\n",
      " 13%|█▎        | 37/293 [00:10<01:10,  3.62it/s]\u001b[A\n",
      " 13%|█▎        | 38/293 [00:10<01:06,  3.83it/s]\u001b[A\n",
      " 13%|█▎        | 39/293 [00:11<01:10,  3.59it/s]\u001b[A\n",
      " 14%|█▎        | 40/293 [00:11<01:07,  3.75it/s]\u001b[A\n",
      " 14%|█▍        | 41/293 [00:11<01:10,  3.58it/s]\u001b[A\n",
      " 14%|█▍        | 42/293 [00:12<01:08,  3.64it/s]\u001b[A\n",
      " 15%|█▍        | 43/293 [00:12<01:10,  3.55it/s]\u001b[A\n",
      " 15%|█▌        | 44/293 [00:12<01:16,  3.24it/s]\u001b[A\n",
      " 15%|█▌        | 45/293 [00:12<01:12,  3.44it/s]\u001b[A\n",
      " 16%|█▌        | 46/293 [00:13<01:07,  3.67it/s]\u001b[A\n",
      " 16%|█▌        | 47/293 [00:13<01:09,  3.55it/s]\u001b[A\n",
      " 16%|█▋        | 48/293 [00:13<01:09,  3.52it/s]\u001b[A\n",
      " 17%|█▋        | 49/293 [00:14<01:13,  3.34it/s]\u001b[A\n",
      " 17%|█▋        | 50/293 [00:14<01:08,  3.56it/s]\u001b[A\n",
      " 17%|█▋        | 51/293 [00:14<01:06,  3.64it/s]\u001b[A\n",
      " 18%|█▊        | 52/293 [00:14<01:11,  3.38it/s]\u001b[A\n",
      " 18%|█▊        | 53/293 [00:15<01:11,  3.36it/s]\u001b[A\n",
      " 18%|█▊        | 54/293 [00:15<01:11,  3.33it/s]\u001b[A\n",
      " 19%|█▉        | 55/293 [00:15<01:11,  3.33it/s]\u001b[A\n",
      " 19%|█▉        | 56/293 [00:16<01:11,  3.31it/s]\u001b[A\n",
      " 19%|█▉        | 57/293 [00:16<01:08,  3.43it/s]\u001b[A\n",
      " 20%|█▉        | 58/293 [00:16<01:07,  3.47it/s]\u001b[A\n",
      " 20%|██        | 59/293 [00:17<01:05,  3.57it/s]\u001b[A\n",
      " 20%|██        | 60/293 [00:17<01:00,  3.83it/s]\u001b[A\n",
      " 21%|██        | 61/293 [00:17<01:03,  3.66it/s]\u001b[A\n",
      " 21%|██        | 62/293 [00:17<01:05,  3.53it/s]\u001b[A\n",
      " 22%|██▏       | 63/293 [00:18<01:07,  3.40it/s]\u001b[A\n",
      " 22%|██▏       | 64/293 [00:18<01:02,  3.65it/s]\u001b[A\n",
      " 22%|██▏       | 65/293 [00:18<01:06,  3.45it/s]\u001b[A\n",
      " 23%|██▎       | 66/293 [00:18<01:04,  3.51it/s]\u001b[A\n",
      " 23%|██▎       | 67/293 [00:19<01:02,  3.62it/s]\u001b[A\n",
      " 23%|██▎       | 68/293 [00:19<01:04,  3.47it/s]\u001b[A\n",
      " 24%|██▎       | 69/293 [00:19<01:00,  3.71it/s]\u001b[A\n",
      " 24%|██▍       | 70/293 [00:20<01:03,  3.49it/s]\u001b[A\n",
      " 24%|██▍       | 71/293 [00:20<01:07,  3.28it/s]\u001b[A\n",
      " 25%|██▍       | 72/293 [00:20<01:02,  3.54it/s]\u001b[A\n",
      " 25%|██▍       | 73/293 [00:20<01:02,  3.52it/s]\u001b[A\n",
      " 25%|██▌       | 74/293 [00:21<01:02,  3.53it/s]\u001b[A\n",
      " 26%|██▌       | 75/293 [00:21<00:58,  3.72it/s]\u001b[A\n",
      " 26%|██▌       | 76/293 [00:21<00:58,  3.71it/s]\u001b[A\n",
      " 26%|██▋       | 77/293 [00:22<01:00,  3.58it/s]\u001b[A\n",
      " 27%|██▋       | 78/293 [00:22<00:59,  3.61it/s]\u001b[A\n",
      " 27%|██▋       | 79/293 [00:22<01:02,  3.42it/s]\u001b[A\n",
      " 27%|██▋       | 80/293 [00:22<01:03,  3.37it/s]\u001b[A\n",
      " 28%|██▊       | 81/293 [00:23<00:59,  3.57it/s]\u001b[A\n",
      " 28%|██▊       | 82/293 [00:23<01:02,  3.36it/s]\u001b[A\n",
      " 28%|██▊       | 83/293 [00:23<01:03,  3.29it/s]\u001b[A\n",
      " 29%|██▊       | 84/293 [00:24<01:04,  3.25it/s]\u001b[A\n",
      " 29%|██▉       | 85/293 [00:24<01:02,  3.30it/s]\u001b[A\n",
      " 29%|██▉       | 86/293 [00:24<01:03,  3.26it/s]\u001b[A\n",
      " 30%|██▉       | 87/293 [00:25<01:03,  3.22it/s]\u001b[A\n",
      " 30%|███       | 88/293 [00:25<01:04,  3.18it/s]\u001b[A\n",
      " 30%|███       | 89/293 [00:26<01:28,  2.31it/s]\u001b[A\n",
      " 31%|███       | 90/293 [00:26<01:18,  2.60it/s]\u001b[A\n",
      " 31%|███       | 91/293 [00:26<01:10,  2.85it/s]\u001b[A\n",
      " 31%|███▏      | 92/293 [00:26<01:07,  3.00it/s]\u001b[A\n",
      " 32%|███▏      | 93/293 [00:27<01:07,  2.96it/s]\u001b[A\n",
      " 32%|███▏      | 94/293 [00:27<01:03,  3.14it/s]\u001b[A\n",
      " 32%|███▏      | 95/293 [00:27<01:05,  3.04it/s]\u001b[A\n",
      " 33%|███▎      | 96/293 [00:28<01:05,  3.02it/s]\u001b[A\n",
      " 33%|███▎      | 97/293 [00:28<01:01,  3.19it/s]\u001b[A\n",
      " 33%|███▎      | 98/293 [00:28<00:57,  3.41it/s]\u001b[A\n",
      " 34%|███▍      | 99/293 [00:29<00:54,  3.57it/s]\u001b[A\n",
      " 34%|███▍      | 100/293 [00:29<00:56,  3.42it/s]\u001b[A\n",
      " 34%|███▍      | 101/293 [00:29<00:55,  3.47it/s]\u001b[A\n",
      " 35%|███▍      | 102/293 [00:29<00:52,  3.61it/s]\u001b[A\n",
      " 35%|███▌      | 103/293 [00:30<00:53,  3.57it/s]\u001b[A\n",
      " 35%|███▌      | 104/293 [00:30<00:54,  3.47it/s]\u001b[A\n",
      " 36%|███▌      | 105/293 [00:30<00:53,  3.53it/s]\u001b[A\n",
      " 36%|███▌      | 106/293 [00:31<01:02,  3.01it/s]\u001b[A\n",
      " 37%|███▋      | 107/293 [00:31<01:01,  3.02it/s]\u001b[A\n",
      " 37%|███▋      | 108/293 [00:31<00:59,  3.12it/s]\u001b[A\n",
      " 37%|███▋      | 109/293 [00:32<00:58,  3.15it/s]\u001b[A\n",
      " 38%|███▊      | 110/293 [00:32<00:56,  3.26it/s]\u001b[A\n",
      " 38%|███▊      | 111/293 [00:32<00:53,  3.41it/s]\u001b[A\n",
      " 38%|███▊      | 112/293 [00:32<00:51,  3.52it/s]\u001b[A\n",
      " 39%|███▊      | 113/293 [00:33<01:04,  2.80it/s]\u001b[A\n",
      " 39%|███▉      | 114/293 [00:33<00:59,  3.03it/s]\u001b[A\n",
      " 39%|███▉      | 115/293 [00:34<00:53,  3.31it/s]\u001b[A\n",
      " 40%|███▉      | 116/293 [00:34<00:49,  3.57it/s]\u001b[A\n",
      " 40%|███▉      | 117/293 [00:34<00:47,  3.68it/s]\u001b[A\n",
      " 40%|████      | 118/293 [00:34<00:47,  3.65it/s]\u001b[A\n",
      " 41%|████      | 119/293 [00:35<00:49,  3.55it/s]\u001b[A\n",
      " 41%|████      | 120/293 [00:35<00:52,  3.30it/s]\u001b[A\n",
      " 41%|████▏     | 121/293 [00:35<00:52,  3.28it/s]\u001b[A\n",
      " 42%|████▏     | 122/293 [00:36<00:50,  3.36it/s]\u001b[A\n",
      " 42%|████▏     | 123/293 [00:36<00:53,  3.17it/s]\u001b[A\n",
      " 42%|████▏     | 124/293 [00:36<00:50,  3.33it/s]\u001b[A\n",
      " 43%|████▎     | 125/293 [00:36<00:51,  3.24it/s]\u001b[A\n",
      " 43%|████▎     | 126/293 [00:37<00:54,  3.09it/s]\u001b[A\n",
      " 43%|████▎     | 127/293 [00:37<00:53,  3.08it/s]\u001b[A\n",
      " 44%|████▎     | 128/293 [00:37<00:51,  3.18it/s]\u001b[A\n",
      " 44%|████▍     | 129/293 [00:38<00:49,  3.30it/s]\u001b[A\n",
      " 44%|████▍     | 130/293 [00:38<00:47,  3.42it/s]\u001b[A\n",
      " 45%|████▍     | 131/293 [00:38<00:52,  3.08it/s]\u001b[A\n",
      " 45%|████▌     | 132/293 [00:39<00:48,  3.30it/s]\u001b[A\n",
      " 45%|████▌     | 133/293 [00:39<00:49,  3.25it/s]\u001b[A\n",
      " 46%|████▌     | 134/293 [00:39<00:46,  3.42it/s]\u001b[A\n",
      " 46%|████▌     | 135/293 [00:40<00:47,  3.34it/s]\u001b[A\n",
      " 46%|████▋     | 136/293 [00:40<00:46,  3.37it/s]\u001b[A\n",
      " 47%|████▋     | 137/293 [00:40<00:47,  3.27it/s]\u001b[A\n",
      " 47%|████▋     | 138/293 [00:40<00:48,  3.21it/s]\u001b[A\n",
      " 47%|████▋     | 139/293 [00:41<00:48,  3.18it/s]\u001b[A\n",
      " 48%|████▊     | 140/293 [00:41<00:47,  3.24it/s]\u001b[A\n",
      " 48%|████▊     | 141/293 [00:41<00:45,  3.33it/s]\u001b[A\n",
      " 48%|████▊     | 142/293 [00:42<00:46,  3.27it/s]\u001b[A\n",
      " 49%|████▉     | 143/293 [00:42<00:45,  3.32it/s]\u001b[A\n",
      " 49%|████▉     | 144/293 [00:42<00:46,  3.21it/s]\u001b[A\n",
      " 49%|████▉     | 145/293 [00:43<00:44,  3.29it/s]\u001b[A\n",
      " 50%|████▉     | 146/293 [00:43<00:43,  3.36it/s]\u001b[A\n",
      " 50%|█████     | 147/293 [00:43<00:43,  3.39it/s]\u001b[A\n",
      " 51%|█████     | 148/293 [00:43<00:43,  3.36it/s]\u001b[A\n",
      " 51%|█████     | 149/293 [00:44<00:39,  3.61it/s]\u001b[A\n",
      " 51%|█████     | 150/293 [00:44<00:42,  3.37it/s]\u001b[A\n",
      " 52%|█████▏    | 151/293 [00:44<00:41,  3.45it/s]\u001b[A\n",
      " 52%|█████▏    | 152/293 [00:45<00:39,  3.61it/s]\u001b[A\n",
      " 52%|█████▏    | 153/293 [00:45<00:41,  3.38it/s]\u001b[A\n",
      " 53%|█████▎    | 154/293 [00:45<00:43,  3.21it/s]\u001b[A\n",
      " 53%|█████▎    | 155/293 [00:46<00:43,  3.16it/s]\u001b[A\n",
      " 53%|█████▎    | 156/293 [00:46<00:40,  3.41it/s]\u001b[A\n",
      " 54%|█████▎    | 157/293 [00:46<00:40,  3.36it/s]\u001b[A\n",
      " 54%|█████▍    | 158/293 [00:46<00:40,  3.31it/s]\u001b[A\n",
      " 54%|█████▍    | 159/293 [00:47<00:38,  3.47it/s]\u001b[A\n",
      " 55%|█████▍    | 160/293 [00:47<00:37,  3.51it/s]\u001b[A\n",
      " 55%|█████▍    | 161/293 [00:47<00:38,  3.42it/s]\u001b[A\n",
      " 55%|█████▌    | 162/293 [00:48<00:38,  3.38it/s]\u001b[A\n",
      " 56%|█████▌    | 163/293 [00:48<00:39,  3.32it/s]\u001b[A\n",
      " 56%|█████▌    | 164/293 [00:48<00:39,  3.25it/s]\u001b[A\n",
      " 56%|█████▋    | 165/293 [00:49<00:40,  3.18it/s]\u001b[A\n",
      " 57%|█████▋    | 166/293 [00:49<00:37,  3.37it/s]\u001b[A\n",
      " 57%|█████▋    | 167/293 [00:49<00:37,  3.33it/s]\u001b[A\n",
      " 57%|█████▋    | 168/293 [00:49<00:35,  3.56it/s]\u001b[A\n",
      " 58%|█████▊    | 169/293 [00:50<00:36,  3.37it/s]\u001b[A\n",
      " 58%|█████▊    | 170/293 [00:50<00:37,  3.30it/s]\u001b[A\n",
      " 58%|█████▊    | 171/293 [00:50<00:37,  3.28it/s]\u001b[A\n",
      " 59%|█████▊    | 172/293 [00:51<00:37,  3.22it/s]\u001b[A\n",
      " 59%|█████▉    | 173/293 [00:51<00:34,  3.44it/s]\u001b[A\n",
      " 59%|█████▉    | 174/293 [00:51<00:35,  3.38it/s]\u001b[A\n",
      " 60%|█████▉    | 175/293 [00:51<00:34,  3.40it/s]\u001b[A\n",
      " 60%|██████    | 176/293 [00:52<00:37,  3.11it/s]\u001b[A\n",
      " 60%|██████    | 177/293 [00:52<00:35,  3.24it/s]\u001b[A\n",
      " 61%|██████    | 178/293 [00:52<00:34,  3.32it/s]\u001b[A\n",
      " 61%|██████    | 179/293 [00:53<00:35,  3.21it/s]\u001b[A\n",
      " 61%|██████▏   | 180/293 [00:53<00:35,  3.22it/s]\u001b[A\n",
      " 62%|██████▏   | 181/293 [00:53<00:32,  3.42it/s]\u001b[A\n",
      " 62%|██████▏   | 182/293 [00:54<00:30,  3.65it/s]\u001b[A\n",
      " 62%|██████▏   | 183/293 [00:54<00:29,  3.76it/s]\u001b[A\n",
      " 63%|██████▎   | 184/293 [00:54<00:29,  3.66it/s]\u001b[A\n",
      " 63%|██████▎   | 185/293 [00:54<00:29,  3.64it/s]\u001b[A\n",
      " 63%|██████▎   | 186/293 [00:55<00:32,  3.30it/s]\u001b[A\n",
      " 64%|██████▍   | 187/293 [00:55<00:32,  3.31it/s]\u001b[A\n",
      " 64%|██████▍   | 188/293 [00:55<00:31,  3.34it/s]\u001b[A\n",
      " 65%|██████▍   | 189/293 [00:56<00:32,  3.22it/s]\u001b[A\n",
      " 65%|██████▍   | 190/293 [00:56<00:34,  3.00it/s]\u001b[A\n",
      " 65%|██████▌   | 191/293 [00:56<00:33,  3.05it/s]\u001b[A\n",
      " 66%|██████▌   | 192/293 [00:57<00:33,  2.97it/s]\u001b[A\n",
      " 66%|██████▌   | 193/293 [00:57<00:30,  3.23it/s]\u001b[A\n",
      " 66%|██████▌   | 194/293 [00:57<00:29,  3.37it/s]\u001b[A\n",
      " 67%|██████▋   | 195/293 [00:58<00:29,  3.30it/s]\u001b[A\n",
      " 67%|██████▋   | 196/293 [00:58<00:27,  3.48it/s]\u001b[A\n",
      " 67%|██████▋   | 197/293 [00:58<00:28,  3.39it/s]\u001b[A\n",
      " 68%|██████▊   | 198/293 [00:58<00:28,  3.31it/s]\u001b[A\n",
      " 68%|██████▊   | 199/293 [00:59<00:26,  3.49it/s]\u001b[A\n",
      " 68%|██████▊   | 200/293 [00:59<00:25,  3.58it/s]\u001b[A\n",
      " 69%|██████▊   | 201/293 [00:59<00:26,  3.54it/s]\u001b[A\n",
      " 69%|██████▉   | 202/293 [01:00<00:26,  3.44it/s]\u001b[A\n",
      " 69%|██████▉   | 203/293 [01:00<00:25,  3.54it/s]\u001b[A\n",
      " 70%|██████▉   | 204/293 [01:00<00:25,  3.48it/s]\u001b[A\n",
      " 70%|██████▉   | 205/293 [01:00<00:26,  3.34it/s]\u001b[A\n",
      " 70%|███████   | 206/293 [01:01<00:27,  3.20it/s]\u001b[A\n",
      " 71%|███████   | 207/293 [01:01<00:27,  3.17it/s]\u001b[A\n",
      " 71%|███████   | 208/293 [01:01<00:25,  3.29it/s]\u001b[A\n",
      " 71%|███████▏  | 209/293 [01:02<00:25,  3.27it/s]\u001b[A\n",
      " 72%|███████▏  | 210/293 [01:02<00:24,  3.43it/s]\u001b[A\n",
      " 72%|███████▏  | 211/293 [01:02<00:24,  3.30it/s]\u001b[A\n",
      " 72%|███████▏  | 212/293 [01:03<00:24,  3.29it/s]\u001b[A\n",
      " 73%|███████▎  | 213/293 [01:03<00:22,  3.49it/s]\u001b[A\n",
      " 73%|███████▎  | 214/293 [01:03<00:23,  3.42it/s]\u001b[A\n",
      " 73%|███████▎  | 215/293 [01:03<00:22,  3.53it/s]\u001b[A\n",
      " 74%|███████▎  | 216/293 [01:04<00:22,  3.37it/s]\u001b[A\n",
      " 74%|███████▍  | 217/293 [01:04<00:21,  3.56it/s]\u001b[A\n",
      " 74%|███████▍  | 218/293 [01:04<00:20,  3.66it/s]\u001b[A\n",
      " 75%|███████▍  | 219/293 [01:05<00:20,  3.55it/s]\u001b[A\n",
      " 75%|███████▌  | 220/293 [01:05<00:19,  3.68it/s]\u001b[A\n",
      " 75%|███████▌  | 221/293 [01:05<00:20,  3.57it/s]\u001b[A\n",
      " 76%|███████▌  | 222/293 [01:05<00:20,  3.41it/s]\u001b[A\n",
      " 76%|███████▌  | 223/293 [01:06<00:20,  3.45it/s]\u001b[A\n",
      " 76%|███████▋  | 224/293 [01:06<00:21,  3.23it/s]\u001b[A\n",
      " 77%|███████▋  | 225/293 [01:06<00:19,  3.42it/s]\u001b[A\n",
      " 77%|███████▋  | 226/293 [01:07<00:20,  3.25it/s]\u001b[A\n",
      " 77%|███████▋  | 227/293 [01:07<00:19,  3.31it/s]\u001b[A\n",
      " 78%|███████▊  | 228/293 [01:07<00:19,  3.38it/s]\u001b[A\n",
      " 78%|███████▊  | 229/293 [01:08<00:19,  3.29it/s]\u001b[A\n",
      " 78%|███████▊  | 230/293 [01:08<00:18,  3.32it/s]\u001b[A\n",
      " 79%|███████▉  | 231/293 [01:08<00:18,  3.37it/s]\u001b[A\n",
      " 79%|███████▉  | 232/293 [01:08<00:17,  3.45it/s]\u001b[A\n",
      " 80%|███████▉  | 233/293 [01:09<00:21,  2.76it/s]\u001b[A\n",
      " 80%|███████▉  | 234/293 [01:09<00:20,  2.93it/s]\u001b[A\n",
      " 80%|████████  | 235/293 [01:10<00:20,  2.80it/s]\u001b[A\n",
      " 81%|████████  | 236/293 [01:10<00:19,  2.88it/s]\u001b[A\n",
      " 81%|████████  | 237/293 [01:10<00:18,  3.05it/s]\u001b[A\n",
      " 81%|████████  | 238/293 [01:10<00:17,  3.19it/s]\u001b[A\n",
      " 82%|████████▏ | 239/293 [01:11<00:16,  3.19it/s]\u001b[A\n",
      " 82%|████████▏ | 240/293 [01:11<00:17,  3.11it/s]\u001b[A\n",
      " 82%|████████▏ | 241/293 [01:11<00:16,  3.16it/s]\u001b[A\n",
      " 83%|████████▎ | 242/293 [01:12<00:16,  3.12it/s]\u001b[A\n",
      " 83%|████████▎ | 243/293 [01:12<00:15,  3.20it/s]\u001b[A\n",
      " 83%|████████▎ | 244/293 [01:12<00:15,  3.10it/s]\u001b[A\n",
      " 84%|████████▎ | 245/293 [01:13<00:14,  3.39it/s]\u001b[A\n",
      " 84%|████████▍ | 246/293 [01:13<00:14,  3.29it/s]\u001b[A\n",
      " 84%|████████▍ | 247/293 [01:13<00:14,  3.22it/s]\u001b[A\n",
      " 85%|████████▍ | 248/293 [01:14<00:12,  3.49it/s]\u001b[A\n",
      " 85%|████████▍ | 249/293 [01:14<00:12,  3.66it/s]\u001b[A\n",
      " 85%|████████▌ | 250/293 [01:14<00:12,  3.43it/s]\u001b[A\n",
      " 86%|████████▌ | 251/293 [01:14<00:12,  3.39it/s]\u001b[A\n",
      " 86%|████████▌ | 252/293 [01:15<00:11,  3.44it/s]\u001b[A\n",
      " 86%|████████▋ | 253/293 [01:15<00:11,  3.51it/s]\u001b[A\n",
      " 87%|████████▋ | 254/293 [01:15<00:09,  3.93it/s]\u001b[A\n",
      " 87%|████████▋ | 255/293 [01:15<00:10,  3.75it/s]\u001b[A\n",
      " 87%|████████▋ | 256/293 [01:16<00:10,  3.54it/s]\u001b[A\n",
      " 88%|████████▊ | 257/293 [01:16<00:10,  3.50it/s]\u001b[A\n",
      " 88%|████████▊ | 258/293 [01:16<00:09,  3.59it/s]\u001b[A\n",
      " 88%|████████▊ | 259/293 [01:17<00:09,  3.55it/s]\u001b[A\n",
      " 89%|████████▊ | 260/293 [01:17<00:10,  3.04it/s]\u001b[A\n",
      " 89%|████████▉ | 261/293 [01:17<00:09,  3.28it/s]\u001b[A\n",
      " 89%|████████▉ | 262/293 [01:18<00:08,  3.45it/s]\u001b[A\n",
      " 90%|████████▉ | 263/293 [01:18<00:08,  3.42it/s]\u001b[A\n",
      " 90%|█████████ | 264/293 [01:18<00:08,  3.34it/s]\u001b[A\n",
      " 90%|█████████ | 265/293 [01:18<00:08,  3.33it/s]\u001b[A\n",
      " 91%|█████████ | 266/293 [01:19<00:08,  3.34it/s]\u001b[A\n",
      " 91%|█████████ | 267/293 [01:19<00:07,  3.38it/s]\u001b[A\n",
      " 91%|█████████▏| 268/293 [01:19<00:07,  3.39it/s]\u001b[A\n",
      " 92%|█████████▏| 269/293 [01:20<00:07,  3.37it/s]\u001b[A\n",
      " 92%|█████████▏| 270/293 [01:20<00:06,  3.47it/s]\u001b[A\n",
      " 92%|█████████▏| 271/293 [01:20<00:06,  3.38it/s]\u001b[A\n",
      " 93%|█████████▎| 272/293 [01:20<00:06,  3.44it/s]\u001b[A\n",
      " 93%|█████████▎| 273/293 [01:21<00:05,  3.34it/s]\u001b[A\n",
      " 94%|█████████▎| 274/293 [01:21<00:05,  3.31it/s]\u001b[A\n",
      " 94%|█████████▍| 275/293 [01:21<00:05,  3.35it/s]\u001b[A\n",
      " 94%|█████████▍| 276/293 [01:22<00:05,  3.25it/s]\u001b[A\n",
      " 95%|█████████▍| 277/293 [01:22<00:04,  3.29it/s]\u001b[A\n",
      " 95%|█████████▍| 278/293 [01:22<00:04,  3.34it/s]\u001b[A\n",
      " 95%|█████████▌| 279/293 [01:23<00:04,  2.85it/s]\u001b[A\n",
      " 96%|█████████▌| 280/293 [01:23<00:04,  3.02it/s]\u001b[A\n",
      " 96%|█████████▌| 281/293 [01:23<00:03,  3.13it/s]\u001b[A\n",
      " 96%|█████████▌| 282/293 [01:24<00:03,  3.29it/s]\u001b[A\n",
      " 97%|█████████▋| 283/293 [01:24<00:03,  3.20it/s]\u001b[A\n",
      " 97%|█████████▋| 284/293 [01:24<00:02,  3.09it/s]\u001b[A\n",
      " 97%|█████████▋| 285/293 [01:25<00:02,  3.07it/s]\u001b[A\n",
      " 98%|█████████▊| 286/293 [01:25<00:02,  3.06it/s]\u001b[A\n",
      " 98%|█████████▊| 287/293 [01:25<00:01,  3.15it/s]\u001b[A\n",
      " 98%|█████████▊| 288/293 [01:26<00:01,  3.13it/s]\u001b[A\n",
      " 99%|█████████▊| 289/293 [01:26<00:01,  3.48it/s]\u001b[A\n",
      " 99%|█████████▉| 290/293 [01:26<00:00,  3.49it/s]\u001b[A\n",
      " 99%|█████████▉| 291/293 [01:26<00:00,  3.54it/s]\u001b[A\n",
      "100%|█████████▉| 292/293 [01:27<00:00,  3.42it/s]\u001b[A\n",
      "100%|██████████| 293/293 [01:27<00:00,  3.35it/s]\n",
      "\n",
      "  0%|          | 0/98 [00:00<?, ?it/s]\u001b[A\n",
      "  1%|          | 1/98 [00:00<00:20,  4.84it/s]\u001b[A\n",
      "  2%|▏         | 2/98 [00:00<00:18,  5.19it/s]\u001b[A\n",
      "  3%|▎         | 3/98 [00:00<00:19,  4.88it/s]\u001b[A\n",
      "  4%|▍         | 4/98 [00:00<00:17,  5.53it/s]\u001b[A\n",
      "  5%|▌         | 5/98 [00:00<00:15,  6.15it/s]\u001b[A\n",
      "  6%|▌         | 6/98 [00:00<00:14,  6.29it/s]\u001b[A\n",
      "  7%|▋         | 7/98 [00:01<00:13,  6.92it/s]\u001b[A\n",
      "  8%|▊         | 8/98 [00:01<00:13,  6.86it/s]\u001b[A\n",
      "  9%|▉         | 9/98 [00:01<00:13,  6.77it/s]\u001b[A\n",
      " 10%|█         | 10/98 [00:01<00:13,  6.29it/s]\u001b[A\n",
      " 11%|█         | 11/98 [00:01<00:13,  6.52it/s]\u001b[A\n",
      " 12%|█▏        | 12/98 [00:01<00:13,  6.43it/s]\u001b[A\n",
      " 13%|█▎        | 13/98 [00:02<00:12,  6.55it/s]\u001b[A\n",
      " 14%|█▍        | 14/98 [00:02<00:12,  6.61it/s]\u001b[A\n",
      " 15%|█▌        | 15/98 [00:02<00:12,  6.64it/s]\u001b[A\n",
      " 16%|█▋        | 16/98 [00:02<00:11,  7.14it/s]\u001b[A\n",
      " 17%|█▋        | 17/98 [00:02<00:11,  6.80it/s]\u001b[A\n",
      " 18%|█▊        | 18/98 [00:02<00:12,  6.50it/s]\u001b[A\n",
      " 19%|█▉        | 19/98 [00:02<00:13,  5.91it/s]\u001b[A\n",
      " 20%|██        | 20/98 [00:03<00:12,  6.19it/s]\u001b[A\n",
      " 21%|██▏       | 21/98 [00:03<00:11,  6.62it/s]\u001b[A\n",
      " 22%|██▏       | 22/98 [00:03<00:11,  6.67it/s]\u001b[A\n",
      " 23%|██▎       | 23/98 [00:03<00:10,  6.99it/s]\u001b[A\n",
      " 24%|██▍       | 24/98 [00:03<00:10,  7.28it/s]\u001b[A\n",
      " 26%|██▌       | 25/98 [00:03<00:09,  7.39it/s]\u001b[A\n",
      " 27%|██▋       | 26/98 [00:03<00:10,  7.12it/s]\u001b[A\n",
      " 28%|██▊       | 27/98 [00:04<00:09,  7.61it/s]\u001b[A\n",
      " 29%|██▊       | 28/98 [00:04<00:09,  7.17it/s]\u001b[A\n",
      " 30%|██▉       | 29/98 [00:04<00:09,  6.94it/s]\u001b[A\n",
      " 31%|███       | 30/98 [00:04<00:09,  6.99it/s]\u001b[A\n",
      " 32%|███▏      | 31/98 [00:04<00:09,  6.84it/s]\u001b[A\n",
      " 33%|███▎      | 32/98 [00:04<00:09,  7.07it/s]\u001b[A\n",
      " 34%|███▎      | 33/98 [00:04<00:10,  6.41it/s]\u001b[A\n",
      " 35%|███▍      | 34/98 [00:05<00:10,  6.26it/s]\u001b[A\n",
      " 36%|███▌      | 35/98 [00:05<00:10,  6.00it/s]\u001b[A\n",
      " 37%|███▋      | 36/98 [00:05<00:09,  6.30it/s]\u001b[A\n",
      " 38%|███▊      | 37/98 [00:05<00:10,  6.07it/s]\u001b[A\n",
      " 39%|███▉      | 38/98 [00:05<00:09,  6.58it/s]\u001b[A\n",
      " 40%|███▉      | 39/98 [00:05<00:09,  6.49it/s]\u001b[A\n",
      " 41%|████      | 40/98 [00:06<00:08,  6.71it/s]\u001b[A\n",
      " 42%|████▏     | 41/98 [00:06<00:08,  7.10it/s]\u001b[A\n",
      " 44%|████▍     | 43/98 [00:06<00:07,  7.39it/s]\u001b[A\n",
      " 45%|████▍     | 44/98 [00:06<00:06,  7.85it/s]\u001b[A\n",
      " 46%|████▌     | 45/98 [00:06<00:07,  7.47it/s]\u001b[A\n",
      " 47%|████▋     | 46/98 [00:06<00:07,  7.20it/s]\u001b[A\n",
      " 48%|████▊     | 47/98 [00:07<00:08,  6.37it/s]\u001b[A\n",
      " 49%|████▉     | 48/98 [00:07<00:07,  6.53it/s]\u001b[A\n",
      " 50%|█████     | 49/98 [00:07<00:07,  6.91it/s]\u001b[A\n",
      " 51%|█████     | 50/98 [00:07<00:07,  6.77it/s]\u001b[A\n",
      " 52%|█████▏    | 51/98 [00:07<00:06,  6.92it/s]\u001b[A\n",
      " 53%|█████▎    | 52/98 [00:07<00:06,  7.13it/s]\u001b[A\n",
      " 54%|█████▍    | 53/98 [00:07<00:05,  7.58it/s]\u001b[A\n",
      " 55%|█████▌    | 54/98 [00:08<00:06,  7.20it/s]\u001b[A\n",
      " 56%|█████▌    | 55/98 [00:08<00:06,  7.06it/s]\u001b[A\n",
      " 57%|█████▋    | 56/98 [00:08<00:05,  7.72it/s]\u001b[A\n",
      " 58%|█████▊    | 57/98 [00:08<00:05,  7.31it/s]\u001b[A\n",
      " 59%|█████▉    | 58/98 [00:08<00:05,  7.46it/s]\u001b[A\n",
      " 60%|██████    | 59/98 [00:08<00:05,  7.78it/s]\u001b[A\n",
      " 61%|██████    | 60/98 [00:08<00:05,  6.80it/s]\u001b[A\n",
      " 62%|██████▏   | 61/98 [00:08<00:05,  6.76it/s]\u001b[A\n",
      " 63%|██████▎   | 62/98 [00:09<00:05,  6.72it/s]\u001b[A\n",
      " 64%|██████▍   | 63/98 [00:09<00:05,  6.61it/s]\u001b[A\n",
      " 65%|██████▌   | 64/98 [00:09<00:05,  6.77it/s]\u001b[A\n",
      " 66%|██████▋   | 65/98 [00:09<00:04,  6.97it/s]\u001b[A\n",
      " 67%|██████▋   | 66/98 [00:09<00:04,  6.45it/s]\u001b[A\n",
      " 68%|██████▊   | 67/98 [00:09<00:04,  6.60it/s]\u001b[A\n",
      " 69%|██████▉   | 68/98 [00:10<00:04,  6.92it/s]\u001b[A\n",
      " 70%|███████   | 69/98 [00:10<00:04,  6.68it/s]\u001b[A\n",
      " 71%|███████▏  | 70/98 [00:10<00:04,  6.92it/s]\u001b[A\n",
      " 73%|███████▎  | 72/98 [00:10<00:03,  7.59it/s]\u001b[A\n",
      " 74%|███████▍  | 73/98 [00:10<00:03,  7.22it/s]\u001b[A\n",
      " 76%|███████▌  | 74/98 [00:10<00:03,  7.19it/s]\u001b[A\n",
      " 77%|███████▋  | 75/98 [00:10<00:03,  7.44it/s]\u001b[A\n",
      " 78%|███████▊  | 76/98 [00:11<00:03,  6.57it/s]\u001b[A\n",
      " 79%|███████▊  | 77/98 [00:11<00:03,  6.60it/s]\u001b[A\n",
      " 80%|███████▉  | 78/98 [00:11<00:03,  6.52it/s]\u001b[A\n",
      " 81%|████████  | 79/98 [00:11<00:02,  6.91it/s]\u001b[A\n",
      " 82%|████████▏ | 80/98 [00:11<00:02,  6.86it/s]\u001b[A\n",
      " 83%|████████▎ | 81/98 [00:11<00:02,  5.78it/s]\u001b[A\n",
      " 84%|████████▎ | 82/98 [00:12<00:02,  6.32it/s]\u001b[A\n",
      " 85%|████████▍ | 83/98 [00:12<00:02,  6.95it/s]\u001b[A\n",
      " 86%|████████▌ | 84/98 [00:12<00:02,  6.98it/s]\u001b[A\n",
      " 87%|████████▋ | 85/98 [00:12<00:01,  7.39it/s]\u001b[A\n",
      " 88%|████████▊ | 86/98 [00:12<00:01,  7.13it/s]\u001b[A\n",
      " 89%|████████▉ | 87/98 [00:12<00:01,  7.28it/s]\u001b[A\n",
      " 91%|█████████ | 89/98 [00:12<00:01,  7.60it/s]\u001b[A\n",
      " 92%|█████████▏| 90/98 [00:13<00:01,  7.90it/s]\u001b[A\n",
      " 93%|█████████▎| 91/98 [00:13<00:00,  7.13it/s]\u001b[A\n",
      " 94%|█████████▍| 92/98 [00:13<00:00,  7.23it/s]\u001b[A\n",
      " 95%|█████████▍| 93/98 [00:13<00:00,  7.45it/s]\u001b[A\n",
      " 96%|█████████▌| 94/98 [00:13<00:00,  6.73it/s]\u001b[A\n",
      " 97%|█████████▋| 95/98 [00:13<00:00,  6.82it/s]\u001b[A\n",
      " 98%|█████████▊| 96/98 [00:13<00:00,  6.66it/s]\u001b[A\n",
      " 99%|█████████▉| 97/98 [00:14<00:00,  6.66it/s]\u001b[A\n",
      "100%|██████████| 98/98 [00:14<00:00,  6.88it/s]"
     ]
    },
    {
     "name": "stdout",
     "output_type": "stream",
     "text": [
      "Epochs    4 | Train Loss 0.3549 | Train Acc 0.8493 | Test Loss 0.3829 | Test Acc 0.8369\n"
     ]
    },
    {
     "name": "stderr",
     "output_type": "stream",
     "text": [
      "\n"
     ]
    }
   ],
   "source": [
    "epochs = 4\n",
    "for e in range(1, epochs + 1):\n",
    "    train_loss = 0\n",
    "    train_acc = 0\n",
    "    for batch in tqdm(train_loader, leave=True):\n",
    "        x, y, lens = batch\n",
    "        x = x.cuda()\n",
    "        y = y.cuda()\n",
    "        lens = lens.cuda()\n",
    "\n",
    "        (hidden, cell) = model.init_hidden(x.shape[1])\n",
    "        hidden = hidden.to(device)\n",
    "        cell = cell.to(device)\n",
    "        out, (hidden, cell) = model(x, hidden, cell, lens)\n",
    "        loss = criterion(out, y)\n",
    "        optimizer.zero_grad()\n",
    "        loss.backward()\n",
    "        optimizer.step()\n",
    "\n",
    "        train_loss += loss.item()\n",
    "        train_acc += accuracy(out, y)\n",
    "\n",
    "    train_loss /= len(train_loader)\n",
    "    train_acc /= len(train_loader)\n",
    "\n",
    "    test_loss = 0\n",
    "    test_acc = 0\n",
    "    with torch.autograd.set_detect_anomaly(False):\n",
    "        for batch in tqdm(test_loader, leave=True):\n",
    "            x, y, lens = batch\n",
    "            x = x.cuda()\n",
    "            y = y.cuda()\n",
    "            lens = lens.cuda()\n",
    "\n",
    "            (hidden, cell) = model.init_hidden(x.shape[1])\n",
    "            hidden = hidden.to(device)\n",
    "            cell = cell.to(device)\n",
    "            out, (hidden, cell) = model(x, hidden, cell, lens)\n",
    "            loss = criterion(out, y)\n",
    "\n",
    "            test_loss += loss.item()\n",
    "            test_acc += accuracy(out, y)\n",
    "\n",
    "    test_loss /= len(test_loader)\n",
    "    test_acc /= len(test_loader)\n",
    "    \n",
    "    print(\"Epochs {:4} | Train Loss {:.4f} | Train Acc {:.4f} | Test Loss {:.4f} | Test Acc {:.4f}\".format(e, train_loss, train_acc, test_loss, test_acc))"
   ]
  },
  {
   "cell_type": "code",
   "execution_count": 67,
   "metadata": {
    "colab": {
     "base_uri": "https://localhost:8080/",
     "height": 34
    },
    "colab_type": "code",
    "id": "oaluYDq_DsZ8",
    "outputId": "803cec63-0e9e-4098-b206-b5d86fcc9c4d"
   },
   "outputs": [
    {
     "name": "stdout",
     "output_type": "stream",
     "text": [
      "Prediction: positive | Confidence: 0.8579\n"
     ]
    }
   ],
   "source": [
    "model.cpu()\n",
    "\n",
    "test = \"I loved the theater! The play was terrific and the actors were great.\"\n",
    "test = torch.LongTensor(serialize(process(test))).unsqueeze(1)\n",
    "lengths = torch.LongTensor([len(test)])\n",
    "(hidden, cell) = model.init_hidden(1)\n",
    "\n",
    "with torch.autograd.set_detect_anomaly(False):\n",
    "    out, _ = model(test, hidden, cell, lengths)\n",
    "    out = torch.exp(out)\n",
    "    m = torch.max(out, dim=1)\n",
    "    print(\"Prediction: {} | Confidence: {:.4f}\".format(classes[m[1].item()], m[0].item()))"
   ]
  },
  {
   "cell_type": "code",
   "execution_count": 0,
   "metadata": {
    "colab": {},
    "colab_type": "code",
    "id": "wKDSKpOoDsZ9"
   },
   "outputs": [],
   "source": []
  },
  {
   "cell_type": "code",
   "execution_count": 0,
   "metadata": {
    "colab": {},
    "colab_type": "code",
    "id": "Nm99XxxpDsaA"
   },
   "outputs": [],
   "source": []
  },
  {
   "cell_type": "code",
   "execution_count": 0,
   "metadata": {
    "colab": {},
    "colab_type": "code",
    "id": "glRtAlPtDsaD"
   },
   "outputs": [],
   "source": []
  },
  {
   "cell_type": "code",
   "execution_count": 0,
   "metadata": {
    "colab": {},
    "colab_type": "code",
    "id": "Ezv8PeC8DsaG"
   },
   "outputs": [],
   "source": []
  },
  {
   "cell_type": "code",
   "execution_count": 0,
   "metadata": {
    "colab": {},
    "colab_type": "code",
    "id": "bhckDbiTDsaH"
   },
   "outputs": [],
   "source": []
  },
  {
   "cell_type": "code",
   "execution_count": 0,
   "metadata": {
    "colab": {},
    "colab_type": "code",
    "id": "L6CXI4nQDsaK"
   },
   "outputs": [],
   "source": []
  }
 ],
 "metadata": {
  "accelerator": "GPU",
  "colab": {
   "name": "lab7_v2.ipynb",
   "provenance": [],
   "toc_visible": true
  },
  "kernelspec": {
   "display_name": "Python 3",
   "language": "python",
   "name": "python3"
  },
  "language_info": {
   "codemirror_mode": {
    "name": "ipython",
    "version": 3
   },
   "file_extension": ".py",
   "mimetype": "text/x-python",
   "name": "python",
   "nbconvert_exporter": "python",
   "pygments_lexer": "ipython3",
   "version": "3.7.1"
  }
 },
 "nbformat": 4,
 "nbformat_minor": 1
}
